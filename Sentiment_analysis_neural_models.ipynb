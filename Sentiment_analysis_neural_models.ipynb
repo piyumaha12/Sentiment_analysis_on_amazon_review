{
 "cells": [
  {
   "cell_type": "markdown",
   "metadata": {},
   "source": [
    "# Importing Modules"
   ]
  },
  {
   "cell_type": "code",
   "execution_count": 1,
   "metadata": {},
   "outputs": [],
   "source": [
    "import tensorflow as tf\n",
    "import torch\n",
    "import pandas as pd\n",
    "from sklearn.model_selection import train_test_split, GridSearchCV\n",
    "from sklearn.metrics import confusion_matrix, classification_report, f1_score\n",
    "import numpy as np\n",
    "import seaborn as sns\n",
    "import matplotlib.pyplot as plt\n",
    "\n",
    "plt.rcParams['figure.figsize'] = (15,10)\n",
    "plt.rcParams['font.size'] = 13\n",
    "\n",
    "%load_ext tensorboard\n",
    "\n",
    "# rm -rf ./logs/"
   ]
  },
  {
   "cell_type": "code",
   "execution_count": 2,
   "metadata": {},
   "outputs": [],
   "source": [
    "reviews = pd.read_csv('oneplus_labeled_data_oversampled.csv')"
   ]
  },
  {
   "cell_type": "code",
   "execution_count": 3,
   "metadata": {},
   "outputs": [
    {
     "data": {
      "text/plain": [
       "(True, [PhysicalDevice(name='/physical_device:GPU:0', device_type='GPU')])"
      ]
     },
     "execution_count": 3,
     "metadata": {},
     "output_type": "execute_result"
    }
   ],
   "source": [
    "# Checking for GPU support\n",
    "tf.test.is_built_with_cuda(), tf.config.list_physical_devices('GPU')"
   ]
  },
  {
   "cell_type": "markdown",
   "metadata": {},
   "source": [
    "# EDA"
   ]
  },
  {
   "cell_type": "code",
   "execution_count": 4,
   "metadata": {},
   "outputs": [
    {
     "data": {
      "text/html": [
       "<div>\n",
       "<style scoped>\n",
       "    .dataframe tbody tr th:only-of-type {\n",
       "        vertical-align: middle;\n",
       "    }\n",
       "\n",
       "    .dataframe tbody tr th {\n",
       "        vertical-align: top;\n",
       "    }\n",
       "\n",
       "    .dataframe thead th {\n",
       "        text-align: right;\n",
       "    }\n",
       "</style>\n",
       "<table border=\"1\" class=\"dataframe\">\n",
       "  <thead>\n",
       "    <tr style=\"text-align: right;\">\n",
       "      <th></th>\n",
       "      <th>lemmatized</th>\n",
       "      <th>Sentiment</th>\n",
       "    </tr>\n",
       "  </thead>\n",
       "  <tbody>\n",
       "    <tr>\n",
       "      <th>5608</th>\n",
       "      <td>camera bad</td>\n",
       "      <td>Negative</td>\n",
       "    </tr>\n",
       "    <tr>\n",
       "      <th>5609</th>\n",
       "      <td>camera stop work month fast charging isn t wor...</td>\n",
       "      <td>Negative</td>\n",
       "    </tr>\n",
       "    <tr>\n",
       "      <th>5610</th>\n",
       "      <td>set clone app whatsapp doneclone whatsapp pr k...</td>\n",
       "      <td>Negative</td>\n",
       "    </tr>\n",
       "    <tr>\n",
       "      <th>5611</th>\n",
       "      <td>phone lag 22 storage</td>\n",
       "      <td>Negative</td>\n",
       "    </tr>\n",
       "    <tr>\n",
       "      <th>5612</th>\n",
       "      <td>bhai koi bhi plus nord 2 ko mt lena bahut jyad...</td>\n",
       "      <td>Negative</td>\n",
       "    </tr>\n",
       "  </tbody>\n",
       "</table>\n",
       "</div>"
      ],
      "text/plain": [
       "                                             lemmatized Sentiment\n",
       "5608                                         camera bad  Negative\n",
       "5609  camera stop work month fast charging isn t wor...  Negative\n",
       "5610  set clone app whatsapp doneclone whatsapp pr k...  Negative\n",
       "5611                               phone lag 22 storage  Negative\n",
       "5612  bhai koi bhi plus nord 2 ko mt lena bahut jyad...  Negative"
      ]
     },
     "execution_count": 4,
     "metadata": {},
     "output_type": "execute_result"
    }
   ],
   "source": [
    "reviews.tail()"
   ]
  },
  {
   "cell_type": "code",
   "execution_count": 5,
   "metadata": {},
   "outputs": [
    {
     "data": {
      "text/html": [
       "<div>\n",
       "<style scoped>\n",
       "    .dataframe tbody tr th:only-of-type {\n",
       "        vertical-align: middle;\n",
       "    }\n",
       "\n",
       "    .dataframe tbody tr th {\n",
       "        vertical-align: top;\n",
       "    }\n",
       "\n",
       "    .dataframe thead th {\n",
       "        text-align: right;\n",
       "    }\n",
       "</style>\n",
       "<table border=\"1\" class=\"dataframe\">\n",
       "  <thead>\n",
       "    <tr style=\"text-align: right;\">\n",
       "      <th></th>\n",
       "      <th>lemmatized</th>\n",
       "      <th>Sentiment</th>\n",
       "    </tr>\n",
       "  </thead>\n",
       "  <tbody>\n",
       "    <tr>\n",
       "      <th>count</th>\n",
       "      <td>5602</td>\n",
       "      <td>5613</td>\n",
       "    </tr>\n",
       "    <tr>\n",
       "      <th>unique</th>\n",
       "      <td>4687</td>\n",
       "      <td>3</td>\n",
       "    </tr>\n",
       "    <tr>\n",
       "      <th>top</th>\n",
       "      <td>good product</td>\n",
       "      <td>Positive</td>\n",
       "    </tr>\n",
       "    <tr>\n",
       "      <th>freq</th>\n",
       "      <td>12</td>\n",
       "      <td>2024</td>\n",
       "    </tr>\n",
       "  </tbody>\n",
       "</table>\n",
       "</div>"
      ],
      "text/plain": [
       "          lemmatized Sentiment\n",
       "count           5602      5613\n",
       "unique          4687         3\n",
       "top     good product  Positive\n",
       "freq              12      2024"
      ]
     },
     "execution_count": 5,
     "metadata": {},
     "output_type": "execute_result"
    }
   ],
   "source": [
    "reviews.describe()"
   ]
  },
  {
   "cell_type": "code",
   "execution_count": 6,
   "metadata": {},
   "outputs": [
    {
     "data": {
      "text/plain": [
       "lemmatized    11\n",
       "Sentiment      0\n",
       "dtype: int64"
      ]
     },
     "execution_count": 6,
     "metadata": {},
     "output_type": "execute_result"
    }
   ],
   "source": [
    "reviews.isnull().sum()"
   ]
  },
  {
   "cell_type": "code",
   "execution_count": 7,
   "metadata": {},
   "outputs": [],
   "source": [
    "reviews.dropna(inplace= True)\n",
    "reviews.reset_index(inplace = True)\n",
    "reviews.drop('index', axis = 1, inplace = True)"
   ]
  },
  {
   "cell_type": "code",
   "execution_count": 8,
   "metadata": {},
   "outputs": [
    {
     "data": {
      "text/plain": [
       "lemmatized    0\n",
       "Sentiment     0\n",
       "dtype: int64"
      ]
     },
     "execution_count": 8,
     "metadata": {},
     "output_type": "execute_result"
    }
   ],
   "source": [
    "reviews.isnull().sum()"
   ]
  },
  {
   "cell_type": "code",
   "execution_count": 9,
   "metadata": {},
   "outputs": [
    {
     "data": {
      "text/html": [
       "<div>\n",
       "<style scoped>\n",
       "    .dataframe tbody tr th:only-of-type {\n",
       "        vertical-align: middle;\n",
       "    }\n",
       "\n",
       "    .dataframe tbody tr th {\n",
       "        vertical-align: top;\n",
       "    }\n",
       "\n",
       "    .dataframe thead th {\n",
       "        text-align: right;\n",
       "    }\n",
       "</style>\n",
       "<table border=\"1\" class=\"dataframe\">\n",
       "  <thead>\n",
       "    <tr style=\"text-align: right;\">\n",
       "      <th></th>\n",
       "      <th>lemmatized</th>\n",
       "      <th>Sentiment</th>\n",
       "    </tr>\n",
       "  </thead>\n",
       "  <tbody>\n",
       "    <tr>\n",
       "      <th>5597</th>\n",
       "      <td>camera bad</td>\n",
       "      <td>Negative</td>\n",
       "    </tr>\n",
       "    <tr>\n",
       "      <th>5598</th>\n",
       "      <td>camera stop work month fast charging isn t wor...</td>\n",
       "      <td>Negative</td>\n",
       "    </tr>\n",
       "    <tr>\n",
       "      <th>5599</th>\n",
       "      <td>set clone app whatsapp doneclone whatsapp pr k...</td>\n",
       "      <td>Negative</td>\n",
       "    </tr>\n",
       "    <tr>\n",
       "      <th>5600</th>\n",
       "      <td>phone lag 22 storage</td>\n",
       "      <td>Negative</td>\n",
       "    </tr>\n",
       "    <tr>\n",
       "      <th>5601</th>\n",
       "      <td>bhai koi bhi plus nord 2 ko mt lena bahut jyad...</td>\n",
       "      <td>Negative</td>\n",
       "    </tr>\n",
       "  </tbody>\n",
       "</table>\n",
       "</div>"
      ],
      "text/plain": [
       "                                             lemmatized Sentiment\n",
       "5597                                         camera bad  Negative\n",
       "5598  camera stop work month fast charging isn t wor...  Negative\n",
       "5599  set clone app whatsapp doneclone whatsapp pr k...  Negative\n",
       "5600                               phone lag 22 storage  Negative\n",
       "5601  bhai koi bhi plus nord 2 ko mt lena bahut jyad...  Negative"
      ]
     },
     "execution_count": 9,
     "metadata": {},
     "output_type": "execute_result"
    }
   ],
   "source": [
    "reviews.tail()"
   ]
  },
  {
   "cell_type": "code",
   "execution_count": 10,
   "metadata": {},
   "outputs": [
    {
     "data": {
      "text/plain": [
       "<AxesSubplot:xlabel='Sentiment', ylabel='count'>"
      ]
     },
     "execution_count": 10,
     "metadata": {},
     "output_type": "execute_result"
    },
    {
     "data": {
      "image/png": "[encoded data removed]",
      "text/plain": [
       "<Figure size 1080x720 with 1 Axes>"
      ]
     },
     "metadata": {
      "needs_background": "light"
     },
     "output_type": "display_data"
    }
   ],
   "source": [
    "sns.countplot(x = reviews['Sentiment'])"
   ]
  },
  {
   "cell_type": "code",
   "execution_count": 11,
   "metadata": {},
   "outputs": [
    {
     "data": {
      "text/plain": [
       "915"
      ]
     },
     "execution_count": 11,
     "metadata": {},
     "output_type": "execute_result"
    }
   ],
   "source": [
    "reviews.duplicated().sum()"
   ]
  },
  {
   "cell_type": "code",
   "execution_count": 12,
   "metadata": {},
   "outputs": [
    {
     "data": {
      "text/plain": [
       "<AxesSubplot:xlabel='Sentiment', ylabel='count'>"
      ]
     },
     "execution_count": 12,
     "metadata": {},
     "output_type": "execute_result"
    },
    {
     "data": {
      "image/png": "[encoded data removed]",
      "text/plain": [
       "<Figure size 576x360 with 1 Axes>"
      ]
     },
     "metadata": {
      "needs_background": "light"
     },
     "output_type": "display_data"
    }
   ],
   "source": [
    "plt.figure(figsize= (8,5))\n",
    "sns.countplot(x= reviews['Sentiment'][reviews.duplicated()])"
   ]
  },
  {
   "cell_type": "code",
   "execution_count": 13,
   "metadata": {},
   "outputs": [],
   "source": [
    "reviews_1 = reviews.copy()"
   ]
  },
  {
   "cell_type": "markdown",
   "metadata": {},
   "source": [
    "## Label encoding"
   ]
  },
  {
   "cell_type": "code",
   "execution_count": 14,
   "metadata": {},
   "outputs": [],
   "source": [
    "def encoding_labels(dataframe, column_name):\n",
    "    unique_labels = list(dataframe[column_name].unique())\n",
    "    unique_labels.sort()\n",
    "    encode_dict = dict(zip(unique_labels, range(len(unique_labels))))\n",
    "    dataframe[column_name] = dataframe[column_name].map(encode_dict)\n",
    "    return encode_dict"
   ]
  },
  {
   "cell_type": "code",
   "execution_count": 15,
   "metadata": {},
   "outputs": [
    {
     "data": {
      "text/plain": [
       "{'Negative': 0, 'Neutral': 1, 'Positive': 2}"
      ]
     },
     "execution_count": 15,
     "metadata": {},
     "output_type": "execute_result"
    }
   ],
   "source": [
    "label_encode_dict = encoding_labels(reviews_1, 'Sentiment')\n",
    "label_encode_dict"
   ]
  },
  {
   "cell_type": "code",
   "execution_count": 16,
   "metadata": {},
   "outputs": [
    {
     "data": {
      "text/html": [
       "<div>\n",
       "<style scoped>\n",
       "    .dataframe tbody tr th:only-of-type {\n",
       "        vertical-align: middle;\n",
       "    }\n",
       "\n",
       "    .dataframe tbody tr th {\n",
       "        vertical-align: top;\n",
       "    }\n",
       "\n",
       "    .dataframe thead th {\n",
       "        text-align: right;\n",
       "    }\n",
       "</style>\n",
       "<table border=\"1\" class=\"dataframe\">\n",
       "  <thead>\n",
       "    <tr style=\"text-align: right;\">\n",
       "      <th></th>\n",
       "      <th>lemmatized</th>\n",
       "      <th>Sentiment</th>\n",
       "    </tr>\n",
       "  </thead>\n",
       "  <tbody>\n",
       "    <tr>\n",
       "      <th>0</th>\n",
       "      <td>review give 24 hrs l find amazing 10 day usage...</td>\n",
       "      <td>1</td>\n",
       "    </tr>\n",
       "    <tr>\n",
       "      <th>1</th>\n",
       "      <td>like tell win t give technical review like ytu...</td>\n",
       "      <td>2</td>\n",
       "    </tr>\n",
       "    <tr>\n",
       "      <th>2</th>\n",
       "      <td>receive unit 4 hr ago think 1 feel sturdy prem...</td>\n",
       "      <td>2</td>\n",
       "    </tr>\n",
       "    <tr>\n",
       "      <th>3</th>\n",
       "      <td>get oneplus nord 2 5 g phone deliver yesterday...</td>\n",
       "      <td>1</td>\n",
       "    </tr>\n",
       "    <tr>\n",
       "      <th>4</th>\n",
       "      <td>7 28 receive yesterday impression look feel gr...</td>\n",
       "      <td>0</td>\n",
       "    </tr>\n",
       "    <tr>\n",
       "      <th>...</th>\n",
       "      <td>...</td>\n",
       "      <td>...</td>\n",
       "    </tr>\n",
       "    <tr>\n",
       "      <th>5597</th>\n",
       "      <td>camera bad</td>\n",
       "      <td>0</td>\n",
       "    </tr>\n",
       "    <tr>\n",
       "      <th>5598</th>\n",
       "      <td>camera stop work month fast charging isn t wor...</td>\n",
       "      <td>0</td>\n",
       "    </tr>\n",
       "    <tr>\n",
       "      <th>5599</th>\n",
       "      <td>set clone app whatsapp doneclone whatsapp pr k...</td>\n",
       "      <td>0</td>\n",
       "    </tr>\n",
       "    <tr>\n",
       "      <th>5600</th>\n",
       "      <td>phone lag 22 storage</td>\n",
       "      <td>0</td>\n",
       "    </tr>\n",
       "    <tr>\n",
       "      <th>5601</th>\n",
       "      <td>bhai koi bhi plus nord 2 ko mt lena bahut jyad...</td>\n",
       "      <td>0</td>\n",
       "    </tr>\n",
       "  </tbody>\n",
       "</table>\n",
       "<p>5602 rows × 2 columns</p>\n",
       "</div>"
      ],
      "text/plain": [
       "                                             lemmatized  Sentiment\n",
       "0     review give 24 hrs l find amazing 10 day usage...          1\n",
       "1     like tell win t give technical review like ytu...          2\n",
       "2     receive unit 4 hr ago think 1 feel sturdy prem...          2\n",
       "3     get oneplus nord 2 5 g phone deliver yesterday...          1\n",
       "4     7 28 receive yesterday impression look feel gr...          0\n",
       "...                                                 ...        ...\n",
       "5597                                         camera bad          0\n",
       "5598  camera stop work month fast charging isn t wor...          0\n",
       "5599  set clone app whatsapp doneclone whatsapp pr k...          0\n",
       "5600                               phone lag 22 storage          0\n",
       "5601  bhai koi bhi plus nord 2 ko mt lena bahut jyad...          0\n",
       "\n",
       "[5602 rows x 2 columns]"
      ]
     },
     "execution_count": 16,
     "metadata": {},
     "output_type": "execute_result"
    }
   ],
   "source": [
    "reviews_1"
   ]
  },
  {
   "cell_type": "markdown",
   "metadata": {},
   "source": [
    "# Train-test_split"
   ]
  },
  {
   "cell_type": "code",
   "execution_count": 17,
   "metadata": {},
   "outputs": [],
   "source": [
    "x_train, x_test, y_train, y_test = train_test_split(reviews_1['lemmatized'], reviews_1['Sentiment'], test_size= 0.2)\n",
    "x_train, x_val, y_train, y_val = train_test_split(x_train, y_train, test_size= 0.25)"
   ]
  },
  {
   "cell_type": "code",
   "execution_count": 18,
   "metadata": {},
   "outputs": [
    {
     "data": {
      "text/plain": [
       "((3360,), (1121,), (1121,))"
      ]
     },
     "execution_count": 18,
     "metadata": {},
     "output_type": "execute_result"
    }
   ],
   "source": [
    "x_train.shape, x_val.shape, x_test.shape"
   ]
  },
  {
   "cell_type": "code",
   "execution_count": 19,
   "metadata": {},
   "outputs": [],
   "source": [
    "y = reviews_1['Sentiment']"
   ]
  },
  {
   "cell_type": "code",
   "execution_count": 20,
   "metadata": {},
   "outputs": [
    {
     "data": {
      "text/plain": [
       "0       1\n",
       "1       2\n",
       "2       2\n",
       "3       1\n",
       "4       0\n",
       "       ..\n",
       "5597    0\n",
       "5598    0\n",
       "5599    0\n",
       "5600    0\n",
       "5601    0\n",
       "Name: Sentiment, Length: 5602, dtype: int64"
      ]
     },
     "execution_count": 20,
     "metadata": {},
     "output_type": "execute_result"
    }
   ],
   "source": [
    "y"
   ]
  },
  {
   "cell_type": "markdown",
   "metadata": {},
   "source": [
    "# User defined Function"
   ]
  },
  {
   "cell_type": "code",
   "execution_count": 21,
   "metadata": {},
   "outputs": [],
   "source": [
    "def confusion_metrix_plot(x,y, model):\n",
    "    ticks = ['Negative', 'Neutral', 'Positive']\n",
    "    y_predict = np.argmax(model.predict(x), axis = 1)\n",
    "    conf_table = confusion_matrix(y, y_predict)\n",
    "    plt.figure(figsize = (8,5))\n",
    "    sns.heatmap(conf_table, annot= True, fmt= 'd',cmap= sns.dark_palette('purple'),\n",
    "        xticklabels= ticks, yticklabels= ticks, )\n",
    "    plt.xlabel('Prediction', fontsize= 16)\n",
    "    plt.ylabel('Correct Values', fontsize= 16)\n",
    "    print('\\n', classification_report(y, y_predict))"
   ]
  },
  {
   "cell_type": "markdown",
   "metadata": {},
   "source": [
    "# Tensorflow Models"
   ]
  },
  {
   "cell_type": "markdown",
   "metadata": {},
   "source": [
    "## Import"
   ]
  },
  {
   "cell_type": "code",
   "execution_count": 22,
   "metadata": {},
   "outputs": [],
   "source": [
    "from keras.preprocessing.text import one_hot\n",
    "from tensorflow.keras.preprocessing.sequence import pad_sequences\n",
    "# from keras.models import Sequential\n",
    "from tensorflow.keras.models import Sequential\n",
    "from tensorflow.keras.layers import Dense, Flatten, SimpleRNN, RNN\n",
    "from tensorflow.keras.layers import Dropout, Normalization\n",
    "# from keras.layers import Flatten\n",
    "# from keras.layers.recurrent import SimpleRNN\n",
    "\n",
    "from tensorflow.keras.layers import Embedding, GRU, LSTM, Bidirectional\n",
    "# from keras.layers import LSTM\n",
    "\n",
    "from tensorflow.keras import layers\n",
    "from tensorflow.keras.layers import TextVectorization\n",
    "import datetime\n",
    "from keras.models import load_model"
   ]
  },
  {
   "cell_type": "code",
   "execution_count": 23,
   "metadata": {},
   "outputs": [],
   "source": [
    "PATH = 'Model_files/'"
   ]
  },
  {
   "cell_type": "markdown",
   "metadata": {},
   "source": [
    "## Base Model"
   ]
  },
  {
   "cell_type": "markdown",
   "metadata": {},
   "source": [
    "As usual first we convert texts in numbers, but in neural network we do this two times.\n",
    "1. for just representation (Tokenizer)\n",
    "2. The word embedding which will be trained along model.\n",
    "\n",
    "Remember that there is no logic or relations in tokenizer, they are just a numbers like label encoding"
   ]
  },
  {
   "cell_type": "markdown",
   "metadata": {},
   "source": [
    "### Tokenizer"
   ]
  },
  {
   "cell_type": "code",
   "execution_count": 24,
   "metadata": {},
   "outputs": [],
   "source": [
    "tokenizer = tf.keras.preprocessing.text.Tokenizer(num_words= 7500)\n",
    "tokenizer.fit_on_texts(reviews_1['lemmatized'])\n",
    "encoded_reviews = tokenizer.texts_to_sequences(reviews_1['lemmatized'])"
   ]
  },
  {
   "cell_type": "code",
   "execution_count": 25,
   "metadata": {},
   "outputs": [
    {
     "data": {
      "text/plain": [
       "2"
      ]
     },
     "execution_count": 25,
     "metadata": {},
     "output_type": "execute_result"
    }
   ],
   "source": [
    "tokenizer.word_index['good']"
   ]
  },
  {
   "cell_type": "code",
   "execution_count": 26,
   "metadata": {},
   "outputs": [],
   "source": [
    "textvectorizer = TextVectorization(max_tokens= 7500, output_sequence_length= 150)\n",
    "textvectorizer.adapt(x_train)"
   ]
  },
  {
   "cell_type": "code",
   "execution_count": 27,
   "metadata": {},
   "outputs": [
    {
     "data": {
      "text/plain": [
       "<keras.layers.preprocessing.text_vectorization.TextVectorization at 0x262aca88280>"
      ]
     },
     "execution_count": 27,
     "metadata": {},
     "output_type": "execute_result"
    }
   ],
   "source": [
    "textvectorizer"
   ]
  },
  {
   "cell_type": "code",
   "execution_count": 28,
   "metadata": {},
   "outputs": [
    {
     "data": {
      "text/plain": [
       "['',\n",
       " '[UNK]',\n",
       " 'phone',\n",
       " 'good',\n",
       " 'camera',\n",
       " 'battery',\n",
       " '2',\n",
       " 't',\n",
       " 'quality',\n",
       " 'charge',\n",
       " 's',\n",
       " 'oneplus',\n",
       " 'issue',\n",
       " 'buy',\n",
       " '5',\n",
       " 'fast',\n",
       " 'day',\n",
       " 'mobile',\n",
       " 'bad',\n",
       " 'nord',\n",
       " 'plus',\n",
       " 'like',\n",
       " '1',\n",
       " '3',\n",
       " 'performance',\n",
       " 'time',\n",
       " 'use',\n",
       " 'work',\n",
       " 'app',\n",
       " 'life',\n",
       " 'product',\n",
       " '4',\n",
       " 'problem',\n",
       " 'don',\n",
       " 'heating',\n",
       " 'well',\n",
       " 'drain',\n",
       " 'feel',\n",
       " 'price',\n",
       " 'k',\n",
       " 'display',\n",
       " '30',\n",
       " 'get',\n",
       " 'heat',\n",
       " 'great',\n",
       " 'overall',\n",
       " 'experience',\n",
       " 'screen',\n",
       " 'device',\n",
       " 'money',\n",
       " 'look',\n",
       " 'os',\n",
       " 'update',\n",
       " 'awesome',\n",
       " '10',\n",
       " 'usage',\n",
       " 'video',\n",
       " 'amazon',\n",
       " 'feature',\n",
       " 'month',\n",
       " 'review',\n",
       " '6',\n",
       " 'min',\n",
       " 'm',\n",
       " 'need',\n",
       " 'nice',\n",
       " 'user',\n",
       " 'purchase',\n",
       " 'thing',\n",
       " 'smooth',\n",
       " 'hang',\n",
       " 'face',\n",
       " 'backup',\n",
       " 'give',\n",
       " 'poor',\n",
       " 'range',\n",
       " 'software',\n",
       " 'service',\n",
       " 'lot',\n",
       " 'expect',\n",
       " 'speed',\n",
       " 'come',\n",
       " 'normal',\n",
       " 'return',\n",
       " 'fingerprint',\n",
       " 'hour',\n",
       " '8',\n",
       " 'average',\n",
       " 'charger',\n",
       " 'premium',\n",
       " '7',\n",
       " 'worth',\n",
       " 'mode',\n",
       " 'pro',\n",
       " 'want',\n",
       " 'game',\n",
       " 'u',\n",
       " 'amazing',\n",
       " 'not',\n",
       " '20',\n",
       " 'think',\n",
       " 'take',\n",
       " 'speaker',\n",
       " 'gb',\n",
       " 'excellent',\n",
       " 'go',\n",
       " '100',\n",
       " 'play',\n",
       " 'low',\n",
       " 'hz',\n",
       " 'ok',\n",
       " 'waste',\n",
       " 'disappointed',\n",
       " 'sound',\n",
       " 'brand',\n",
       " 'charging',\n",
       " 'lag',\n",
       " 'ui',\n",
       " 'bit',\n",
       " '90',\n",
       " 'night',\n",
       " 'start',\n",
       " 'doesn',\n",
       " '15',\n",
       " 'super',\n",
       " 'value',\n",
       " 'oxygen',\n",
       " 'bug',\n",
       " 'find',\n",
       " 'sensor',\n",
       " 'new',\n",
       " 'minute',\n",
       " 'call',\n",
       " 'high',\n",
       " 'photo',\n",
       " 'little',\n",
       " 'light',\n",
       " '9',\n",
       " 'processor',\n",
       " 'oppo',\n",
       " 'rate',\n",
       " 'heavy',\n",
       " 'gaming',\n",
       " 'color',\n",
       " 'finger',\n",
       " 'compare',\n",
       " 'build',\n",
       " 'slow',\n",
       " 'automatically',\n",
       " 'g',\n",
       " 'flagship',\n",
       " 'know',\n",
       " 'mark',\n",
       " '12',\n",
       " 'pretty',\n",
       " 'hai',\n",
       " 'selfie',\n",
       " 'hand',\n",
       " 'year',\n",
       " '65',\n",
       " 'receive',\n",
       " 'touch',\n",
       " 'didn',\n",
       " 'long',\n",
       " 'superb',\n",
       " 'try',\n",
       " 'record',\n",
       " 'print',\n",
       " 'love',\n",
       " 'properly',\n",
       " 'point',\n",
       " 'option',\n",
       " 'hrs',\n",
       " 'picture',\n",
       " 'refresh',\n",
       " 'open',\n",
       " 'network',\n",
       " 'week',\n",
       " 'replace',\n",
       " 'provide',\n",
       " 'disappoint',\n",
       " 'blast',\n",
       " '0',\n",
       " 'upto',\n",
       " 'switch',\n",
       " 'main',\n",
       " 'jack',\n",
       " 'happy',\n",
       " 'fine',\n",
       " 'decent',\n",
       " 'con',\n",
       " 'perfect',\n",
       " 'fix',\n",
       " 'say',\n",
       " 'satisfied',\n",
       " 'close',\n",
       " 'replacement',\n",
       " 'recommend',\n",
       " 'design',\n",
       " 'samsung',\n",
       " 'change',\n",
       " 'big',\n",
       " 'pathetic',\n",
       " 'getting',\n",
       " 'colour',\n",
       " 'gets',\n",
       " 'budget',\n",
       " 'miss',\n",
       " 'mp',\n",
       " 'customer',\n",
       " 'support',\n",
       " 'reader',\n",
       " 'expectation',\n",
       " 'far',\n",
       " 'make',\n",
       " 'stop',\n",
       " 'h',\n",
       " 'write',\n",
       " 'show',\n",
       " 'rear',\n",
       " 'ram',\n",
       " 'smartphone',\n",
       " 'see',\n",
       " 'old',\n",
       " 'click',\n",
       " '1200',\n",
       " 'w',\n",
       " 've',\n",
       " 'iphone',\n",
       " 'image',\n",
       " 'clear',\n",
       " '25',\n",
       " 'run',\n",
       " 'restart',\n",
       " 'quickly',\n",
       " '35',\n",
       " 'whatsapp',\n",
       " 'till',\n",
       " 'thank',\n",
       " 'suggest',\n",
       " 'have',\n",
       " 'people',\n",
       " 'google',\n",
       " 'segment',\n",
       " 'major',\n",
       " 'hope',\n",
       " 'definitely',\n",
       " 'check',\n",
       " 'android',\n",
       " 'ask',\n",
       " 'application',\n",
       " '40',\n",
       " 'notification',\n",
       " 'cover',\n",
       " '50',\n",
       " 'clean',\n",
       " 'box',\n",
       " '120',\n",
       " 'unlock',\n",
       " 'exchange',\n",
       " 'totally',\n",
       " 'realme',\n",
       " 'improve',\n",
       " 'fully',\n",
       " 'case',\n",
       " 'available',\n",
       " 'win',\n",
       " 'sim',\n",
       " 'second',\n",
       " 'regret',\n",
       " 'refund',\n",
       " 'recording',\n",
       " 'll',\n",
       " 'gamer',\n",
       " 'last',\n",
       " 'daily',\n",
       " 'audio',\n",
       " 'way',\n",
       " 'model',\n",
       " 'hear',\n",
       " 'guy',\n",
       " 'glass',\n",
       " 'crash',\n",
       " 'setting',\n",
       " 'storage',\n",
       " 'pay',\n",
       " 'contact',\n",
       " 'auto',\n",
       " 'loud',\n",
       " 'headphone',\n",
       " 'dimensity',\n",
       " 'company',\n",
       " 'x',\n",
       " 'warp',\n",
       " 'mm',\n",
       " 'handset',\n",
       " 'consider',\n",
       " 'clone',\n",
       " 'cam',\n",
       " 'brightness',\n",
       " 'actually',\n",
       " 'type',\n",
       " 'solve',\n",
       " 'set',\n",
       " 'series',\n",
       " 'request',\n",
       " 'previous',\n",
       " 'news',\n",
       " 'hot',\n",
       " 'quick',\n",
       " 'plz',\n",
       " 'order',\n",
       " 'n',\n",
       " 'music',\n",
       " 'mi',\n",
       " 'center',\n",
       " 'add',\n",
       " 'sure',\n",
       " 'r',\n",
       " 'notice',\n",
       " 'half',\n",
       " 'able',\n",
       " 'upgrade',\n",
       " 'rest',\n",
       " 'poco',\n",
       " 'perform',\n",
       " 'finally',\n",
       " 'easily',\n",
       " 'drop',\n",
       " 'twice',\n",
       " 'team',\n",
       " 'resolve',\n",
       " 'power',\n",
       " 'mind',\n",
       " 'help',\n",
       " 'etc',\n",
       " 'delivery',\n",
       " 'datum',\n",
       " 'cheap',\n",
       " 'care',\n",
       " '30000',\n",
       " 'youtube',\n",
       " 'watch',\n",
       " 'star',\n",
       " 'response',\n",
       " 'okay',\n",
       " 'lock',\n",
       " 'happen',\n",
       " 'early',\n",
       " 'dual',\n",
       " 'dialer',\n",
       " 'tell',\n",
       " 'hold',\n",
       " 'extremely',\n",
       " 'blue',\n",
       " 'wide',\n",
       " 'th',\n",
       " 'real',\n",
       " 'read',\n",
       " 'person',\n",
       " 'message',\n",
       " 'mean',\n",
       " 'mah',\n",
       " 'keep',\n",
       " 'ho',\n",
       " 'haptic',\n",
       " 'fan',\n",
       " 'cost',\n",
       " 'amole',\n",
       " '60',\n",
       " 'wifi',\n",
       " 'soon',\n",
       " 'small',\n",
       " 'scanner',\n",
       " 'nd',\n",
       " 'killer',\n",
       " 'handy',\n",
       " 'future',\n",
       " 'turn',\n",
       " 'sell',\n",
       " 'pic',\n",
       " 'function',\n",
       " 'fps',\n",
       " 'condition',\n",
       " 'complete',\n",
       " 'centre',\n",
       " 'bright',\n",
       " 'voice',\n",
       " 'right',\n",
       " 'note',\n",
       " 'improvement',\n",
       " 'free',\n",
       " 'especially',\n",
       " 'deliver',\n",
       " 'connect',\n",
       " 'complaint',\n",
       " 'class',\n",
       " 'button',\n",
       " '256',\n",
       " 'weight',\n",
       " 'stereo',\n",
       " 'pubg',\n",
       " 'permission',\n",
       " 'negative',\n",
       " 'market',\n",
       " 'got',\n",
       " 'easy',\n",
       " 'disappointing',\n",
       " 'bgmi',\n",
       " 'trust',\n",
       " 'st',\n",
       " 'require',\n",
       " 'card',\n",
       " 'bluetooth',\n",
       " 'blow',\n",
       " 'ai',\n",
       " 'wise',\n",
       " 'wait',\n",
       " 'reason',\n",
       " 'mediatek',\n",
       " 'level',\n",
       " 'let',\n",
       " 'kind',\n",
       " 'ke',\n",
       " 'instead',\n",
       " 'frame',\n",
       " 'f',\n",
       " 'connectivity',\n",
       " 'choice',\n",
       " 'yes',\n",
       " 'warm',\n",
       " 'ur',\n",
       " 'today',\n",
       " 'spend',\n",
       " 'primary',\n",
       " 'overheat',\n",
       " 'lose',\n",
       " 'isn',\n",
       " 'cool',\n",
       " 'chinese',\n",
       " 'angle',\n",
       " '4500',\n",
       " 'watt',\n",
       " 'volume',\n",
       " 'version',\n",
       " 'smoothly',\n",
       " 'single',\n",
       " 'rs',\n",
       " 'plastic',\n",
       " 'package',\n",
       " 'op',\n",
       " 'offer',\n",
       " 'mention',\n",
       " 'launch',\n",
       " 'difference',\n",
       " 'defect',\n",
       " 'deal',\n",
       " 'choose',\n",
       " 'c',\n",
       " '32',\n",
       " '128',\n",
       " 'vivo',\n",
       " 'true',\n",
       " 'superfast',\n",
       " 'specially',\n",
       " 'size',\n",
       " 'reduce',\n",
       " 'multiple',\n",
       " 'irritate',\n",
       " 'interface',\n",
       " 'hardware',\n",
       " 'file',\n",
       " 'end',\n",
       " 'download',\n",
       " 'doubt',\n",
       " 'completely',\n",
       " 'clarity',\n",
       " '24',\n",
       " 'term',\n",
       " 'scratch',\n",
       " 'save',\n",
       " 'redmi',\n",
       " 'proper',\n",
       " 'place',\n",
       " 'koi',\n",
       " 'highly',\n",
       " 'hardly',\n",
       " 'temperature',\n",
       " 'se',\n",
       " 'sd',\n",
       " 'sale',\n",
       " 'rating',\n",
       " 'medium',\n",
       " 'lack',\n",
       " 'internet',\n",
       " 'impressive',\n",
       " 'hi',\n",
       " 'hdr',\n",
       " 'grey',\n",
       " 'green',\n",
       " 'feedback',\n",
       " 'earphone',\n",
       " 'detail',\n",
       " 'd',\n",
       " 'continue',\n",
       " 'attach',\n",
       " 'apart',\n",
       " '2021',\n",
       " '11',\n",
       " 'visit',\n",
       " 'ultra',\n",
       " 'test',\n",
       " 'technician',\n",
       " 'talk',\n",
       " 'simply',\n",
       " 'regular',\n",
       " 'policy',\n",
       " 'late',\n",
       " 'huge',\n",
       " 'hr',\n",
       " 'hit',\n",
       " 'hard',\n",
       " 'glitch',\n",
       " 'fantastic',\n",
       " 'decision',\n",
       " 'date',\n",
       " 'capacity',\n",
       " 'camara',\n",
       " 'bring',\n",
       " 'bhi',\n",
       " 'atleast',\n",
       " 'absolutely',\n",
       " 'zoom',\n",
       " 'worst',\n",
       " 'resolution',\n",
       " 'impressed',\n",
       " 'friend',\n",
       " 'frequently',\n",
       " 'extra',\n",
       " 'discharge',\n",
       " 'defective',\n",
       " 'complain',\n",
       " 'carry',\n",
       " 'capture',\n",
       " 'band',\n",
       " 'worry',\n",
       " 'useless',\n",
       " 'system',\n",
       " 'specification',\n",
       " 'slightly',\n",
       " 'shot',\n",
       " 'recorder',\n",
       " 'post',\n",
       " 'near',\n",
       " 'matter',\n",
       " 'load',\n",
       " 'india',\n",
       " 'important',\n",
       " 'haven',\n",
       " 'gallery',\n",
       " 'damage',\n",
       " 'body',\n",
       " 'bloatware',\n",
       " 'beast',\n",
       " 'avoid',\n",
       " 'alert',\n",
       " 'word',\n",
       " 'store',\n",
       " 'result',\n",
       " 'raise',\n",
       " 'purpose',\n",
       " 'processing',\n",
       " 'plan',\n",
       " 'pixel',\n",
       " 'observe',\n",
       " 'number',\n",
       " 'maybe',\n",
       " 'increase',\n",
       " 'include',\n",
       " 'honest',\n",
       " 'hanging',\n",
       " 'focus',\n",
       " 'continuous',\n",
       " 'believe',\n",
       " 'beautiful',\n",
       " 'aspect',\n",
       " 'zero',\n",
       " 'spec',\n",
       " 'similar',\n",
       " 'short',\n",
       " 'security',\n",
       " 'rounder',\n",
       " 'remove',\n",
       " 'rd',\n",
       " 'phn',\n",
       " 'outstanding',\n",
       " 'memory',\n",
       " 'meet',\n",
       " 'max',\n",
       " 'job',\n",
       " 'instal',\n",
       " 'hype',\n",
       " 'handle',\n",
       " 'fool',\n",
       " 'factor',\n",
       " 'explode',\n",
       " 'drainage',\n",
       " 'different',\n",
       " 'decide',\n",
       " 'costly',\n",
       " 'comparison',\n",
       " 'black',\n",
       " 'base',\n",
       " 'bahut',\n",
       " 'variant',\n",
       " 'understand',\n",
       " 'sunlight',\n",
       " 'stock',\n",
       " 'stand',\n",
       " 'speak',\n",
       " 'slider',\n",
       " 'personally',\n",
       " 'outdoor',\n",
       " 'ois',\n",
       " 'notch',\n",
       " 'minor',\n",
       " 'mid',\n",
       " 'management',\n",
       " 'live',\n",
       " 'indoor',\n",
       " 'discount',\n",
       " 'default',\n",
       " 'batter',\n",
       " 'basic',\n",
       " 'wrong',\n",
       " 'total',\n",
       " 'task',\n",
       " 'suck',\n",
       " 'stick',\n",
       " 'sony',\n",
       " 'slot',\n",
       " 'shut',\n",
       " 'seriously',\n",
       " 'report',\n",
       " 'prime',\n",
       " 'portrait',\n",
       " 'period',\n",
       " 'party',\n",
       " 'nhi',\n",
       " 'moderate',\n",
       " 'lover',\n",
       " 'iqoo',\n",
       " 'hell',\n",
       " 'hd',\n",
       " 'gt',\n",
       " 'flash',\n",
       " 'fail',\n",
       " 'explosion',\n",
       " 'error',\n",
       " 'concern',\n",
       " 'cheat',\n",
       " 'august',\n",
       " 'worried',\n",
       " 'wonderful',\n",
       " 'unable',\n",
       " 'suddenly',\n",
       " 'smart',\n",
       " 'signal',\n",
       " 'share',\n",
       " 'send',\n",
       " 'search',\n",
       " 'reset',\n",
       " 'remain',\n",
       " 'process',\n",
       " 'pls',\n",
       " 'photography',\n",
       " 'past',\n",
       " 'par',\n",
       " 'nahi',\n",
       " 'listen',\n",
       " 'leave',\n",
       " 'ki',\n",
       " 'ka',\n",
       " 'follow',\n",
       " 'fill',\n",
       " 'edit',\n",
       " 'dislike',\n",
       " 'butter',\n",
       " 'badly',\n",
       " 'afraid',\n",
       " 'accord',\n",
       " '5000',\n",
       " '48',\n",
       " '21',\n",
       " '00',\n",
       " 'ye',\n",
       " 'wrap',\n",
       " 'view',\n",
       " 'truly',\n",
       " 'special',\n",
       " 'simple',\n",
       " 'scroll',\n",
       " 'repair',\n",
       " 'prefer',\n",
       " 'panel',\n",
       " 'optimization',\n",
       " 'non',\n",
       " 'loss',\n",
       " 'literally',\n",
       " 'list',\n",
       " 'inspection',\n",
       " 'initial',\n",
       " 'hotspot',\n",
       " 'horrible',\n",
       " 'home',\n",
       " 'haze',\n",
       " 'general',\n",
       " 'fastly',\n",
       " 'external',\n",
       " 'enable',\n",
       " 'crisp',\n",
       " 'coz',\n",
       " 'area',\n",
       " 'annoying',\n",
       " 'window',\n",
       " 'to',\n",
       " 'space',\n",
       " 'sierra',\n",
       " 'seller',\n",
       " 'scared',\n",
       " 'sad',\n",
       " 'respond',\n",
       " 'recently',\n",
       " 'recent',\n",
       " 'pocket',\n",
       " 'online',\n",
       " 'ni',\n",
       " 'movie',\n",
       " 'minimum',\n",
       " 'key',\n",
       " 'honestly',\n",
       " 'friendly',\n",
       " 'fabulous',\n",
       " 'drawback',\n",
       " 'disappointment',\n",
       " 'dial',\n",
       " 'dark',\n",
       " 'damn',\n",
       " 'connection',\n",
       " 'clearly',\n",
       " 'cause',\n",
       " 'buttery',\n",
       " 'break',\n",
       " 'bar',\n",
       " 'away',\n",
       " 'approx',\n",
       " 'ad',\n",
       " '29',\n",
       " 'yesterday',\n",
       " 'worthy',\n",
       " 'working',\n",
       " 'vibrate',\n",
       " 'verdict',\n",
       " 'technical',\n",
       " 'solution',\n",
       " 'smoothness',\n",
       " 'skin',\n",
       " 'site',\n",
       " 'settle',\n",
       " 'risk',\n",
       " 'ring',\n",
       " 'responsive',\n",
       " 'reply',\n",
       " 'reno',\n",
       " 'reboot',\n",
       " 'powerful',\n",
       " 'pack',\n",
       " 'operation',\n",
       " 'netflix',\n",
       " 'mix',\n",
       " 'miui',\n",
       " 'match',\n",
       " 'manage',\n",
       " 'maine',\n",
       " 'instagram',\n",
       " 'impress',\n",
       " 'ignore',\n",
       " 'icon',\n",
       " 'hota',\n",
       " 'flicker',\n",
       " 'finish',\n",
       " 'fall',\n",
       " 'ear',\n",
       " 'direct',\n",
       " 'daylight',\n",
       " 'cut',\n",
       " 'couple',\n",
       " 'confuse',\n",
       " 'cloner',\n",
       " 'chat',\n",
       " 'caller',\n",
       " 'cable',\n",
       " 'background',\n",
       " 'attractive',\n",
       " 'apply',\n",
       " 'apple',\n",
       " 'allow',\n",
       " 'action',\n",
       " 'wood',\n",
       " 'wish',\n",
       " 'usually',\n",
       " 'tha',\n",
       " 'tag',\n",
       " 'stream',\n",
       " 'straight',\n",
       " 'stable',\n",
       " 'social',\n",
       " 'select',\n",
       " 'satisfactory',\n",
       " 'requirement',\n",
       " 'recieve',\n",
       " 'previously',\n",
       " 'player',\n",
       " 'piece',\n",
       " 'percent',\n",
       " 'penny',\n",
       " 'opinion',\n",
       " 'mistake',\n",
       " 'minimal',\n",
       " 'manufacturing',\n",
       " 'july',\n",
       " 'item',\n",
       " 'iron',\n",
       " 'impression',\n",
       " 'going',\n",
       " 'gift',\n",
       " 'feeling',\n",
       " 'faulty',\n",
       " 'fake',\n",
       " 'facility',\n",
       " 'effect',\n",
       " 'edge',\n",
       " 'e',\n",
       " 'dissatisfied',\n",
       " 'disable',\n",
       " 'despite',\n",
       " 'chipset',\n",
       " 'cellphone',\n",
       " 'blur',\n",
       " 'baad',\n",
       " 'asap',\n",
       " 'accept',\n",
       " '16',\n",
       " 'will',\n",
       " 'unhappy',\n",
       " 'terrible',\n",
       " 'stuck',\n",
       " 'snapdragon',\n",
       " 'satisfy',\n",
       " 'research',\n",
       " 'register',\n",
       " 'reception',\n",
       " 'possible',\n",
       " 'positive',\n",
       " 'plug',\n",
       " 'phon',\n",
       " 'personal',\n",
       " 'page',\n",
       " 'na',\n",
       " 'merge',\n",
       " 'mainly',\n",
       " 'logo',\n",
       " 'laggy',\n",
       " 'kar',\n",
       " 'insane',\n",
       " 'immediately',\n",
       " 'idle',\n",
       " 'guess',\n",
       " 'guard',\n",
       " 'gorilla',\n",
       " 'freeze',\n",
       " 'eye',\n",
       " 'excited',\n",
       " 'entire',\n",
       " 'degree',\n",
       " 'create',\n",
       " 'consumption',\n",
       " 'competitor',\n",
       " 'comment',\n",
       " 'b',\n",
       " 'avg',\n",
       " 'adjust',\n",
       " 'actual',\n",
       " 'access',\n",
       " '45',\n",
       " '13',\n",
       " 'z',\n",
       " 'you',\n",
       " 'wow',\n",
       " 'warranty',\n",
       " 'visible',\n",
       " 'v',\n",
       " 'unit',\n",
       " 'unbelievable',\n",
       " 'ultrawide',\n",
       " 'thought',\n",
       " 'surely',\n",
       " 'sun',\n",
       " 'stunning',\n",
       " 'step',\n",
       " 'stay',\n",
       " 'standard',\n",
       " 'soo',\n",
       " 'snappy',\n",
       " 'sharp',\n",
       " 'screenshot',\n",
       " 'safety',\n",
       " 'rha',\n",
       " 'red',\n",
       " 'reach',\n",
       " 'randomly',\n",
       " 'professional',\n",
       " 'pop',\n",
       " 'perfectly',\n",
       " 'particular',\n",
       " 'oxygeno',\n",
       " 'optimisation',\n",
       " 'operate',\n",
       " 'net',\n",
       " 'natural',\n",
       " 'move',\n",
       " 'motorola',\n",
       " 'morning',\n",
       " 'merger',\n",
       " 'man',\n",
       " 'lens',\n",
       " 'lead',\n",
       " 'later',\n",
       " 'krna',\n",
       " 'ko',\n",
       " 'karne',\n",
       " 'justify',\n",
       " 'jio',\n",
       " 'jata',\n",
       " 'invest',\n",
       " 'inbuilt',\n",
       " 'headset',\n",
       " 'head',\n",
       " 'hate',\n",
       " 'flaw',\n",
       " 'fear',\n",
       " 'fair',\n",
       " 'evening',\n",
       " 'enjoy',\n",
       " 'disconnect',\n",
       " 'continuously',\n",
       " 'configuration',\n",
       " 'compromise',\n",
       " 'cod',\n",
       " 'china',\n",
       " 'careful',\n",
       " 'buying',\n",
       " 'blank',\n",
       " 'bettery',\n",
       " 'bcoz',\n",
       " 'appear',\n",
       " 'adaptor',\n",
       " '54',\n",
       " '26',\n",
       " '000',\n",
       " 'wireless',\n",
       " 'unnecessary',\n",
       " 'unique',\n",
       " 'uncomfortable',\n",
       " 'technology',\n",
       " 'sum',\n",
       " 'sufficient',\n",
       " 'stuff',\n",
       " 'struggle',\n",
       " 'sort',\n",
       " 'soc',\n",
       " 'slight',\n",
       " 'score',\n",
       " 'scary',\n",
       " 'rupee',\n",
       " 'rapidly',\n",
       " 'proximity',\n",
       " 'press',\n",
       " 'present',\n",
       " 'patch',\n",
       " 'parallel',\n",
       " 'packaging',\n",
       " 'p',\n",
       " 'output',\n",
       " 'ota',\n",
       " 'original',\n",
       " 'opening',\n",
       " 'msg',\n",
       " 'megapixel',\n",
       " 'maximum',\n",
       " ...]"
      ]
     },
     "execution_count": 28,
     "metadata": {},
     "output_type": "execute_result"
    }
   ],
   "source": [
    "textvectorizer.get_vocabulary()"
   ]
  },
  {
   "cell_type": "markdown",
   "metadata": {},
   "source": [
    "As we can see the Model transform texts into numerical data."
   ]
  },
  {
   "cell_type": "markdown",
   "metadata": {},
   "source": [
    "### Experiment with tokenizer"
   ]
  },
  {
   "cell_type": "code",
   "execution_count": 29,
   "metadata": {},
   "outputs": [
    {
     "name": "stdout",
     "output_type": "stream",
     "text": [
      "[20, 366, 273, 6, 78, 742, 62, 20, 3651, 54, 719, 654, 632, 62, 845, 1, 68, 20, 1, 36, 93, 39, 91, 917, 84, 16, 879, 16, 257, 154, 19, 5, 152, 36, 446, 273, 6, 238, 39, 16, 1, 257, 918, 1045, 91, 42, 39, 21, 19, 5, 1551, 31, 6, 59, 18, 136, 135, 72, 1, 18, 568, 1714, 633, 100, 1335, 503, 366, 100, 81, 161, 1, 918, 22, 30, 15, 3652, 58, 81, 21, 447, 101, 56, 36, 72, 42, 39, 172, 846, 56, 3653, 72, 18, 296, 5, 34, 40, 22, 46, 198, 145, 318, 37, 13, 189, 108, 30, 35, 11, 1, 87, 214, 12, 78, 279, 1, 172, 2, 318, 2783, 3, 2784, 318, 513, 1, 847, 672, 1552, 3654, 46, 514, 279, 9, 476, 3655, 318, 37, 1160, 59, 1927, 25, 686, 279, 16, 1, 1928, 514, 959, 46, 421, 31, 6, 91, 100, 59, 1336, 959, 100, 592, 477, 1, 2244, 9, 428, 63, 719, 654, 514, 959, 170, 60, 261, 369, 113, 170, 37, 339, 618, 848, 105, 366, 100, 56, 1, 100, 354, 3656, 522, 366, 282, 698, 19, 5, 619, 16, 1, 21, 8, 24, 20, 3657, 1, 880, 189, 1553, 42, 61, 202, 102, 267, 673, 61, 276, 118, 1098, 12, 215, 87, 236, 1, 5, 433, 96, 99, 2245, 2785, 297, 459, 318, 37, 78, 22, 498, 37, 119, 318, 119, 77, 96, 448, 96, 46, 403, 112, 655, 1, 1, 1434, 22, 3, 339, 618, 107, 129, 674, 674, 3658, 256, 113, 3659, 239, 162, 674, 30, 1, 3660, 37, 101, 161, 273, 6, 161, 1161, 31, 6, 37, 161, 100, 881, 1551, 56, 1, 6, 687, 429, 161, 21, 182, 132, 135, 4, 542, 20, 199, 1, 849, 135, 531, 34, 198, 145, 634, 422, 1, 172, 3661, 4, 154, 1435, 165, 41, 635, 58, 20, 2245, 2246, 1929, 312, 688, 322, 78, 13, 8, 100, 848, 105, 37, 5, 434, 157, 161, 100, 318, 11, 1, 41, 214, 313, 137, 1930, 58, 918, 1335, 16, 1, 238, 39, 105, 16, 194, 245, 39, 2247, 3662, 16, 19, 5]\n",
      "like tell win t give technical review like ytube video going to honest review general phone user like phone price 20 k think research lot buy confuse buy iphone 12 nord 2 know price difference win t 50 k buy phone iphone honestly man think 30 k 1 nord 2 astonishing don t need plus 9 high range phone plus extra buck pocket u wanna spend tell u pro con phone honestly 3 4 day vigorous usage pro 1 ultra premium feature price range 30 k pretty match feature higer range plus model 2 display great 3 screen refresh rate actually feel fast 0 hz 4 heating issue phone charger till 5 give cover phone pretty good actually bump camera portion actually save phone direct fall rough floor screen scratch cover s test guysand actually feel elegant need hectic work search cover buy phone infact scratch guard screen handy don t think u need temper guard u handle ur phone anyways s choice m going to scratch guard week month n let go week feel perform outstanding will not tell u feature phone u read em specification tell x factor nord 2 decide buy phone 1 charge time like whtt phone shoot 0 85 30 min upto 100 40 45 min warp charging world 5 w charger see phone 2 stereo speaker play song shocked hear yes actually feel give 3 d feel sound actually sound come speaker right speaker screen mean call purpose phone phone rock 3 camera perform outstanding low light dark dark sorrounding check go terrace click picture dark 4 phone buid feel premium con win t con bcz don t feel con u ignore astonishing feature phone t away mention con 1 provide little high battery capacity like samsung phone coz high resolution display refresh rate increase weight phone pretty understandable battery 12 14 hrs get continuous usage like song attend meeting team netflix etc give fast charge u will not feel 2 earphone jack con u actually issue phone get till guy find prolonged usage honestly wanna buy phone 50 k not buy budget 25 k stretch lill buy nord 2\n"
     ]
    }
   ],
   "source": [
    "print(encoded_reviews[1])\n",
    "print(reviews_1['lemmatized'][1])"
   ]
  },
  {
   "cell_type": "code",
   "execution_count": 30,
   "metadata": {},
   "outputs": [
    {
     "data": {
      "text/plain": [
       "array([   1,    2,    3, ..., 7255, 7256, 7257])"
      ]
     },
     "execution_count": 30,
     "metadata": {},
     "output_type": "execute_result"
    }
   ],
   "source": [
    "all_word = []\n",
    "for sentence in encoded_reviews:\n",
    "    for word in sentence:\n",
    "        all_word.append(word)\n",
    "all_word = np.array(all_word)\n",
    "np.unique(all_word)"
   ]
  },
  {
   "cell_type": "code",
   "execution_count": 31,
   "metadata": {},
   "outputs": [],
   "source": [
    "# it will store the lens of sequences\n",
    "len_review = []\n",
    "for sentence in encoded_reviews:\n",
    "    len_review.append(len(sentence))\n",
    "len_review = np.array(len_review)\n"
   ]
  },
  {
   "cell_type": "code",
   "execution_count": 32,
   "metadata": {},
   "outputs": [
    {
     "data": {
      "text/plain": [
       "22.859157443770084"
      ]
     },
     "execution_count": 32,
     "metadata": {},
     "output_type": "execute_result"
    }
   ],
   "source": [
    "len_review.mean()"
   ]
  },
  {
   "cell_type": "code",
   "execution_count": 33,
   "metadata": {},
   "outputs": [
    {
     "data": {
      "text/plain": [
       "392"
      ]
     },
     "execution_count": 33,
     "metadata": {},
     "output_type": "execute_result"
    }
   ],
   "source": [
    "len_review.max()"
   ]
  },
  {
   "cell_type": "code",
   "execution_count": 34,
   "metadata": {},
   "outputs": [
    {
     "data": {
      "text/plain": [
       "<seaborn.axisgrid.FacetGrid at 0x262ad19cf70>"
      ]
     },
     "execution_count": 34,
     "metadata": {},
     "output_type": "execute_result"
    },
    {
     "data": {
      "image/png": "[encoded data removed]",
      "text/plain": [
       "<Figure size 360x360 with 1 Axes>"
      ]
     },
     "metadata": {
      "needs_background": "light"
     },
     "output_type": "display_data"
    }
   ],
   "source": [
    "\n",
    "sns.displot(len_review)"
   ]
  },
  {
   "cell_type": "code",
   "execution_count": 35,
   "metadata": {},
   "outputs": [
    {
     "data": {
      "text/plain": [
       "3"
      ]
     },
     "execution_count": 35,
     "metadata": {},
     "output_type": "execute_result"
    }
   ],
   "source": [
    "tokenizer_dict = dict(tokenizer.word_counts)\n",
    "tokenizer_values =np.array(list(tokenizer_dict.values()))\n",
    "tokenizer_dict['zphone']"
   ]
  },
  {
   "cell_type": "code",
   "execution_count": 36,
   "metadata": {},
   "outputs": [
    {
     "data": {
      "text/plain": [
       "10"
      ]
     },
     "execution_count": 36,
     "metadata": {},
     "output_type": "execute_result"
    }
   ],
   "source": [
    "tokenizer_dict['l']"
   ]
  },
  {
   "cell_type": "code",
   "execution_count": 37,
   "metadata": {},
   "outputs": [
    {
     "data": {
      "text/plain": [
       "(7257, 270)"
      ]
     },
     "execution_count": 37,
     "metadata": {},
     "output_type": "execute_result"
    }
   ],
   "source": [
    "tokenizer_values.size, np.unique(tokenizer_values).size"
   ]
  },
  {
   "cell_type": "code",
   "execution_count": 38,
   "metadata": {},
   "outputs": [
    {
     "data": {
      "text/plain": [
       "7257"
      ]
     },
     "execution_count": 38,
     "metadata": {},
     "output_type": "execute_result"
    }
   ],
   "source": [
    "len(tokenizer.word_index.keys())"
   ]
  },
  {
   "cell_type": "code",
   "execution_count": 39,
   "metadata": {},
   "outputs": [],
   "source": [
    "a=tokenizer.get_config()['word_counts']\n",
    "import json\n",
    "dict_count = json.loads(a)"
   ]
  },
  {
   "cell_type": "code",
   "execution_count": 40,
   "metadata": {},
   "outputs": [
    {
     "data": {
      "text/plain": [
       "867"
      ]
     },
     "execution_count": 40,
     "metadata": {},
     "output_type": "execute_result"
    }
   ],
   "source": [
    "dict_count['1']"
   ]
  },
  {
   "cell_type": "code",
   "execution_count": 41,
   "metadata": {},
   "outputs": [],
   "source": [
    "x=list(dict_count.values())\n",
    "x.sort()"
   ]
  },
  {
   "cell_type": "code",
   "execution_count": 42,
   "metadata": {},
   "outputs": [
    {
     "data": {
      "text/plain": [
       "(4828, 4828)"
      ]
     },
     "execution_count": 42,
     "metadata": {},
     "output_type": "execute_result"
    }
   ],
   "source": [
    "x[7256], dict_count['phone']"
   ]
  },
  {
   "cell_type": "markdown",
   "metadata": {},
   "source": [
    "- So as we can see the numerical labels are assigned not at random, but in count order.\n",
    "- The largest the count smallest the label. as we seen in eda file the phone, good have highest count, so these are labeled as 1 and 2 repectively. \n",
    "- There are total unique 7258 words, so the labels are extended upto 7257. Tokenizer have diff methods that gives word counts and "
   ]
  },
  {
   "cell_type": "markdown",
   "metadata": {},
   "source": [
    "### Padding sequences"
   ]
  },
  {
   "cell_type": "markdown",
   "metadata": {},
   "source": [
    "So we know that the maxlength of reviews in our data is 392, but mean is 23 and also from distribution plot, we can see that there are very less reviews having len greater that 150,  so we're going to set maxlen = 200. \n",
    "\n",
    "Because it we set this parameter larger, the resultant metrix will be spare that is there will be so much 0's"
   ]
  },
  {
   "cell_type": "code",
   "execution_count": 43,
   "metadata": {},
   "outputs": [],
   "source": [
    "from tensorflow.keras.preprocessing.sequence import pad_sequences\n",
    "\n",
    "\n",
    "padded_sequence = pad_sequences(encoded_reviews, maxlen = 200, padding= 'post')"
   ]
  },
  {
   "cell_type": "code",
   "execution_count": 44,
   "metadata": {},
   "outputs": [
    {
     "data": {
      "text/plain": [
       "array([  62,   78,  496,  165, 1159,  137,   86,   51,   15,   58, 1159,\n",
       "        111, 1159,  256,   95,  767, 2242,   22,  603, 1250, 1159,  263,\n",
       "        497,   18,  199,  365, 1159,  264, 1334,   14,  111,  175,   18,\n",
       "         65, 2243,   14,    0,    0,    0,    0,    0,    0,    0,    0,\n",
       "          0,    0,    0,    0,    0,    0,    0,    0,    0,    0,    0,\n",
       "          0,    0,    0,    0,    0,    0,    0,    0,    0,    0,    0,\n",
       "          0,    0,    0,    0,    0,    0,    0,    0,    0,    0,    0,\n",
       "          0,    0,    0,    0,    0,    0,    0,    0,    0,    0,    0,\n",
       "          0,    0,    0,    0,    0,    0,    0,    0,    0,    0,    0,\n",
       "          0,    0,    0,    0,    0,    0,    0,    0,    0,    0,    0,\n",
       "          0,    0,    0,    0,    0,    0,    0,    0,    0,    0,    0,\n",
       "          0,    0,    0,    0,    0,    0,    0,    0,    0,    0,    0,\n",
       "          0,    0,    0,    0,    0,    0,    0,    0,    0,    0,    0,\n",
       "          0,    0,    0,    0,    0,    0,    0,    0,    0,    0,    0,\n",
       "          0,    0,    0,    0,    0,    0,    0,    0,    0,    0,    0,\n",
       "          0,    0,    0,    0,    0,    0,    0,    0,    0,    0,    0,\n",
       "          0,    0,    0,    0,    0,    0,    0,    0,    0,    0,    0,\n",
       "          0,    0,    0,    0,    0,    0,    0,    0,    0,    0,    0,\n",
       "          0,    0])"
      ]
     },
     "execution_count": 44,
     "metadata": {},
     "output_type": "execute_result"
    }
   ],
   "source": [
    "padded_sequence[0]"
   ]
  },
  {
   "cell_type": "code",
   "execution_count": 45,
   "metadata": {},
   "outputs": [
    {
     "data": {
      "text/plain": [
       "(5602, 200)"
      ]
     },
     "execution_count": 45,
     "metadata": {},
     "output_type": "execute_result"
    }
   ],
   "source": [
    "padded_sequence.shape"
   ]
  },
  {
   "cell_type": "markdown",
   "metadata": {},
   "source": [
    "### Model"
   ]
  },
  {
   "cell_type": "code",
   "execution_count": 46,
   "metadata": {},
   "outputs": [],
   "source": [
    "EMBEDDING = 10\n",
    "INPUT_LENGTH = 200\n",
    "RNN_LAYERS_1 = 50\n",
    "VOCAB_SIZE = 7258"
   ]
  },
  {
   "cell_type": "markdown",
   "metadata": {},
   "source": [
    "Here:\n",
    "1. input_dim: is the size of vocabolary that is no of words\n",
    "2. Output_dim = \n",
    "3. input_length is the length of sentences, which is 200 in our case\n",
    "4. mask_zero is True because we are doing padding"
   ]
  },
  {
   "cell_type": "code",
   "execution_count": 47,
   "metadata": {},
   "outputs": [],
   "source": [
    "RNN_model = Sequential()\n",
    "RNN_model.add(Embedding(input_dim= VOCAB_SIZE, output_dim= EMBEDDING,input_length= INPUT_LENGTH, mask_zero= True))\n",
    "RNN_model.add(SimpleRNN(units= RNN_LAYERS_1))\n",
    "RNN_model.add(Dense(3, activation = 'softmax'))\n",
    "RNN_model.compile(optimizer='adam', loss = tf.keras.losses.SparseCategoricalCrossentropy(),\n",
    "    metrics= ['accuracy'])\n",
    "tensorboard_callback = tf.keras.callbacks.TensorBoard(log_dir=\"logs\")\n",
    "# RNN_model.fit() "
   ]
  },
  {
   "cell_type": "code",
   "execution_count": 48,
   "metadata": {},
   "outputs": [
    {
     "name": "stdout",
     "output_type": "stream",
     "text": [
      "176/176 [==============================] - 228s 1s/step - loss: 0.9645 - accuracy: 0.5469\n"
     ]
    },
    {
     "data": {
      "text/plain": [
       "<keras.callbacks.History at 0x262c787b100>"
      ]
     },
     "execution_count": 48,
     "metadata": {},
     "output_type": "execute_result"
    }
   ],
   "source": [
    "RNN_model.fit(padded_sequence, y, epochs= 1, callbacks= tensorboard_callback)"
   ]
  },
  {
   "cell_type": "markdown",
   "metadata": {},
   "source": [
    "if we run for 5 epochs the accuracy is 95.43% but it will take 20 min to run"
   ]
  },
  {
   "cell_type": "code",
   "execution_count": 49,
   "metadata": {},
   "outputs": [
    {
     "name": "stdout",
     "output_type": "stream",
     "text": [
      "Model: \"sequential\"\n",
      "_________________________________________________________________\n",
      " Layer (type)                Output Shape              Param #   \n",
      "=================================================================\n",
      " embedding (Embedding)       (None, 200, 10)           72580     \n",
      "                                                                 \n",
      " simple_rnn (SimpleRNN)      (None, 50)                3050      \n",
      "                                                                 \n",
      " dense (Dense)               (None, 3)                 153       \n",
      "                                                                 \n",
      "=================================================================\n",
      "Total params: 75,783\n",
      "Trainable params: 75,783\n",
      "Non-trainable params: 0\n",
      "_________________________________________________________________\n"
     ]
    }
   ],
   "source": [
    "RNN_model.summary()"
   ]
  },
  {
   "cell_type": "markdown",
   "metadata": {},
   "source": [
    "Because there are:\n",
    "- 7258 words, 10 output dim and 200 input sentence length, hence 7258*10 = 72580 (No bias term)\n",
    "- There are 50 RNN nodes and word-embedding have shape of (7258,10) hence there will be 50 weight matrices"
   ]
  },
  {
   "cell_type": "code",
   "execution_count": 51,
   "metadata": {},
   "outputs": [],
   "source": [
    "embedding_weight_array = RNN_model.get_layer(index= 0).get_weights()[0]\n",
    "# embedding_weight_array.[0]"
   ]
  },
  {
   "cell_type": "code",
   "execution_count": 52,
   "metadata": {},
   "outputs": [
    {
     "data": {
      "text/plain": [
       "(7258, 10)"
      ]
     },
     "execution_count": 52,
     "metadata": {},
     "output_type": "execute_result"
    }
   ],
   "source": [
    "embedding_weight_array.shape"
   ]
  },
  {
   "cell_type": "markdown",
   "metadata": {},
   "source": [
    "Summary about model\n",
    "\n",
    "- We first convert the texts into numerical labels and then we pass the to embedding layer.\n",
    "- The sentences can be converted into numerical labels using Tokenizer or vectorizer.\n",
    "- There are some parameters to decide that is \n",
    "1. The no. of words to take into account.\n",
    "2. Length of sentence\n",
    "3. Separation criterion\n",
    "- After tokenization we can go for padding or can set it into embedding layer using mask_zero parameter to true\n",
    "- Embedding layer needs some parameters to set.\n",
    "1. Vocabolary size = No. of words, Sentence length, embedding size, mask_zero and other.\n",
    "- The we go for the RNN OR LSTM layers to set we can go for bidirectional or multilayers also"
   ]
  },
  {
   "cell_type": "markdown",
   "metadata": {},
   "source": [
    "So now we got the idea about the Neural Networks for text classification, we can try different types of Network Architectures."
   ]
  },
  {
   "cell_type": "markdown",
   "metadata": {},
   "source": [
    "## RNN MODELS"
   ]
  },
  {
   "cell_type": "markdown",
   "metadata": {},
   "source": [
    "### RNN model 1"
   ]
  },
  {
   "cell_type": "code",
   "execution_count": 53,
   "metadata": {},
   "outputs": [
    {
     "data": {
      "text/plain": [
       "'180344'"
      ]
     },
     "execution_count": 53,
     "metadata": {},
     "output_type": "execute_result"
    }
   ],
   "source": [
    "datetime.datetime.now().strftime('%H%M%S')"
   ]
  },
  {
   "cell_type": "code",
   "execution_count": 58,
   "metadata": {},
   "outputs": [],
   "source": [
    "EMBEDDING = 20\n",
    "SENTENCE_LENGTH = 150\n",
    "VOCAB_SIZE = 7500\n",
    "Model_name = 'rnn_model_'\n",
    "# LOG_DIR = 'logs/' + +datetime.datetime.now().strftime(\"%Y%m%d-%H_%M_%S\")\n",
    "\n",
    "def log_dir():\n",
    "    LOG_DIR = 'logs/fit/'+Model_name + datetime.datetime.now().strftime('%Y_%m_%d-%H_%M_%S')\n",
    "    return LOG_DIR"
   ]
  },
  {
   "cell_type": "code",
   "execution_count": 59,
   "metadata": {},
   "outputs": [],
   "source": [
    "encoder = TextVectorization(max_tokens= VOCAB_SIZE, output_sequence_length= 150)\n",
    "encoder.adapt(x_train)"
   ]
  },
  {
   "cell_type": "code",
   "execution_count": 60,
   "metadata": {},
   "outputs": [],
   "source": [
    "rnn_model = Sequential([\n",
    "    encoder,\n",
    "    Embedding(input_dim= VOCAB_SIZE, output_dim=EMBEDDING, mask_zero= True),\n",
    "    layers.Dropout(0.2),\n",
    "    SimpleRNN(50),\n",
    "    layers.Dense(3, activation= 'softmax')\n",
    "])\n",
    "\n",
    "# log_dir_1 = log_dir()\n",
    "tensorboard_callback = tf.keras.callbacks.TensorBoard(log_dir= log_dir())\n",
    "# early_callback = tf.keras.callbacks.EarlyStopping(patience= 2)\n",
    "\n",
    "rnn_model.compile(optimizer= tf.keras.optimizers.Adam(learning_rate= 0.01),\n",
    "    loss= tf.keras.losses.SparseCategoricalCrossentropy(),\n",
    "    metrics= ['accuracy'])"
   ]
  },
  {
   "cell_type": "code",
   "execution_count": 61,
   "metadata": {},
   "outputs": [
    {
     "name": "stdout",
     "output_type": "stream",
     "text": [
      "Epoch 1/10\n",
      "105/105 [==============================] - 106s 977ms/step - loss: 1.0531 - accuracy: 0.4643 - val_loss: 0.8898 - val_accuracy: 0.5763\n",
      "Epoch 2/10\n",
      "105/105 [==============================] - 101s 956ms/step - loss: 0.8005 - accuracy: 0.6363 - val_loss: 0.9453 - val_accuracy: 0.4897\n",
      "Epoch 3/10\n",
      "105/105 [==============================] - 97s 918ms/step - loss: 0.6634 - accuracy: 0.7071 - val_loss: 0.8765 - val_accuracy: 0.6155\n",
      "Epoch 4/10\n",
      "105/105 [==============================] - 99s 938ms/step - loss: 0.5404 - accuracy: 0.7702 - val_loss: 0.9611 - val_accuracy: 0.5727\n",
      "Epoch 5/10\n",
      "105/105 [==============================] - 111s 1s/step - loss: 0.4261 - accuracy: 0.8369 - val_loss: 1.0815 - val_accuracy: 0.5861\n",
      "Epoch 6/10\n",
      "105/105 [==============================] - 98s 929ms/step - loss: 0.3478 - accuracy: 0.8693 - val_loss: 1.0050 - val_accuracy: 0.6423\n",
      "Epoch 7/10\n",
      "105/105 [==============================] - 84s 801ms/step - loss: 0.3071 - accuracy: 0.8857 - val_loss: 1.1492 - val_accuracy: 0.6218\n",
      "Epoch 8/10\n",
      "105/105 [==============================] - 88s 832ms/step - loss: 0.2635 - accuracy: 0.9039 - val_loss: 1.1881 - val_accuracy: 0.6387\n",
      "Epoch 9/10\n",
      "105/105 [==============================] - 87s 825ms/step - loss: 0.2343 - accuracy: 0.9113 - val_loss: 1.2924 - val_accuracy: 0.6316\n",
      "Epoch 10/10\n",
      "105/105 [==============================] - 80s 760ms/step - loss: 0.2632 - accuracy: 0.9033 - val_loss: 1.2629 - val_accuracy: 0.6423\n"
     ]
    },
    {
     "data": {
      "text/plain": [
       "<keras.callbacks.History at 0x26393e6fcd0>"
      ]
     },
     "execution_count": 61,
     "metadata": {},
     "output_type": "execute_result"
    }
   ],
   "source": [
    "rnn_model.fit(x_train, y_train, epochs= 10, \n",
    "    validation_data = (x_val, y_val),callbacks= [tensorboard_callback],\n",
    "     )"
   ]
  },
  {
   "cell_type": "code",
   "execution_count": 62,
   "metadata": {},
   "outputs": [
    {
     "name": "stdout",
     "output_type": "stream",
     "text": [
      "36/36 [==============================] - 2s 57ms/step - loss: 1.2629 - accuracy: 0.6423\n"
     ]
    },
    {
     "data": {
      "text/plain": [
       "[1.262938380241394, 0.6422836780548096]"
      ]
     },
     "execution_count": 62,
     "metadata": {},
     "output_type": "execute_result"
    }
   ],
   "source": [
    "rnn_model.evaluate(x_val, y_val)"
   ]
  },
  {
   "cell_type": "code",
   "execution_count": 63,
   "metadata": {},
   "outputs": [
    {
     "name": "stdout",
     "output_type": "stream",
     "text": [
      "Model: \"sequential_3\"\n",
      "_________________________________________________________________\n",
      " Layer (type)                Output Shape              Param #   \n",
      "=================================================================\n",
      " text_vectorization_2 (TextV  (None, 150)              0         \n",
      " ectorization)                                                   \n",
      "                                                                 \n",
      " embedding_3 (Embedding)     (None, 150, 20)           150000    \n",
      "                                                                 \n",
      " dropout_2 (Dropout)         (None, 150, 20)           0         \n",
      "                                                                 \n",
      " simple_rnn_3 (SimpleRNN)    (None, 50)                3550      \n",
      "                                                                 \n",
      " dense_3 (Dense)             (None, 3)                 153       \n",
      "                                                                 \n",
      "=================================================================\n",
      "Total params: 153,703\n",
      "Trainable params: 153,703\n",
      "Non-trainable params: 0\n",
      "_________________________________________________________________\n"
     ]
    }
   ],
   "source": [
    "rnn_model.summary()"
   ]
  },
  {
   "cell_type": "code",
   "execution_count": 64,
   "metadata": {},
   "outputs": [
    {
     "name": "stdout",
     "output_type": "stream",
     "text": [
      "WARNING:tensorflow:Model was constructed with shape (None, None) for input KerasTensor(type_spec=TensorSpec(shape=(None, None), dtype=tf.string, name='text_vectorization_2_input'), name='text_vectorization_2_input', description=\"created by layer 'text_vectorization_2_input'\"), but it was called on an input with incompatible shape (None,).\n"
     ]
    },
    {
     "data": {
      "text/plain": [
       "0"
      ]
     },
     "execution_count": 64,
     "metadata": {},
     "output_type": "execute_result"
    }
   ],
   "source": [
    "np.argmax(rnn_model.predict(['worst phone in history']))"
   ]
  },
  {
   "cell_type": "code",
   "execution_count": 66,
   "metadata": {},
   "outputs": [
    {
     "data": {
      "text/plain": [
       "1"
      ]
     },
     "execution_count": 66,
     "metadata": {},
     "output_type": "execute_result"
    }
   ],
   "source": [
    "np.argmax(rnn_model.predict(['best phone']))"
   ]
  },
  {
   "cell_type": "code",
   "execution_count": 67,
   "metadata": {},
   "outputs": [
    {
     "data": {
      "text/plain": [
       "array([1, 0, 1, ..., 1, 2, 0], dtype=int64)"
      ]
     },
     "execution_count": 67,
     "metadata": {},
     "output_type": "execute_result"
    }
   ],
   "source": [
    "y_pred = np.argmax(rnn_model.predict(x_val), axis = 1)\n",
    "y_pred"
   ]
  },
  {
   "cell_type": "code",
   "execution_count": 68,
   "metadata": {},
   "outputs": [
    {
     "name": "stdout",
     "output_type": "stream",
     "text": [
      "\n",
      "               precision    recall  f1-score   support\n",
      "\n",
      "           0       0.66      0.82      0.73       333\n",
      "           1       0.56      0.41      0.47       384\n",
      "           2       0.67      0.72      0.70       404\n",
      "\n",
      "    accuracy                           0.64      1121\n",
      "   macro avg       0.63      0.65      0.63      1121\n",
      "weighted avg       0.63      0.64      0.63      1121\n",
      "\n"
     ]
    },
    {
     "data": {
      "image/png": "[encoded data removed]",
      "text/plain": [
       "<Figure size 576x360 with 2 Axes>"
      ]
     },
     "metadata": {
      "needs_background": "light"
     },
     "output_type": "display_data"
    }
   ],
   "source": [
    "confusion_metrix_plot(x_val, y_val, rnn_model)"
   ]
  },
  {
   "cell_type": "markdown",
   "metadata": {},
   "source": [
    "We can see that the validation accuracy is low, and loss is getting increasing that why the early stopping trigered.\n",
    "- The model is not good and if it is trained for longer it will overfit.\n",
    "- So we are going to use some regularization techniques and also going to increase the size of model.\n",
    "- For validation and training accuracy we are using tensorboard\n",
    "\n",
    "But before that lets try to save the model and load the model for deployment purpose\n",
    "I tried to save the model but when going to load it shows error, i solved that error by deleting mask_zero part from embedding layer"
   ]
  },
  {
   "cell_type": "code",
   "execution_count": 69,
   "metadata": {},
   "outputs": [
    {
     "name": "stdout",
     "output_type": "stream",
     "text": [
      "INFO:tensorflow:Assets written to: Model_files/rnn_model.tf\\assets\n"
     ]
    }
   ],
   "source": [
    "rnn_model.save('Model_files/rnn_model.tf')"
   ]
  },
  {
   "cell_type": "markdown",
   "metadata": {},
   "source": [
    "### RNN model 2"
   ]
  },
  {
   "cell_type": "code",
   "execution_count": 74,
   "metadata": {},
   "outputs": [],
   "source": [
    "EMBEDDING = 30\n",
    "SENTENCE_LENGTH = 150\n",
    "VOCAB_SIZE = 7500\n",
    "RNN_NODES = 75\n",
    "\n",
    "\n",
    "Model_name = 'rnn_model_2_'\n",
    "# LOG_DIR = 'logs/' + +datetime.datetime.now().strftime(\"%Y_%m_%d-%H_%M_%S\")\n",
    "\n",
    "def log_dir():\n",
    "    LOG_DIR = 'logs/fit/'+Model_name + datetime.datetime.now().strftime('%Y_%m_%d-%H_%M_%S')\n",
    "    return LOG_DIR"
   ]
  },
  {
   "cell_type": "code",
   "execution_count": 75,
   "metadata": {},
   "outputs": [],
   "source": [
    "encoder = TextVectorization(max_tokens = VOCAB_SIZE, output_sequence_length = SENTENCE_LENGTH) \n",
    "encoder.adapt(x_train)\n",
    "\n",
    "\n",
    "rnn_model_2 = Sequential([\n",
    "    encoder,\n",
    "    Embedding(input_dim = VOCAB_SIZE, output_dim = EMBEDDING),\n",
    "    SimpleRNN(RNN_NODES),\n",
    "    Dropout(0.3),\n",
    "    Dense(3, activation='softmax')\n",
    "])\n",
    "\n",
    "rnn_model_2.compile(optimizer = tf.keras.optimizers.Adam(),\n",
    "    loss = tf.keras.losses.SparseCategoricalCrossentropy(),\n",
    "    metrics = ['accuracy'])\n",
    "\n",
    "tensorboard_callback = tf.keras.callbacks.TensorBoard(log_dir = log_dir(), write_graph= True)"
   ]
  },
  {
   "cell_type": "code",
   "execution_count": 76,
   "metadata": {},
   "outputs": [
    {
     "name": "stdout",
     "output_type": "stream",
     "text": [
      "Epoch 1/10\n",
      "105/105 [==============================] - 74s 682ms/step - loss: 1.1104 - accuracy: 0.3551 - val_loss: 1.1182 - val_accuracy: 0.3274\n",
      "Epoch 2/10\n",
      "105/105 [==============================] - 67s 638ms/step - loss: 1.1363 - accuracy: 0.3408 - val_loss: 1.1083 - val_accuracy: 0.3408\n",
      "Epoch 3/10\n",
      "105/105 [==============================] - 73s 697ms/step - loss: 1.1133 - accuracy: 0.3452 - val_loss: 1.0963 - val_accuracy: 0.3408\n",
      "Epoch 4/10\n",
      "105/105 [==============================] - 67s 635ms/step - loss: 1.0941 - accuracy: 0.3744 - val_loss: 1.0963 - val_accuracy: 0.3399\n",
      "Epoch 5/10\n",
      "105/105 [==============================] - 70s 671ms/step - loss: 1.0960 - accuracy: 0.3589 - val_loss: 1.0935 - val_accuracy: 0.3497\n",
      "Epoch 6/10\n",
      "105/105 [==============================] - 61s 585ms/step - loss: 1.1041 - accuracy: 0.3545 - val_loss: 1.1000 - val_accuracy: 0.3541\n",
      "Epoch 7/10\n",
      "105/105 [==============================] - 66s 633ms/step - loss: 1.1014 - accuracy: 0.3560 - val_loss: 1.0993 - val_accuracy: 0.3452\n",
      "Epoch 8/10\n",
      "105/105 [==============================] - 64s 608ms/step - loss: 1.0908 - accuracy: 0.3798 - val_loss: 1.0940 - val_accuracy: 0.3738\n",
      "Epoch 9/10\n",
      "105/105 [==============================] - 71s 673ms/step - loss: 1.0926 - accuracy: 0.3637 - val_loss: 1.0954 - val_accuracy: 0.3417\n",
      "Epoch 10/10\n",
      "105/105 [==============================] - 65s 619ms/step - loss: 1.0867 - accuracy: 0.3682 - val_loss: 1.0904 - val_accuracy: 0.3559\n"
     ]
    },
    {
     "data": {
      "text/plain": [
       "<keras.callbacks.History at 0x26914be3670>"
      ]
     },
     "execution_count": 76,
     "metadata": {},
     "output_type": "execute_result"
    }
   ],
   "source": [
    "rnn_model_2.fit(x_train, y_train, epochs = 10, callbacks= [tensorboard_callback],validation_data= (x_val, y_val))"
   ]
  },
  {
   "cell_type": "code",
   "execution_count": 77,
   "metadata": {},
   "outputs": [
    {
     "name": "stdout",
     "output_type": "stream",
     "text": [
      "Model: \"sequential_4\"\n",
      "_________________________________________________________________\n",
      " Layer (type)                Output Shape              Param #   \n",
      "=================================================================\n",
      " text_vectorization_5 (TextV  (None, 150)              0         \n",
      " ectorization)                                                   \n",
      "                                                                 \n",
      " embedding_4 (Embedding)     (None, 150, 30)           225000    \n",
      "                                                                 \n",
      " simple_rnn_4 (SimpleRNN)    (None, 75)                7950      \n",
      "                                                                 \n",
      " dropout_3 (Dropout)         (None, 75)                0         \n",
      "                                                                 \n",
      " dense_4 (Dense)             (None, 3)                 228       \n",
      "                                                                 \n",
      "=================================================================\n",
      "Total params: 233,178\n",
      "Trainable params: 233,178\n",
      "Non-trainable params: 0\n",
      "_________________________________________________________________\n"
     ]
    }
   ],
   "source": [
    "rnn_model_2.summary()"
   ]
  },
  {
   "cell_type": "markdown",
   "metadata": {},
   "source": [
    "As we can see the model is worst, only giving accuracy of 36% and the accuracy is not increasing with epochs, so there may be the problem of vanishing gradient."
   ]
  },
  {
   "cell_type": "code",
   "execution_count": 78,
   "metadata": {},
   "outputs": [
    {
     "name": "stdout",
     "output_type": "stream",
     "text": [
      "\n",
      "               precision    recall  f1-score   support\n",
      "\n",
      "           0       0.00      0.00      0.00       326\n",
      "           1       0.27      0.12      0.16       371\n",
      "           2       0.37      0.84      0.52       424\n",
      "\n",
      "    accuracy                           0.36      1121\n",
      "   macro avg       0.21      0.32      0.23      1121\n",
      "weighted avg       0.23      0.36      0.25      1121\n",
      "\n"
     ]
    },
    {
     "data": {
      "image/png": "[encoded data removed]",
      "text/plain": [
       "<Figure size 576x360 with 2 Axes>"
      ]
     },
     "metadata": {
      "needs_background": "light"
     },
     "output_type": "display_data"
    }
   ],
   "source": [
    "confusion_metrix_plot(x_val, y_val, rnn_model_2)"
   ]
  },
  {
   "cell_type": "markdown",
   "metadata": {},
   "source": [
    "### RNN model 3"
   ]
  },
  {
   "cell_type": "markdown",
   "metadata": {},
   "source": [
    "As the model 2 is overfitting we are going to reduce the no of RNN nodes and increase the epochs as well as dropout rate"
   ]
  },
  {
   "cell_type": "code",
   "execution_count": 57,
   "metadata": {},
   "outputs": [],
   "source": [
    "EMBEDDING = 40\n",
    "SENTENCE_LENGTH = 150\n",
    "VOCAB_SIZE = 7500\n",
    "RNN_NODES = 80\n",
    "\n",
    "\n",
    "Model_name = 'rnn_model_3_'\n",
    "# LOG_DIR = 'logs/' + +datetime.datetime.now().strftime(\"%Y_%m_%d-%H_%M_%S\")\n",
    "\n",
    "def log_dir():\n",
    "    LOG_DIR = 'logs/fit/'+Model_name + datetime.datetime.now().strftime('%Y_%m_%d-%H_%M_%S')\n",
    "    return LOG_DIR"
   ]
  },
  {
   "cell_type": "code",
   "execution_count": 58,
   "metadata": {},
   "outputs": [],
   "source": [
    "encoder = TextVectorization(max_tokens= VOCAB_SIZE, output_sequence_length= SENTENCE_LENGTH)\n",
    "encoder.adapt(x_train)"
   ]
  },
  {
   "cell_type": "code",
   "execution_count": 59,
   "metadata": {},
   "outputs": [],
   "source": [
    "rnn_model_3 = Sequential([\n",
    "    encoder,\n",
    "    Embedding(input_dim = VOCAB_SIZE, output_dim=EMBEDDING),\n",
    "    Dropout(0.2),\n",
    "    SimpleRNN(RNN_NODES),\n",
    "    Dense(3, activation = 'softmax')\n",
    "])\n",
    "\n",
    "rnn_model_3.compile(optimizer = tf.keras.optimizers.Adam(learning_rate= 0.01),\n",
    "    loss = tf.keras.losses.SparseCategoricalCrossentropy(),\n",
    "    metrics= ['accuracy'])\n",
    "\n",
    "tensorboard_callback = tf.keras.callbacks.TensorBoard(log_dir= log_dir())\n",
    "early_callback = tf.keras.callbacks.EarlyStopping(monitor = 'val_accuracy', patience = 2)"
   ]
  },
  {
   "cell_type": "code",
   "execution_count": 60,
   "metadata": {},
   "outputs": [
    {
     "name": "stdout",
     "output_type": "stream",
     "text": [
      "Epoch 1/30\n",
      "105/105 [==============================] - 69s 635ms/step - loss: 1.1776 - accuracy: 0.3429 - val_loss: 1.1034 - val_accuracy: 0.3345\n",
      "Epoch 2/30\n",
      "105/105 [==============================] - 75s 714ms/step - loss: 1.1220 - accuracy: 0.3616 - val_loss: 1.1769 - val_accuracy: 0.3568\n",
      "Epoch 3/30\n",
      "105/105 [==============================] - 73s 694ms/step - loss: 1.1263 - accuracy: 0.3601 - val_loss: 1.1462 - val_accuracy: 0.3693\n",
      "Epoch 4/30\n",
      "105/105 [==============================] - 73s 694ms/step - loss: 1.1211 - accuracy: 0.3545 - val_loss: 1.1173 - val_accuracy: 0.3559\n",
      "Epoch 5/30\n",
      "105/105 [==============================] - 70s 666ms/step - loss: 1.1212 - accuracy: 0.3652 - val_loss: 1.1377 - val_accuracy: 0.3586\n"
     ]
    },
    {
     "data": {
      "text/plain": [
       "<keras.callbacks.History at 0x1fd83aadd60>"
      ]
     },
     "execution_count": 60,
     "metadata": {},
     "output_type": "execute_result"
    }
   ],
   "source": [
    "rnn_model_3.fit(x_train, y_train, epochs = 30, callbacks=[tensorboard_callback, early_callback], validation_data= (x_val, y_val))"
   ]
  },
  {
   "cell_type": "markdown",
   "metadata": {},
   "source": [
    "1. I tried the model with kernal intialization, kernel regularization, recurrent-dropout and with 50 RNN nodes but the model in not making any progress.\n",
    "2. then I removed those things and tried without changing activation of RNN but still same result.\n",
    "3. with change in Activation same result\n",
    "4. Now lets increase RNN nodes and embeddings, but still no progress. Now lets try our first model as 4th one"
   ]
  },
  {
   "cell_type": "markdown",
   "metadata": {},
   "source": [
    "### RNN_4 or RNN 1"
   ]
  },
  {
   "cell_type": "code",
   "execution_count": null,
   "metadata": {},
   "outputs": [],
   "source": []
  },
  {
   "cell_type": "code",
   "execution_count": 61,
   "metadata": {},
   "outputs": [],
   "source": [
    "EMBEDDING = 20\n",
    "SENTENCE_LENGTH = 150\n",
    "VOCAB_SIZE = 7500\n",
    "Model_name = 'rnn_model_4(1)_'\n",
    "# LOG_DIR = 'logs/' + +datetime.datetime.now().strftime(\"%Y%m%d-%H_%M_%S\")\n",
    "\n",
    "def log_dir():\n",
    "    LOG_DIR = 'logs/fit/'+Model_name + datetime.datetime.now().strftime('%Y_%m_%d-%H_%M_%S')\n",
    "    return LOG_DIR"
   ]
  },
  {
   "cell_type": "code",
   "execution_count": 62,
   "metadata": {},
   "outputs": [],
   "source": [
    "encoder = TextVectorization(max_tokens= VOCAB_SIZE, output_sequence_length= 150)\n",
    "encoder.adapt(x_train)"
   ]
  },
  {
   "cell_type": "code",
   "execution_count": 63,
   "metadata": {},
   "outputs": [],
   "source": [
    "rnn_model_4 = Sequential([\n",
    "    encoder,\n",
    "    Embedding(input_dim= VOCAB_SIZE, output_dim=EMBEDDING, mask_zero= True),\n",
    "    layers.Dropout(0.2),\n",
    "    SimpleRNN(50),\n",
    "    layers.Dense(3, activation= 'softmax')\n",
    "])\n",
    "\n",
    "# log_dir_1 = log_dir()\n",
    "tensorboard_callback = tf.keras.callbacks.TensorBoard(log_dir= log_dir())\n",
    "early_callback = tf.keras.callbacks.EarlyStopping(monitor = 'val_accuracy' , patience= 2)\n",
    "\n",
    "rnn_model_4.compile(optimizer= tf.keras.optimizers.Adam(learning_rate= 0.01),\n",
    "    loss= tf.keras.losses.SparseCategoricalCrossentropy(),\n",
    "    metrics= ['accuracy'])"
   ]
  },
  {
   "cell_type": "code",
   "execution_count": 64,
   "metadata": {},
   "outputs": [
    {
     "name": "stdout",
     "output_type": "stream",
     "text": [
      "Epoch 1/20\n",
      "105/105 [==============================] - 117s 1s/step - loss: 1.0039 - accuracy: 0.4869 - val_loss: 0.7953 - val_accuracy: 0.6307\n",
      "Epoch 2/20\n",
      "105/105 [==============================] - 100s 949ms/step - loss: 0.7464 - accuracy: 0.6560 - val_loss: 0.9468 - val_accuracy: 0.5227\n",
      "Epoch 3/20\n",
      "105/105 [==============================] - 104s 990ms/step - loss: 0.6667 - accuracy: 0.7214 - val_loss: 0.9565 - val_accuracy: 0.5995\n"
     ]
    },
    {
     "data": {
      "text/plain": [
       "<keras.callbacks.History at 0x1fd83a32190>"
      ]
     },
     "execution_count": 64,
     "metadata": {},
     "output_type": "execute_result"
    }
   ],
   "source": [
    "rnn_model_4.fit(x_train, y_train, epochs= 20, \n",
    "    validation_data = (x_val, y_val),callbacks= [tensorboard_callback, early_callback],\n",
    "     )"
   ]
  },
  {
   "cell_type": "markdown",
   "metadata": {},
   "source": [
    "### RNN 5"
   ]
  },
  {
   "cell_type": "code",
   "execution_count": 103,
   "metadata": {},
   "outputs": [],
   "source": [
    "EMBEDDING = 50\n",
    "SENTENCE_LENGTH = 150\n",
    "VOCAB_SIZE = 3400\n",
    "RNN_NODES = 20\n",
    "\n",
    "\n",
    "Model_name = 'rnn_model_5_'\n",
    "# LOG_DIR = 'logs/' + +datetime.datetime.now().strftime(\"%Y_%m_%d-%H_%M_%S\")\n",
    "\n",
    "def log_dir():\n",
    "    LOG_DIR = 'logs/fit/'+Model_name + datetime.datetime.now().strftime('%Y_%m_%d-%H_%M_%S')\n",
    "    return LOG_DIR"
   ]
  },
  {
   "cell_type": "code",
   "execution_count": 104,
   "metadata": {},
   "outputs": [],
   "source": [
    "encoder = TextVectorization(max_tokens= VOCAB_SIZE, output_sequence_length= SENTENCE_LENGTH)\n",
    "encoder.adapt(x_train)"
   ]
  },
  {
   "cell_type": "code",
   "execution_count": 106,
   "metadata": {},
   "outputs": [],
   "source": [
    "rnn_model_5 = Sequential([\n",
    "    encoder,\n",
    "    Embedding(input_dim = VOCAB_SIZE, output_dim=EMBEDDING),\n",
    "    Dropout(0.2),\n",
    "    SimpleRNN(RNN_NODES, kernel_regularizer= 'l2', recurrent_regularizer= 'l2', recurrent_dropout= 0.2),\n",
    "    Dense(3, activation = 'softmax')\n",
    "])\n",
    "\n",
    "rnn_model_5.compile(optimizer = tf.keras.optimizers.Adam(learning_rate= 0.01),\n",
    "    loss = tf.keras.losses.SparseCategoricalCrossentropy(),\n",
    "    metrics= ['accuracy'])\n",
    "\n",
    "tensorboard_callback = tf.keras.callbacks.TensorBoard(log_dir= log_dir(), histogram_freq=1  )\n",
    "# early_callback = tf.keras.callbacks.EarlyStopping(monitor = 'val_accuracy', patience = 2)"
   ]
  },
  {
   "cell_type": "code",
   "execution_count": 108,
   "metadata": {},
   "outputs": [
    {
     "ename": "KeyboardInterrupt",
     "evalue": "",
     "output_type": "error",
     "traceback": [
      "\u001b[1;31m---------------------------------------------------------------------------\u001b[0m",
      "\u001b[1;31mKeyboardInterrupt\u001b[0m                         Traceback (most recent call last)",
      "\u001b[1;32m~\\AppData\\Local\\Temp/ipykernel_19120/3321412488.py\u001b[0m in \u001b[0;36m<module>\u001b[1;34m\u001b[0m\n\u001b[1;32m----> 1\u001b[1;33m \u001b[0mrnn_model_5\u001b[0m\u001b[1;33m.\u001b[0m\u001b[0mfit\u001b[0m\u001b[1;33m(\u001b[0m\u001b[0mx_train\u001b[0m\u001b[1;33m,\u001b[0m \u001b[0my_train\u001b[0m\u001b[1;33m,\u001b[0m \u001b[0mepochs\u001b[0m \u001b[1;33m=\u001b[0m \u001b[1;36m20\u001b[0m\u001b[1;33m,\u001b[0m \u001b[0mcallbacks\u001b[0m\u001b[1;33m=\u001b[0m\u001b[1;33m[\u001b[0m\u001b[0mtensorboard_callback\u001b[0m\u001b[1;33m]\u001b[0m\u001b[1;33m,\u001b[0m \u001b[0mvalidation_data\u001b[0m\u001b[1;33m=\u001b[0m \u001b[1;33m(\u001b[0m\u001b[0mx_val\u001b[0m\u001b[1;33m,\u001b[0m \u001b[0my_val\u001b[0m\u001b[1;33m)\u001b[0m\u001b[1;33m)\u001b[0m\u001b[1;33m\u001b[0m\u001b[1;33m\u001b[0m\u001b[0m\n\u001b[0m",
      "\u001b[1;32mG:\\python_virtual_env\\myenv\\lib\\site-packages\\keras\\utils\\traceback_utils.py\u001b[0m in \u001b[0;36merror_handler\u001b[1;34m(*args, **kwargs)\u001b[0m\n\u001b[0;32m     62\u001b[0m     \u001b[0mfiltered_tb\u001b[0m \u001b[1;33m=\u001b[0m \u001b[1;32mNone\u001b[0m\u001b[1;33m\u001b[0m\u001b[1;33m\u001b[0m\u001b[0m\n\u001b[0;32m     63\u001b[0m     \u001b[1;32mtry\u001b[0m\u001b[1;33m:\u001b[0m\u001b[1;33m\u001b[0m\u001b[1;33m\u001b[0m\u001b[0m\n\u001b[1;32m---> 64\u001b[1;33m       \u001b[1;32mreturn\u001b[0m \u001b[0mfn\u001b[0m\u001b[1;33m(\u001b[0m\u001b[1;33m*\u001b[0m\u001b[0margs\u001b[0m\u001b[1;33m,\u001b[0m \u001b[1;33m**\u001b[0m\u001b[0mkwargs\u001b[0m\u001b[1;33m)\u001b[0m\u001b[1;33m\u001b[0m\u001b[1;33m\u001b[0m\u001b[0m\n\u001b[0m\u001b[0;32m     65\u001b[0m     \u001b[1;32mexcept\u001b[0m \u001b[0mException\u001b[0m \u001b[1;32mas\u001b[0m \u001b[0me\u001b[0m\u001b[1;33m:\u001b[0m  \u001b[1;31m# pylint: disable=broad-except\u001b[0m\u001b[1;33m\u001b[0m\u001b[1;33m\u001b[0m\u001b[0m\n\u001b[0;32m     66\u001b[0m       \u001b[0mfiltered_tb\u001b[0m \u001b[1;33m=\u001b[0m \u001b[0m_process_traceback_frames\u001b[0m\u001b[1;33m(\u001b[0m\u001b[0me\u001b[0m\u001b[1;33m.\u001b[0m\u001b[0m__traceback__\u001b[0m\u001b[1;33m)\u001b[0m\u001b[1;33m\u001b[0m\u001b[1;33m\u001b[0m\u001b[0m\n",
      "\u001b[1;32mG:\\python_virtual_env\\myenv\\lib\\site-packages\\keras\\engine\\training.py\u001b[0m in \u001b[0;36mfit\u001b[1;34m(self, x, y, batch_size, epochs, verbose, callbacks, validation_split, validation_data, shuffle, class_weight, sample_weight, initial_epoch, steps_per_epoch, validation_steps, validation_batch_size, validation_freq, max_queue_size, workers, use_multiprocessing)\u001b[0m\n\u001b[0;32m   1164\u001b[0m          \u001b[0mtraining_utils\u001b[0m\u001b[1;33m.\u001b[0m\u001b[0mRespectCompiledTrainableState\u001b[0m\u001b[1;33m(\u001b[0m\u001b[0mself\u001b[0m\u001b[1;33m)\u001b[0m\u001b[1;33m:\u001b[0m\u001b[1;33m\u001b[0m\u001b[1;33m\u001b[0m\u001b[0m\n\u001b[0;32m   1165\u001b[0m       \u001b[1;31m# Creates a `tf.data.Dataset` and handles batch and epoch iteration.\u001b[0m\u001b[1;33m\u001b[0m\u001b[1;33m\u001b[0m\u001b[0m\n\u001b[1;32m-> 1166\u001b[1;33m       data_handler = data_adapter.get_data_handler(\n\u001b[0m\u001b[0;32m   1167\u001b[0m           \u001b[0mx\u001b[0m\u001b[1;33m=\u001b[0m\u001b[0mx\u001b[0m\u001b[1;33m,\u001b[0m\u001b[1;33m\u001b[0m\u001b[1;33m\u001b[0m\u001b[0m\n\u001b[0;32m   1168\u001b[0m           \u001b[0my\u001b[0m\u001b[1;33m=\u001b[0m\u001b[0my\u001b[0m\u001b[1;33m,\u001b[0m\u001b[1;33m\u001b[0m\u001b[1;33m\u001b[0m\u001b[0m\n",
      "\u001b[1;32mG:\\python_virtual_env\\myenv\\lib\\site-packages\\keras\\engine\\data_adapter.py\u001b[0m in \u001b[0;36mget_data_handler\u001b[1;34m(*args, **kwargs)\u001b[0m\n\u001b[0;32m   1401\u001b[0m   \u001b[1;32mif\u001b[0m \u001b[0mgetattr\u001b[0m\u001b[1;33m(\u001b[0m\u001b[0mkwargs\u001b[0m\u001b[1;33m[\u001b[0m\u001b[1;34m\"model\"\u001b[0m\u001b[1;33m]\u001b[0m\u001b[1;33m,\u001b[0m \u001b[1;34m\"_cluster_coordinator\"\u001b[0m\u001b[1;33m,\u001b[0m \u001b[1;32mNone\u001b[0m\u001b[1;33m)\u001b[0m\u001b[1;33m:\u001b[0m\u001b[1;33m\u001b[0m\u001b[1;33m\u001b[0m\u001b[0m\n\u001b[0;32m   1402\u001b[0m     \u001b[1;32mreturn\u001b[0m \u001b[0m_ClusterCoordinatorDataHandler\u001b[0m\u001b[1;33m(\u001b[0m\u001b[1;33m*\u001b[0m\u001b[0margs\u001b[0m\u001b[1;33m,\u001b[0m \u001b[1;33m**\u001b[0m\u001b[0mkwargs\u001b[0m\u001b[1;33m)\u001b[0m\u001b[1;33m\u001b[0m\u001b[1;33m\u001b[0m\u001b[0m\n\u001b[1;32m-> 1403\u001b[1;33m   \u001b[1;32mreturn\u001b[0m \u001b[0mDataHandler\u001b[0m\u001b[1;33m(\u001b[0m\u001b[1;33m*\u001b[0m\u001b[0margs\u001b[0m\u001b[1;33m,\u001b[0m \u001b[1;33m**\u001b[0m\u001b[0mkwargs\u001b[0m\u001b[1;33m)\u001b[0m\u001b[1;33m\u001b[0m\u001b[1;33m\u001b[0m\u001b[0m\n\u001b[0m\u001b[0;32m   1404\u001b[0m \u001b[1;33m\u001b[0m\u001b[0m\n\u001b[0;32m   1405\u001b[0m \u001b[1;33m\u001b[0m\u001b[0m\n",
      "\u001b[1;32mG:\\python_virtual_env\\myenv\\lib\\site-packages\\keras\\engine\\data_adapter.py\u001b[0m in \u001b[0;36m__init__\u001b[1;34m(self, x, y, sample_weight, batch_size, steps_per_epoch, initial_epoch, epochs, shuffle, class_weight, max_queue_size, workers, use_multiprocessing, model, steps_per_execution, distribute)\u001b[0m\n\u001b[0;32m   1151\u001b[0m \u001b[1;33m\u001b[0m\u001b[0m\n\u001b[0;32m   1152\u001b[0m     \u001b[0madapter_cls\u001b[0m \u001b[1;33m=\u001b[0m \u001b[0mselect_data_adapter\u001b[0m\u001b[1;33m(\u001b[0m\u001b[0mx\u001b[0m\u001b[1;33m,\u001b[0m \u001b[0my\u001b[0m\u001b[1;33m)\u001b[0m\u001b[1;33m\u001b[0m\u001b[1;33m\u001b[0m\u001b[0m\n\u001b[1;32m-> 1153\u001b[1;33m     self._adapter = adapter_cls(\n\u001b[0m\u001b[0;32m   1154\u001b[0m         \u001b[0mx\u001b[0m\u001b[1;33m,\u001b[0m\u001b[1;33m\u001b[0m\u001b[1;33m\u001b[0m\u001b[0m\n\u001b[0;32m   1155\u001b[0m         \u001b[0my\u001b[0m\u001b[1;33m,\u001b[0m\u001b[1;33m\u001b[0m\u001b[1;33m\u001b[0m\u001b[0m\n",
      "\u001b[1;32mG:\\python_virtual_env\\myenv\\lib\\site-packages\\keras\\engine\\data_adapter.py\u001b[0m in \u001b[0;36m__init__\u001b[1;34m(self, x, y, sample_weights, sample_weight_modes, batch_size, epochs, steps, shuffle, **kwargs)\u001b[0m\n\u001b[0;32m    272\u001b[0m     \u001b[1;31m# 5. disabled static optimizations\u001b[0m\u001b[1;33m\u001b[0m\u001b[1;33m\u001b[0m\u001b[0m\n\u001b[0;32m    273\u001b[0m \u001b[1;33m\u001b[0m\u001b[0m\n\u001b[1;32m--> 274\u001b[1;33m     \u001b[0mindices_dataset\u001b[0m \u001b[1;33m=\u001b[0m \u001b[0mtf\u001b[0m\u001b[1;33m.\u001b[0m\u001b[0mdata\u001b[0m\u001b[1;33m.\u001b[0m\u001b[0mDataset\u001b[0m\u001b[1;33m.\u001b[0m\u001b[0mrange\u001b[0m\u001b[1;33m(\u001b[0m\u001b[1;36m1\u001b[0m\u001b[1;33m)\u001b[0m\u001b[1;33m\u001b[0m\u001b[1;33m\u001b[0m\u001b[0m\n\u001b[0m\u001b[0;32m    275\u001b[0m     \u001b[1;32mif\u001b[0m \u001b[0mshuffle\u001b[0m \u001b[1;33m!=\u001b[0m \u001b[1;34m\"batch\"\u001b[0m\u001b[1;33m:\u001b[0m\u001b[1;33m\u001b[0m\u001b[1;33m\u001b[0m\u001b[0m\n\u001b[0;32m    276\u001b[0m       \u001b[0mindices_dataset\u001b[0m \u001b[1;33m=\u001b[0m \u001b[0mindices_dataset\u001b[0m\u001b[1;33m.\u001b[0m\u001b[0mrepeat\u001b[0m\u001b[1;33m(\u001b[0m\u001b[0mepochs\u001b[0m\u001b[1;33m)\u001b[0m\u001b[1;33m\u001b[0m\u001b[1;33m\u001b[0m\u001b[0m\n",
      "\u001b[1;32mG:\\python_virtual_env\\myenv\\lib\\site-packages\\tensorflow\\python\\data\\ops\\dataset_ops.py\u001b[0m in \u001b[0;36mrange\u001b[1;34m(*args, **kwargs)\u001b[0m\n\u001b[0;32m   1166\u001b[0m       \u001b[0mValueError\u001b[0m\u001b[1;33m:\u001b[0m \u001b[1;32mif\u001b[0m \u001b[0mlen\u001b[0m\u001b[1;33m(\u001b[0m\u001b[0margs\u001b[0m\u001b[1;33m)\u001b[0m \u001b[1;33m==\u001b[0m \u001b[1;36m0.\u001b[0m\u001b[1;33m\u001b[0m\u001b[1;33m\u001b[0m\u001b[0m\n\u001b[0;32m   1167\u001b[0m     \"\"\"\n\u001b[1;32m-> 1168\u001b[1;33m     \u001b[1;32mreturn\u001b[0m \u001b[0mRangeDataset\u001b[0m\u001b[1;33m(\u001b[0m\u001b[1;33m*\u001b[0m\u001b[0margs\u001b[0m\u001b[1;33m,\u001b[0m \u001b[1;33m**\u001b[0m\u001b[0mkwargs\u001b[0m\u001b[1;33m)\u001b[0m\u001b[1;33m\u001b[0m\u001b[1;33m\u001b[0m\u001b[0m\n\u001b[0m\u001b[0;32m   1169\u001b[0m \u001b[1;33m\u001b[0m\u001b[0m\n\u001b[0;32m   1170\u001b[0m   \u001b[1;33m@\u001b[0m\u001b[0mstaticmethod\u001b[0m\u001b[1;33m\u001b[0m\u001b[1;33m\u001b[0m\u001b[0m\n",
      "\u001b[1;32mG:\\python_virtual_env\\myenv\\lib\\site-packages\\tensorflow\\python\\data\\ops\\dataset_ops.py\u001b[0m in \u001b[0;36m__init__\u001b[1;34m(self, *args, **kwargs)\u001b[0m\n\u001b[0;32m   4915\u001b[0m     \u001b[1;32mif\u001b[0m \u001b[0mself\u001b[0m\u001b[1;33m.\u001b[0m\u001b[0m_metadata\u001b[0m\u001b[1;33m.\u001b[0m\u001b[0mname\u001b[0m \u001b[1;32mor\u001b[0m \u001b[0mcompat\u001b[0m\u001b[1;33m.\u001b[0m\u001b[0mforward_compatible\u001b[0m\u001b[1;33m(\u001b[0m\u001b[1;36m2021\u001b[0m\u001b[1;33m,\u001b[0m \u001b[1;36m9\u001b[0m\u001b[1;33m,\u001b[0m \u001b[1;36m30\u001b[0m\u001b[1;33m)\u001b[0m\u001b[1;33m:\u001b[0m\u001b[1;33m\u001b[0m\u001b[1;33m\u001b[0m\u001b[0m\n\u001b[0;32m   4916\u001b[0m       \u001b[0mkwargs\u001b[0m\u001b[1;33m[\u001b[0m\u001b[1;34m\"metadata\"\u001b[0m\u001b[1;33m]\u001b[0m \u001b[1;33m=\u001b[0m \u001b[0mself\u001b[0m\u001b[1;33m.\u001b[0m\u001b[0m_metadata\u001b[0m\u001b[1;33m.\u001b[0m\u001b[0mSerializeToString\u001b[0m\u001b[1;33m(\u001b[0m\u001b[1;33m)\u001b[0m\u001b[1;33m\u001b[0m\u001b[1;33m\u001b[0m\u001b[0m\n\u001b[1;32m-> 4917\u001b[1;33m     variant_tensor = gen_dataset_ops.range_dataset(\n\u001b[0m\u001b[0;32m   4918\u001b[0m         start=self._start, stop=self._stop, step=self._step, **kwargs)\n\u001b[0;32m   4919\u001b[0m     \u001b[0msuper\u001b[0m\u001b[1;33m(\u001b[0m\u001b[0mRangeDataset\u001b[0m\u001b[1;33m,\u001b[0m \u001b[0mself\u001b[0m\u001b[1;33m)\u001b[0m\u001b[1;33m.\u001b[0m\u001b[0m__init__\u001b[0m\u001b[1;33m(\u001b[0m\u001b[0mvariant_tensor\u001b[0m\u001b[1;33m)\u001b[0m\u001b[1;33m\u001b[0m\u001b[1;33m\u001b[0m\u001b[0m\n",
      "\u001b[1;32mG:\\python_virtual_env\\myenv\\lib\\site-packages\\tensorflow\\python\\ops\\gen_dataset_ops.py\u001b[0m in \u001b[0;36mrange_dataset\u001b[1;34m(start, stop, step, output_types, output_shapes, metadata, name)\u001b[0m\n\u001b[0;32m   5977\u001b[0m   \u001b[1;32mif\u001b[0m \u001b[0mtld\u001b[0m\u001b[1;33m.\u001b[0m\u001b[0mis_eager\u001b[0m\u001b[1;33m:\u001b[0m\u001b[1;33m\u001b[0m\u001b[1;33m\u001b[0m\u001b[0m\n\u001b[0;32m   5978\u001b[0m     \u001b[1;32mtry\u001b[0m\u001b[1;33m:\u001b[0m\u001b[1;33m\u001b[0m\u001b[1;33m\u001b[0m\u001b[0m\n\u001b[1;32m-> 5979\u001b[1;33m       _result = pywrap_tfe.TFE_Py_FastPathExecute(\n\u001b[0m\u001b[0;32m   5980\u001b[0m         \u001b[0m_ctx\u001b[0m\u001b[1;33m,\u001b[0m \u001b[1;34m\"RangeDataset\"\u001b[0m\u001b[1;33m,\u001b[0m \u001b[0mname\u001b[0m\u001b[1;33m,\u001b[0m \u001b[0mstart\u001b[0m\u001b[1;33m,\u001b[0m \u001b[0mstop\u001b[0m\u001b[1;33m,\u001b[0m \u001b[0mstep\u001b[0m\u001b[1;33m,\u001b[0m \u001b[1;34m\"output_types\"\u001b[0m\u001b[1;33m,\u001b[0m\u001b[1;33m\u001b[0m\u001b[1;33m\u001b[0m\u001b[0m\n\u001b[0;32m   5981\u001b[0m         output_types, \"output_shapes\", output_shapes, \"metadata\", metadata)\n",
      "\u001b[1;31mKeyboardInterrupt\u001b[0m: "
     ]
    }
   ],
   "source": [
    "rnn_model_5.fit(x_train, y_train, epochs = 20, callbacks=[tensorboard_callback], validation_data= (x_val, y_val))"
   ]
  },
  {
   "cell_type": "markdown",
   "metadata": {},
   "source": [
    "we tried this model but no changes in working,\n",
    "\n",
    "Let's create another one with padding given externally"
   ]
  },
  {
   "cell_type": "markdown",
   "metadata": {},
   "source": [
    "### RNN 6"
   ]
  },
  {
   "cell_type": "code",
   "execution_count": 90,
   "metadata": {},
   "outputs": [],
   "source": [
    "encoder = TextVectorization(max_tokens= 7500, output_sequence_length= 150)\n",
    "encoder.adapt(x_train)"
   ]
  },
  {
   "cell_type": "code",
   "execution_count": 94,
   "metadata": {},
   "outputs": [
    {
     "data": {
      "text/plain": [
       "<tf.Tensor: shape=(3360, 150), dtype=int64, numpy=\n",
       "array([[ 698,  205,   14, ...,    0,    0,    0],\n",
       "       [  92,   28,   14, ...,    0,    0,    0],\n",
       "       [  18,  163,   84, ...,    0,    0,    0],\n",
       "       ...,\n",
       "       [   4,    9,    3, ...,    0,    0,    0],\n",
       "       [   2,    3,    2, ...,    0,    0,    0],\n",
       "       [1015,    3, 5174, ...,    0,    0,    0]], dtype=int64)>"
      ]
     },
     "execution_count": 94,
     "metadata": {},
     "output_type": "execute_result"
    }
   ],
   "source": [
    "encoder(x_train)"
   ]
  },
  {
   "cell_type": "code",
   "execution_count": null,
   "metadata": {},
   "outputs": [],
   "source": []
  },
  {
   "cell_type": "code",
   "execution_count": null,
   "metadata": {},
   "outputs": [],
   "source": []
  },
  {
   "cell_type": "markdown",
   "metadata": {},
   "source": [
    "## LSTM"
   ]
  },
  {
   "cell_type": "code",
   "execution_count": null,
   "metadata": {},
   "outputs": [],
   "source": []
  },
  {
   "cell_type": "markdown",
   "metadata": {},
   "source": [
    "### LSTM 1"
   ]
  },
  {
   "cell_type": "code",
   "execution_count": 70,
   "metadata": {},
   "outputs": [],
   "source": [
    "EMBEDDING =50\n",
    "VOCAB_SIZE = 7500\n",
    "SENTENCE_LENGTH = 150\n",
    "Model_name = 'lstm_model_'\n",
    "\n",
    "def log_dir():\n",
    "    LOG_DIR = 'logs/fit/'+Model_name + datetime.datetime.now().strftime('%Y_%m_%d-%H_%M_%S')\n",
    "    return LOG_DIR"
   ]
  },
  {
   "cell_type": "code",
   "execution_count": 71,
   "metadata": {},
   "outputs": [],
   "source": [
    "encode = TextVectorization(max_tokens = VOCAB_SIZE, output_sequence_length= 150)\n",
    "encode.adapt(x_train)"
   ]
  },
  {
   "cell_type": "code",
   "execution_count": 72,
   "metadata": {},
   "outputs": [],
   "source": [
    "lstm_model = Sequential([\n",
    "    encode,\n",
    "    Embedding(input_dim = VOCAB_SIZE, output_dim= EMBEDDING),\n",
    "    LSTM(64),\n",
    "    layers.Dense(3, activation = 'softmax')\n",
    "])\n",
    "\n",
    "lstm_model.compile(optimizer= tf.keras.optimizers.Adam(),\n",
    "    loss = tf.keras.losses.SparseCategoricalCrossentropy(),\n",
    "    metrics = ['accuracy'] )\n",
    "\n",
    "tensorboard_callback = tf.keras.callbacks.TensorBoard(log_dir = log_dir())\n"
   ]
  },
  {
   "cell_type": "code",
   "execution_count": 73,
   "metadata": {},
   "outputs": [
    {
     "name": "stdout",
     "output_type": "stream",
     "text": [
      "Epoch 1/40\n",
      "105/105 [==============================] - 53s 30ms/step - loss: 1.0982 - accuracy: 0.3491\n",
      "Epoch 2/40\n",
      "105/105 [==============================] - 3s 29ms/step - loss: 1.0965 - accuracy: 0.3515\n",
      "Epoch 3/40\n",
      "105/105 [==============================] - 4s 36ms/step - loss: 1.0950 - accuracy: 0.3583\n",
      "Epoch 4/40\n",
      "105/105 [==============================] - 3s 30ms/step - loss: 1.1087 - accuracy: 0.3548\n",
      "Epoch 5/40\n",
      "105/105 [==============================] - 3s 32ms/step - loss: 1.1001 - accuracy: 0.3622\n",
      "Epoch 6/40\n",
      "105/105 [==============================] - 4s 33ms/step - loss: 1.0971 - accuracy: 0.3589\n",
      "Epoch 7/40\n",
      "105/105 [==============================] - 4s 36ms/step - loss: 1.0955 - accuracy: 0.3568\n",
      "Epoch 8/40\n",
      "105/105 [==============================] - 3s 31ms/step - loss: 1.0939 - accuracy: 0.3515 0s - loss: 1.0935 - \n",
      "Epoch 9/40\n",
      "105/105 [==============================] - 3s 30ms/step - loss: 1.0943 - accuracy: 0.3479\n",
      "Epoch 10/40\n",
      "105/105 [==============================] - 3s 28ms/step - loss: 1.0921 - accuracy: 0.3601\n",
      "Epoch 11/40\n",
      "105/105 [==============================] - 3s 31ms/step - loss: 1.0921 - accuracy: 0.3583\n",
      "Epoch 12/40\n",
      "105/105 [==============================] - 4s 33ms/step - loss: 1.0921 - accuracy: 0.3518\n",
      "Epoch 13/40\n",
      "105/105 [==============================] - 3s 30ms/step - loss: 1.0895 - accuracy: 0.3512\n",
      "Epoch 14/40\n",
      "105/105 [==============================] - ETA: 0s - loss: 1.0893 - accuracy: 0.36 - 4s 35ms/step - loss: 1.0893 - accuracy: 0.3604\n",
      "Epoch 15/40\n",
      "105/105 [==============================] - 3s 29ms/step - loss: 1.0890 - accuracy: 0.3622\n",
      "Epoch 16/40\n",
      "105/105 [==============================] - 3s 30ms/step - loss: 1.0895 - accuracy: 0.3625\n",
      "Epoch 17/40\n",
      "105/105 [==============================] - 3s 29ms/step - loss: 1.0880 - accuracy: 0.3619\n",
      "Epoch 18/40\n",
      "105/105 [==============================] - 3s 31ms/step - loss: 1.0881 - accuracy: 0.3688\n",
      "Epoch 19/40\n",
      "105/105 [==============================] - 3s 31ms/step - loss: 1.0882 - accuracy: 0.3634\n",
      "Epoch 20/40\n",
      "105/105 [==============================] - 3s 30ms/step - loss: 1.0892 - accuracy: 0.3473 0s -\n",
      "Epoch 21/40\n",
      "105/105 [==============================] - 3s 30ms/step - loss: 1.0896 - accuracy: 0.3631\n",
      "Epoch 22/40\n",
      "105/105 [==============================] - 3s 30ms/step - loss: 1.0873 - accuracy: 0.3634\n",
      "Epoch 23/40\n",
      "105/105 [==============================] - 3s 31ms/step - loss: 1.0886 - accuracy: 0.3673\n",
      "Epoch 24/40\n",
      "105/105 [==============================] - 4s 33ms/step - loss: 1.0884 - accuracy: 0.3571\n",
      "Epoch 25/40\n",
      "105/105 [==============================] - 3s 29ms/step - loss: 1.0846 - accuracy: 0.3729\n",
      "Epoch 26/40\n",
      "105/105 [==============================] - 3s 30ms/step - loss: 0.9325 - accuracy: 0.5443\n",
      "Epoch 27/40\n",
      "105/105 [==============================] - 3s 31ms/step - loss: 0.6431 - accuracy: 0.7089\n",
      "Epoch 28/40\n",
      "105/105 [==============================] - 3s 29ms/step - loss: 0.4687 - accuracy: 0.8024\n",
      "Epoch 29/40\n",
      "105/105 [==============================] - 3s 28ms/step - loss: 0.4727 - accuracy: 0.8137\n",
      "Epoch 30/40\n",
      "105/105 [==============================] - 3s 28ms/step - loss: 0.2846 - accuracy: 0.9057\n",
      "Epoch 31/40\n",
      "105/105 [==============================] - 3s 29ms/step - loss: 0.2159 - accuracy: 0.9301 0s - loss: 0.2195 - \n",
      "Epoch 32/40\n",
      "105/105 [==============================] - 3s 29ms/step - loss: 0.1515 - accuracy: 0.9521\n",
      "Epoch 33/40\n",
      "105/105 [==============================] - 3s 28ms/step - loss: 0.0912 - accuracy: 0.9753\n",
      "Epoch 34/40\n",
      "105/105 [==============================] - 3s 28ms/step - loss: 0.0676 - accuracy: 0.9827\n",
      "Epoch 35/40\n",
      "105/105 [==============================] - 3s 28ms/step - loss: 0.0549 - accuracy: 0.9851\n",
      "Epoch 36/40\n",
      "105/105 [==============================] - 3s 28ms/step - loss: 0.0425 - accuracy: 0.9875\n",
      "Epoch 37/40\n",
      "105/105 [==============================] - 3s 31ms/step - loss: 0.0365 - accuracy: 0.9914- E\n",
      "Epoch 38/40\n",
      "105/105 [==============================] - 3s 27ms/step - loss: 0.0214 - accuracy: 0.9955\n",
      "Epoch 39/40\n",
      "105/105 [==============================] - 3s 28ms/step - loss: 0.0274 - accuracy: 0.9926\n",
      "Epoch 40/40\n",
      "105/105 [==============================] - 3s 27ms/step - loss: 0.0171 - accuracy: 0.9970\n"
     ]
    },
    {
     "data": {
      "text/plain": [
       "<keras.callbacks.History at 0x263987e2c10>"
      ]
     },
     "execution_count": 73,
     "metadata": {},
     "output_type": "execute_result"
    }
   ],
   "source": [
    "lstm_model.fit(x_train, y_train, epochs = 40, callbacks = [tensorboard_callback])"
   ]
  },
  {
   "cell_type": "code",
   "execution_count": 74,
   "metadata": {},
   "outputs": [
    {
     "name": "stdout",
     "output_type": "stream",
     "text": [
      "36/36 [==============================] - 29s 27ms/step - loss: 0.6896 - accuracy: 0.8662\n"
     ]
    },
    {
     "data": {
      "text/plain": [
       "[0.6896207928657532, 0.8661909103393555]"
      ]
     },
     "execution_count": 74,
     "metadata": {},
     "output_type": "execute_result"
    }
   ],
   "source": [
    "lstm_model.evaluate(x_val, y_val)"
   ]
  },
  {
   "cell_type": "code",
   "execution_count": 76,
   "metadata": {},
   "outputs": [
    {
     "data": {
      "text/plain": [
       "0"
      ]
     },
     "execution_count": 76,
     "metadata": {},
     "output_type": "execute_result"
    }
   ],
   "source": [
    "np.argmax(lstm_model.predict(['phone is worst']))"
   ]
  },
  {
   "cell_type": "code",
   "execution_count": 77,
   "metadata": {},
   "outputs": [
    {
     "name": "stderr",
     "output_type": "stream",
     "text": [
      "WARNING:absl:Found untraced functions such as lstm_cell_layer_call_fn, lstm_cell_layer_call_and_return_conditional_losses, lstm_cell_layer_call_fn, lstm_cell_layer_call_and_return_conditional_losses, lstm_cell_layer_call_and_return_conditional_losses while saving (showing 5 of 5). These functions will not be directly callable after loading.\n"
     ]
    },
    {
     "name": "stdout",
     "output_type": "stream",
     "text": [
      "INFO:tensorflow:Assets written to: Model_files/lstm_model.tf\\assets\n"
     ]
    },
    {
     "name": "stderr",
     "output_type": "stream",
     "text": [
      "INFO:tensorflow:Assets written to: Model_files/lstm_model.tf\\assets\n",
      "WARNING:absl:<keras.layers.recurrent.LSTMCell object at 0x0000026398A1EF70> has the same name 'LSTMCell' as a built-in Keras object. Consider renaming <class 'keras.layers.recurrent.LSTMCell'> to avoid naming conflicts when loading with `tf.keras.models.load_model`. If renaming is not possible, pass the object in the `custom_objects` parameter of the load function.\n"
     ]
    }
   ],
   "source": [
    "lstm_model.save('Model_files/lstm_model.tf')"
   ]
  },
  {
   "cell_type": "code",
   "execution_count": 80,
   "metadata": {},
   "outputs": [
    {
     "ename": "SyntaxError",
     "evalue": "invalid syntax (Temp/ipykernel_10736/42849339.py, line 1)",
     "output_type": "error",
     "traceback": [
      "\u001b[1;36m  File \u001b[1;32m\"C:\\Users\\HP\\AppData\\Local\\Temp/ipykernel_10736/42849339.py\"\u001b[1;36m, line \u001b[1;32m1\u001b[0m\n\u001b[1;33m    model = tf.keras.models.load_model('Model_files/lstm_model.tf', custom_objects= )\u001b[0m\n\u001b[1;37m                                                                                    ^\u001b[0m\n\u001b[1;31mSyntaxError\u001b[0m\u001b[1;31m:\u001b[0m invalid syntax\n"
     ]
    }
   ],
   "source": [
    "model = tf.keras.models.load_model('Model_files/lstm_model.tf')"
   ]
  },
  {
   "cell_type": "code",
   "execution_count": 81,
   "metadata": {},
   "outputs": [
    {
     "name": "stdout",
     "output_type": "stream",
     "text": [
      "Model: \"sequential_4\"\n",
      "_________________________________________________________________\n",
      " Layer (type)                Output Shape              Param #   \n",
      "=================================================================\n",
      " text_vectorization_3 (TextV  (None, None)             0         \n",
      " ectorization)                                                   \n",
      "                                                                 \n",
      " embedding_4 (Embedding)     (None, None, 50)          375000    \n",
      "                                                                 \n",
      " lstm (LSTM)                 (None, 64)                29440     \n",
      "                                                                 \n",
      " dense_4 (Dense)             (None, 3)                 195       \n",
      "                                                                 \n",
      "=================================================================\n",
      "Total params: 404,635\n",
      "Trainable params: 404,635\n",
      "Non-trainable params: 0\n",
      "_________________________________________________________________\n"
     ]
    }
   ],
   "source": [
    "model.summary()"
   ]
  },
  {
   "cell_type": "code",
   "execution_count": 82,
   "metadata": {},
   "outputs": [
    {
     "name": "stdout",
     "output_type": "stream",
     "text": [
      "WARNING:tensorflow:Model was constructed with shape (None, None) for input KerasTensor(type_spec=TensorSpec(shape=(None, None), dtype=tf.string, name='text_vectorization_3_input'), name='text_vectorization_3_input', description=\"created by layer 'text_vectorization_3_input'\"), but it was called on an input with incompatible shape (None,).\n"
     ]
    },
    {
     "name": "stderr",
     "output_type": "stream",
     "text": [
      "WARNING:tensorflow:Model was constructed with shape (None, None) for input KerasTensor(type_spec=TensorSpec(shape=(None, None), dtype=tf.string, name='text_vectorization_3_input'), name='text_vectorization_3_input', description=\"created by layer 'text_vectorization_3_input'\"), but it was called on an input with incompatible shape (None,).\n"
     ]
    },
    {
     "data": {
      "text/plain": [
       "array([[0.12131561, 0.08457218, 0.7941122 ]], dtype=float32)"
      ]
     },
     "execution_count": 82,
     "metadata": {},
     "output_type": "execute_result"
    }
   ],
   "source": [
    "model.predict(['good phone'])"
   ]
  },
  {
   "cell_type": "code",
   "execution_count": 83,
   "metadata": {},
   "outputs": [
    {
     "name": "stdout",
     "output_type": "stream",
     "text": [
      "\n",
      "               precision    recall  f1-score   support\n",
      "\n",
      "           0       0.87      0.87      0.87       333\n",
      "           1       0.79      0.83      0.81       384\n",
      "           2       0.94      0.90      0.92       404\n",
      "\n",
      "    accuracy                           0.87      1121\n",
      "   macro avg       0.87      0.87      0.87      1121\n",
      "weighted avg       0.87      0.87      0.87      1121\n",
      "\n"
     ]
    },
    {
     "data": {
      "image/png": "[encoded data removed]",
      "text/plain": [
       "<Figure size 576x360 with 2 Axes>"
      ]
     },
     "metadata": {
      "needs_background": "light"
     },
     "output_type": "display_data"
    }
   ],
   "source": [
    "confusion_metrix_plot(x_val, y_val, lstm_model)"
   ]
  },
  {
   "cell_type": "markdown",
   "metadata": {},
   "source": [
    "So even LSTM not giving any progress upto 14 epochs, so lets try another RNN with same epochs as lstm without any early stopping"
   ]
  },
  {
   "cell_type": "markdown",
   "metadata": {},
   "source": [
    "### LSTM 2"
   ]
  },
  {
   "cell_type": "code",
   "execution_count": null,
   "metadata": {},
   "outputs": [],
   "source": []
  },
  {
   "cell_type": "code",
   "execution_count": 109,
   "metadata": {},
   "outputs": [],
   "source": [
    "EMBEDDING = 70\n",
    "VOCAB_SIZE = 7500\n",
    "SENTENCE_LENGTH = 150\n",
    "Model_name = 'lstm_model_2_'\n",
    "\n",
    "def log_dir():\n",
    "    LOG_DIR = 'logs/fit/'+Model_name + datetime.datetime.now().strftime('%Y_%m_%d-%H_%M_%S')\n",
    "    return LOG_DIR"
   ]
  },
  {
   "cell_type": "code",
   "execution_count": 110,
   "metadata": {},
   "outputs": [],
   "source": [
    "encode = TextVectorization(max_tokens = VOCAB_SIZE, output_sequence_length= 150)\n",
    "encode.adapt(x_train)"
   ]
  },
  {
   "cell_type": "code",
   "execution_count": 115,
   "metadata": {},
   "outputs": [
    {
     "name": "stdout",
     "output_type": "stream",
     "text": [
      "WARNING:tensorflow:Layer lstm_5 will not use cuDNN kernels since it doesn't meet the criteria. It will use a generic GPU kernel as fallback when running on GPU.\n"
     ]
    },
    {
     "name": "stderr",
     "output_type": "stream",
     "text": [
      "WARNING:tensorflow:Layer lstm_5 will not use cuDNN kernels since it doesn't meet the criteria. It will use a generic GPU kernel as fallback when running on GPU.\n"
     ]
    }
   ],
   "source": [
    "lstm_model_2 = Sequential([\n",
    "    encode,\n",
    "    Embedding(input_dim = VOCAB_SIZE, output_dim= EMBEDDING),\n",
    "    Dropout(0.2),\n",
    "    LSTM(64, activation= 'relu' ,kernel_regularizer = 'l2', dropout = 0.2),\n",
    "    layers.Dense(3, activation = 'softmax')\n",
    "])\n",
    "\n",
    "lstm_model_2.compile(optimizer= tf.keras.optimizers.Adam(),\n",
    "    loss = tf.keras.losses.SparseCategoricalCrossentropy(),\n",
    "    metrics = ['accuracy'] )\n",
    "\n",
    "tensorboard_callback = tf.keras.callbacks.TensorBoard(log_dir = log_dir())\n"
   ]
  },
  {
   "cell_type": "code",
   "execution_count": 116,
   "metadata": {},
   "outputs": [
    {
     "name": "stdout",
     "output_type": "stream",
     "text": [
      "Epoch 1/30\n",
      "105/105 [==============================] - 145s 1s/step - loss: 1.4954 - accuracy: 0.3545\n",
      "Epoch 2/30\n",
      " 15/105 [===>..........................] - ETA: 2:00 - loss: 1.1585 - accuracy: 0.3333"
     ]
    },
    {
     "ename": "KeyboardInterrupt",
     "evalue": "",
     "output_type": "error",
     "traceback": [
      "\u001b[1;31m---------------------------------------------------------------------------\u001b[0m",
      "\u001b[1;31mKeyboardInterrupt\u001b[0m                         Traceback (most recent call last)",
      "\u001b[1;32m~\\AppData\\Local\\Temp/ipykernel_19120/290384628.py\u001b[0m in \u001b[0;36m<module>\u001b[1;34m\u001b[0m\n\u001b[1;32m----> 1\u001b[1;33m \u001b[0mlstm_model_2\u001b[0m\u001b[1;33m.\u001b[0m\u001b[0mfit\u001b[0m\u001b[1;33m(\u001b[0m\u001b[0mx_train\u001b[0m\u001b[1;33m,\u001b[0m \u001b[0my_train\u001b[0m\u001b[1;33m,\u001b[0m \u001b[0mepochs\u001b[0m \u001b[1;33m=\u001b[0m \u001b[1;36m30\u001b[0m\u001b[1;33m,\u001b[0m \u001b[0mcallbacks\u001b[0m \u001b[1;33m=\u001b[0m \u001b[1;33m[\u001b[0m\u001b[0mtensorboard_callback\u001b[0m\u001b[1;33m]\u001b[0m\u001b[1;33m)\u001b[0m\u001b[1;33m\u001b[0m\u001b[1;33m\u001b[0m\u001b[0m\n\u001b[0m",
      "\u001b[1;32mG:\\python_virtual_env\\myenv\\lib\\site-packages\\keras\\utils\\traceback_utils.py\u001b[0m in \u001b[0;36merror_handler\u001b[1;34m(*args, **kwargs)\u001b[0m\n\u001b[0;32m     62\u001b[0m     \u001b[0mfiltered_tb\u001b[0m \u001b[1;33m=\u001b[0m \u001b[1;32mNone\u001b[0m\u001b[1;33m\u001b[0m\u001b[1;33m\u001b[0m\u001b[0m\n\u001b[0;32m     63\u001b[0m     \u001b[1;32mtry\u001b[0m\u001b[1;33m:\u001b[0m\u001b[1;33m\u001b[0m\u001b[1;33m\u001b[0m\u001b[0m\n\u001b[1;32m---> 64\u001b[1;33m       \u001b[1;32mreturn\u001b[0m \u001b[0mfn\u001b[0m\u001b[1;33m(\u001b[0m\u001b[1;33m*\u001b[0m\u001b[0margs\u001b[0m\u001b[1;33m,\u001b[0m \u001b[1;33m**\u001b[0m\u001b[0mkwargs\u001b[0m\u001b[1;33m)\u001b[0m\u001b[1;33m\u001b[0m\u001b[1;33m\u001b[0m\u001b[0m\n\u001b[0m\u001b[0;32m     65\u001b[0m     \u001b[1;32mexcept\u001b[0m \u001b[0mException\u001b[0m \u001b[1;32mas\u001b[0m \u001b[0me\u001b[0m\u001b[1;33m:\u001b[0m  \u001b[1;31m# pylint: disable=broad-except\u001b[0m\u001b[1;33m\u001b[0m\u001b[1;33m\u001b[0m\u001b[0m\n\u001b[0;32m     66\u001b[0m       \u001b[0mfiltered_tb\u001b[0m \u001b[1;33m=\u001b[0m \u001b[0m_process_traceback_frames\u001b[0m\u001b[1;33m(\u001b[0m\u001b[0me\u001b[0m\u001b[1;33m.\u001b[0m\u001b[0m__traceback__\u001b[0m\u001b[1;33m)\u001b[0m\u001b[1;33m\u001b[0m\u001b[1;33m\u001b[0m\u001b[0m\n",
      "\u001b[1;32mG:\\python_virtual_env\\myenv\\lib\\site-packages\\keras\\engine\\training.py\u001b[0m in \u001b[0;36mfit\u001b[1;34m(self, x, y, batch_size, epochs, verbose, callbacks, validation_split, validation_data, shuffle, class_weight, sample_weight, initial_epoch, steps_per_epoch, validation_steps, validation_batch_size, validation_freq, max_queue_size, workers, use_multiprocessing)\u001b[0m\n\u001b[0;32m   1214\u001b[0m                 _r=1):\n\u001b[0;32m   1215\u001b[0m               \u001b[0mcallbacks\u001b[0m\u001b[1;33m.\u001b[0m\u001b[0mon_train_batch_begin\u001b[0m\u001b[1;33m(\u001b[0m\u001b[0mstep\u001b[0m\u001b[1;33m)\u001b[0m\u001b[1;33m\u001b[0m\u001b[1;33m\u001b[0m\u001b[0m\n\u001b[1;32m-> 1216\u001b[1;33m               \u001b[0mtmp_logs\u001b[0m \u001b[1;33m=\u001b[0m \u001b[0mself\u001b[0m\u001b[1;33m.\u001b[0m\u001b[0mtrain_function\u001b[0m\u001b[1;33m(\u001b[0m\u001b[0miterator\u001b[0m\u001b[1;33m)\u001b[0m\u001b[1;33m\u001b[0m\u001b[1;33m\u001b[0m\u001b[0m\n\u001b[0m\u001b[0;32m   1217\u001b[0m               \u001b[1;32mif\u001b[0m \u001b[0mdata_handler\u001b[0m\u001b[1;33m.\u001b[0m\u001b[0mshould_sync\u001b[0m\u001b[1;33m:\u001b[0m\u001b[1;33m\u001b[0m\u001b[1;33m\u001b[0m\u001b[0m\n\u001b[0;32m   1218\u001b[0m                 \u001b[0mcontext\u001b[0m\u001b[1;33m.\u001b[0m\u001b[0masync_wait\u001b[0m\u001b[1;33m(\u001b[0m\u001b[1;33m)\u001b[0m\u001b[1;33m\u001b[0m\u001b[1;33m\u001b[0m\u001b[0m\n",
      "\u001b[1;32mG:\\python_virtual_env\\myenv\\lib\\site-packages\\tensorflow\\python\\util\\traceback_utils.py\u001b[0m in \u001b[0;36merror_handler\u001b[1;34m(*args, **kwargs)\u001b[0m\n\u001b[0;32m    148\u001b[0m     \u001b[0mfiltered_tb\u001b[0m \u001b[1;33m=\u001b[0m \u001b[1;32mNone\u001b[0m\u001b[1;33m\u001b[0m\u001b[1;33m\u001b[0m\u001b[0m\n\u001b[0;32m    149\u001b[0m     \u001b[1;32mtry\u001b[0m\u001b[1;33m:\u001b[0m\u001b[1;33m\u001b[0m\u001b[1;33m\u001b[0m\u001b[0m\n\u001b[1;32m--> 150\u001b[1;33m       \u001b[1;32mreturn\u001b[0m \u001b[0mfn\u001b[0m\u001b[1;33m(\u001b[0m\u001b[1;33m*\u001b[0m\u001b[0margs\u001b[0m\u001b[1;33m,\u001b[0m \u001b[1;33m**\u001b[0m\u001b[0mkwargs\u001b[0m\u001b[1;33m)\u001b[0m\u001b[1;33m\u001b[0m\u001b[1;33m\u001b[0m\u001b[0m\n\u001b[0m\u001b[0;32m    151\u001b[0m     \u001b[1;32mexcept\u001b[0m \u001b[0mException\u001b[0m \u001b[1;32mas\u001b[0m \u001b[0me\u001b[0m\u001b[1;33m:\u001b[0m\u001b[1;33m\u001b[0m\u001b[1;33m\u001b[0m\u001b[0m\n\u001b[0;32m    152\u001b[0m       \u001b[0mfiltered_tb\u001b[0m \u001b[1;33m=\u001b[0m \u001b[0m_process_traceback_frames\u001b[0m\u001b[1;33m(\u001b[0m\u001b[0me\u001b[0m\u001b[1;33m.\u001b[0m\u001b[0m__traceback__\u001b[0m\u001b[1;33m)\u001b[0m\u001b[1;33m\u001b[0m\u001b[1;33m\u001b[0m\u001b[0m\n",
      "\u001b[1;32mG:\\python_virtual_env\\myenv\\lib\\site-packages\\tensorflow\\python\\eager\\def_function.py\u001b[0m in \u001b[0;36m__call__\u001b[1;34m(self, *args, **kwds)\u001b[0m\n\u001b[0;32m    908\u001b[0m \u001b[1;33m\u001b[0m\u001b[0m\n\u001b[0;32m    909\u001b[0m       \u001b[1;32mwith\u001b[0m \u001b[0mOptionalXlaContext\u001b[0m\u001b[1;33m(\u001b[0m\u001b[0mself\u001b[0m\u001b[1;33m.\u001b[0m\u001b[0m_jit_compile\u001b[0m\u001b[1;33m)\u001b[0m\u001b[1;33m:\u001b[0m\u001b[1;33m\u001b[0m\u001b[1;33m\u001b[0m\u001b[0m\n\u001b[1;32m--> 910\u001b[1;33m         \u001b[0mresult\u001b[0m \u001b[1;33m=\u001b[0m \u001b[0mself\u001b[0m\u001b[1;33m.\u001b[0m\u001b[0m_call\u001b[0m\u001b[1;33m(\u001b[0m\u001b[1;33m*\u001b[0m\u001b[0margs\u001b[0m\u001b[1;33m,\u001b[0m \u001b[1;33m**\u001b[0m\u001b[0mkwds\u001b[0m\u001b[1;33m)\u001b[0m\u001b[1;33m\u001b[0m\u001b[1;33m\u001b[0m\u001b[0m\n\u001b[0m\u001b[0;32m    911\u001b[0m \u001b[1;33m\u001b[0m\u001b[0m\n\u001b[0;32m    912\u001b[0m       \u001b[0mnew_tracing_count\u001b[0m \u001b[1;33m=\u001b[0m \u001b[0mself\u001b[0m\u001b[1;33m.\u001b[0m\u001b[0mexperimental_get_tracing_count\u001b[0m\u001b[1;33m(\u001b[0m\u001b[1;33m)\u001b[0m\u001b[1;33m\u001b[0m\u001b[1;33m\u001b[0m\u001b[0m\n",
      "\u001b[1;32mG:\\python_virtual_env\\myenv\\lib\\site-packages\\tensorflow\\python\\eager\\def_function.py\u001b[0m in \u001b[0;36m_call\u001b[1;34m(self, *args, **kwds)\u001b[0m\n\u001b[0;32m    940\u001b[0m       \u001b[1;31m# In this case we have created variables on the first call, so we run the\u001b[0m\u001b[1;33m\u001b[0m\u001b[1;33m\u001b[0m\u001b[0m\n\u001b[0;32m    941\u001b[0m       \u001b[1;31m# defunned version which is guaranteed to never create variables.\u001b[0m\u001b[1;33m\u001b[0m\u001b[1;33m\u001b[0m\u001b[0m\n\u001b[1;32m--> 942\u001b[1;33m       \u001b[1;32mreturn\u001b[0m \u001b[0mself\u001b[0m\u001b[1;33m.\u001b[0m\u001b[0m_stateless_fn\u001b[0m\u001b[1;33m(\u001b[0m\u001b[1;33m*\u001b[0m\u001b[0margs\u001b[0m\u001b[1;33m,\u001b[0m \u001b[1;33m**\u001b[0m\u001b[0mkwds\u001b[0m\u001b[1;33m)\u001b[0m  \u001b[1;31m# pylint: disable=not-callable\u001b[0m\u001b[1;33m\u001b[0m\u001b[1;33m\u001b[0m\u001b[0m\n\u001b[0m\u001b[0;32m    943\u001b[0m     \u001b[1;32melif\u001b[0m \u001b[0mself\u001b[0m\u001b[1;33m.\u001b[0m\u001b[0m_stateful_fn\u001b[0m \u001b[1;32mis\u001b[0m \u001b[1;32mnot\u001b[0m \u001b[1;32mNone\u001b[0m\u001b[1;33m:\u001b[0m\u001b[1;33m\u001b[0m\u001b[1;33m\u001b[0m\u001b[0m\n\u001b[0;32m    944\u001b[0m       \u001b[1;31m# Release the lock early so that multiple threads can perform the call\u001b[0m\u001b[1;33m\u001b[0m\u001b[1;33m\u001b[0m\u001b[0m\n",
      "\u001b[1;32mG:\\python_virtual_env\\myenv\\lib\\site-packages\\tensorflow\\python\\eager\\function.py\u001b[0m in \u001b[0;36m__call__\u001b[1;34m(self, *args, **kwargs)\u001b[0m\n\u001b[0;32m   3128\u001b[0m       (graph_function,\n\u001b[0;32m   3129\u001b[0m        filtered_flat_args) = self._maybe_define_function(args, kwargs)\n\u001b[1;32m-> 3130\u001b[1;33m     return graph_function._call_flat(\n\u001b[0m\u001b[0;32m   3131\u001b[0m         filtered_flat_args, captured_inputs=graph_function.captured_inputs)  # pylint: disable=protected-access\n\u001b[0;32m   3132\u001b[0m \u001b[1;33m\u001b[0m\u001b[0m\n",
      "\u001b[1;32mG:\\python_virtual_env\\myenv\\lib\\site-packages\\tensorflow\\python\\eager\\function.py\u001b[0m in \u001b[0;36m_call_flat\u001b[1;34m(self, args, captured_inputs, cancellation_manager)\u001b[0m\n\u001b[0;32m   1957\u001b[0m         and executing_eagerly):\n\u001b[0;32m   1958\u001b[0m       \u001b[1;31m# No tape is watching; skip to running the function.\u001b[0m\u001b[1;33m\u001b[0m\u001b[1;33m\u001b[0m\u001b[0m\n\u001b[1;32m-> 1959\u001b[1;33m       return self._build_call_outputs(self._inference_function.call(\n\u001b[0m\u001b[0;32m   1960\u001b[0m           ctx, args, cancellation_manager=cancellation_manager))\n\u001b[0;32m   1961\u001b[0m     forward_backward = self._select_forward_and_backward_functions(\n",
      "\u001b[1;32mG:\\python_virtual_env\\myenv\\lib\\site-packages\\tensorflow\\python\\eager\\function.py\u001b[0m in \u001b[0;36mcall\u001b[1;34m(self, ctx, args, cancellation_manager)\u001b[0m\n\u001b[0;32m    596\u001b[0m       \u001b[1;32mwith\u001b[0m \u001b[0m_InterpolateFunctionError\u001b[0m\u001b[1;33m(\u001b[0m\u001b[0mself\u001b[0m\u001b[1;33m)\u001b[0m\u001b[1;33m:\u001b[0m\u001b[1;33m\u001b[0m\u001b[1;33m\u001b[0m\u001b[0m\n\u001b[0;32m    597\u001b[0m         \u001b[1;32mif\u001b[0m \u001b[0mcancellation_manager\u001b[0m \u001b[1;32mis\u001b[0m \u001b[1;32mNone\u001b[0m\u001b[1;33m:\u001b[0m\u001b[1;33m\u001b[0m\u001b[1;33m\u001b[0m\u001b[0m\n\u001b[1;32m--> 598\u001b[1;33m           outputs = execute.execute(\n\u001b[0m\u001b[0;32m    599\u001b[0m               \u001b[0mstr\u001b[0m\u001b[1;33m(\u001b[0m\u001b[0mself\u001b[0m\u001b[1;33m.\u001b[0m\u001b[0msignature\u001b[0m\u001b[1;33m.\u001b[0m\u001b[0mname\u001b[0m\u001b[1;33m)\u001b[0m\u001b[1;33m,\u001b[0m\u001b[1;33m\u001b[0m\u001b[1;33m\u001b[0m\u001b[0m\n\u001b[0;32m    600\u001b[0m               \u001b[0mnum_outputs\u001b[0m\u001b[1;33m=\u001b[0m\u001b[0mself\u001b[0m\u001b[1;33m.\u001b[0m\u001b[0m_num_outputs\u001b[0m\u001b[1;33m,\u001b[0m\u001b[1;33m\u001b[0m\u001b[1;33m\u001b[0m\u001b[0m\n",
      "\u001b[1;32mG:\\python_virtual_env\\myenv\\lib\\site-packages\\tensorflow\\python\\eager\\execute.py\u001b[0m in \u001b[0;36mquick_execute\u001b[1;34m(op_name, num_outputs, inputs, attrs, ctx, name)\u001b[0m\n\u001b[0;32m     56\u001b[0m   \u001b[1;32mtry\u001b[0m\u001b[1;33m:\u001b[0m\u001b[1;33m\u001b[0m\u001b[1;33m\u001b[0m\u001b[0m\n\u001b[0;32m     57\u001b[0m     \u001b[0mctx\u001b[0m\u001b[1;33m.\u001b[0m\u001b[0mensure_initialized\u001b[0m\u001b[1;33m(\u001b[0m\u001b[1;33m)\u001b[0m\u001b[1;33m\u001b[0m\u001b[1;33m\u001b[0m\u001b[0m\n\u001b[1;32m---> 58\u001b[1;33m     tensors = pywrap_tfe.TFE_Py_Execute(ctx._handle, device_name, op_name,\n\u001b[0m\u001b[0;32m     59\u001b[0m                                         inputs, attrs, num_outputs)\n\u001b[0;32m     60\u001b[0m   \u001b[1;32mexcept\u001b[0m \u001b[0mcore\u001b[0m\u001b[1;33m.\u001b[0m\u001b[0m_NotOkStatusException\u001b[0m \u001b[1;32mas\u001b[0m \u001b[0me\u001b[0m\u001b[1;33m:\u001b[0m\u001b[1;33m\u001b[0m\u001b[1;33m\u001b[0m\u001b[0m\n",
      "\u001b[1;31mKeyboardInterrupt\u001b[0m: "
     ]
    }
   ],
   "source": [
    "lstm_model_2.fit(x_train, y_train, epochs = 30, callbacks = [tensorboard_callback])"
   ]
  },
  {
   "cell_type": "code",
   "execution_count": null,
   "metadata": {},
   "outputs": [],
   "source": []
  }
 ],
 "metadata": {
  "interpreter": {
   "hash": "f4e04f42c045def5aa7d79311fcd976240163128e37e7a373751b42951a60e82"
  },
  "kernelspec": {
   "display_name": "Python 3.9.7 64-bit (conda)",
   "language": "python",
   "name": "python3"
  },
  "language_info": {
   "codemirror_mode": {
    "name": "ipython",
    "version": 3
   },
   "file_extension": ".py",
   "mimetype": "text/x-python",
   "name": "python",
   "nbconvert_exporter": "python",
   "pygments_lexer": "ipython3",
   "version": "3.9.7"
  },
  "orig_nbformat": 4
 },
 "nbformat": 4,
 "nbformat_minor": 2
}
