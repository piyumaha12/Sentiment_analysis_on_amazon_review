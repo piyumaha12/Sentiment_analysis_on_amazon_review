{
 "cells": [
  {
   "cell_type": "markdown",
   "metadata": {},
   "source": [
    "# Importing modules"
   ]
  },
  {
   "cell_type": "code",
   "execution_count": 293,
   "metadata": {},
   "outputs": [],
   "source": [
    "import gensim\n",
    "# import torch\n",
    "# import tensorflow as tf\n",
    "from sklearn.model_selection import train_test_split, cross_val_score\n",
    "from sklearn.metrics import confusion_matrix, roc_auc_score, roc_curve, classification_report\n",
    "import pandas as pd\n",
    "import numpy as np\n",
    "import scipy as spy\n",
    "import matplotlib.pyplot as plt\n",
    "import seaborn as sns\n",
    "import plotly.express as px\n",
    "import pickle\n",
    "import joblib\n",
    "\n",
    "plt.rcParams['figure.figsize'] = (10,8)\n",
    "plt.rcParams['font.size'] = 13"
   ]
  },
  {
   "cell_type": "markdown",
   "metadata": {},
   "source": [
    "# Exploratory Data Analysis"
   ]
  },
  {
   "cell_type": "markdown",
   "metadata": {},
   "source": [
    "## Import csv file"
   ]
  },
  {
   "cell_type": "code",
   "execution_count": 114,
   "metadata": {},
   "outputs": [],
   "source": [
    "reviews = pd.read_csv('oneplus_labeled_data.csv', )\n",
    "reviews_oversampled = pd.read_csv('oneplus_labeled_data_oversampled.csv')"
   ]
  },
  {
   "cell_type": "markdown",
   "metadata": {},
   "source": [
    "### EDA for Unbalanced dataset"
   ]
  },
  {
   "cell_type": "code",
   "execution_count": 115,
   "metadata": {},
   "outputs": [
    {
     "data": {
      "text/html": [
       "<div>\n",
       "<style scoped>\n",
       "    .dataframe tbody tr th:only-of-type {\n",
       "        vertical-align: middle;\n",
       "    }\n",
       "\n",
       "    .dataframe tbody tr th {\n",
       "        vertical-align: top;\n",
       "    }\n",
       "\n",
       "    .dataframe thead th {\n",
       "        text-align: right;\n",
       "    }\n",
       "</style>\n",
       "<table border=\"1\" class=\"dataframe\">\n",
       "  <thead>\n",
       "    <tr style=\"text-align: right;\">\n",
       "      <th></th>\n",
       "      <th>lemmatized</th>\n",
       "      <th>Sentiment</th>\n",
       "    </tr>\n",
       "  </thead>\n",
       "  <tbody>\n",
       "    <tr>\n",
       "      <th>4808</th>\n",
       "      <td>excellent mobile good camera quality battery p...</td>\n",
       "      <td>Positive</td>\n",
       "    </tr>\n",
       "    <tr>\n",
       "      <th>4809</th>\n",
       "      <td>need battery optimization future update overal...</td>\n",
       "      <td>Neutral</td>\n",
       "    </tr>\n",
       "    <tr>\n",
       "      <th>4810</th>\n",
       "      <td>good battery backup</td>\n",
       "      <td>Neutral</td>\n",
       "    </tr>\n",
       "    <tr>\n",
       "      <th>4811</th>\n",
       "      <td>speaker mic quantity good</td>\n",
       "      <td>Neutral</td>\n",
       "    </tr>\n",
       "    <tr>\n",
       "      <th>4812</th>\n",
       "      <td>heating issue charge overall phone good</td>\n",
       "      <td>Neutral</td>\n",
       "    </tr>\n",
       "  </tbody>\n",
       "</table>\n",
       "</div>"
      ],
      "text/plain": [
       "                                             lemmatized Sentiment\n",
       "4808  excellent mobile good camera quality battery p...  Positive\n",
       "4809  need battery optimization future update overal...   Neutral\n",
       "4810                                good battery backup   Neutral\n",
       "4811                          speaker mic quantity good   Neutral\n",
       "4812            heating issue charge overall phone good   Neutral"
      ]
     },
     "execution_count": 115,
     "metadata": {},
     "output_type": "execute_result"
    }
   ],
   "source": [
    "reviews.tail()"
   ]
  },
  {
   "cell_type": "markdown",
   "metadata": {},
   "source": [
    "So we know that there are some black rows, so let's check for None"
   ]
  },
  {
   "cell_type": "code",
   "execution_count": 116,
   "metadata": {},
   "outputs": [
    {
     "data": {
      "text/html": [
       "<div>\n",
       "<style scoped>\n",
       "    .dataframe tbody tr th:only-of-type {\n",
       "        vertical-align: middle;\n",
       "    }\n",
       "\n",
       "    .dataframe tbody tr th {\n",
       "        vertical-align: top;\n",
       "    }\n",
       "\n",
       "    .dataframe thead th {\n",
       "        text-align: right;\n",
       "    }\n",
       "</style>\n",
       "<table border=\"1\" class=\"dataframe\">\n",
       "  <thead>\n",
       "    <tr style=\"text-align: right;\">\n",
       "      <th></th>\n",
       "      <th>lemmatized</th>\n",
       "      <th>Sentiment</th>\n",
       "    </tr>\n",
       "  </thead>\n",
       "  <tbody>\n",
       "    <tr>\n",
       "      <th>count</th>\n",
       "      <td>4802</td>\n",
       "      <td>4813</td>\n",
       "    </tr>\n",
       "    <tr>\n",
       "      <th>unique</th>\n",
       "      <td>4687</td>\n",
       "      <td>3</td>\n",
       "    </tr>\n",
       "    <tr>\n",
       "      <th>top</th>\n",
       "      <td>good product</td>\n",
       "      <td>Positive</td>\n",
       "    </tr>\n",
       "    <tr>\n",
       "      <th>freq</th>\n",
       "      <td>12</td>\n",
       "      <td>2024</td>\n",
       "    </tr>\n",
       "  </tbody>\n",
       "</table>\n",
       "</div>"
      ],
      "text/plain": [
       "          lemmatized Sentiment\n",
       "count           4802      4813\n",
       "unique          4687         3\n",
       "top     good product  Positive\n",
       "freq              12      2024"
      ]
     },
     "execution_count": 116,
     "metadata": {},
     "output_type": "execute_result"
    }
   ],
   "source": [
    "reviews.describe()"
   ]
  },
  {
   "cell_type": "code",
   "execution_count": 117,
   "metadata": {},
   "outputs": [
    {
     "name": "stdout",
     "output_type": "stream",
     "text": [
      "<class 'pandas.core.frame.DataFrame'>\n",
      "RangeIndex: 4813 entries, 0 to 4812\n",
      "Data columns (total 2 columns):\n",
      " #   Column      Non-Null Count  Dtype \n",
      "---  ------      --------------  ----- \n",
      " 0   lemmatized  4802 non-null   object\n",
      " 1   Sentiment   4813 non-null   object\n",
      "dtypes: object(2)\n",
      "memory usage: 75.3+ KB\n"
     ]
    }
   ],
   "source": [
    "reviews.info()"
   ]
  },
  {
   "cell_type": "markdown",
   "metadata": {},
   "source": [
    "As we can see there are total 12 None and 125 duplicates (or we can say same reviews posted by peoples)"
   ]
  },
  {
   "cell_type": "code",
   "execution_count": 118,
   "metadata": {},
   "outputs": [
    {
     "data": {
      "text/html": [
       "<div>\n",
       "<style scoped>\n",
       "    .dataframe tbody tr th:only-of-type {\n",
       "        vertical-align: middle;\n",
       "    }\n",
       "\n",
       "    .dataframe tbody tr th {\n",
       "        vertical-align: top;\n",
       "    }\n",
       "\n",
       "    .dataframe thead th {\n",
       "        text-align: right;\n",
       "    }\n",
       "</style>\n",
       "<table border=\"1\" class=\"dataframe\">\n",
       "  <thead>\n",
       "    <tr style=\"text-align: right;\">\n",
       "      <th></th>\n",
       "      <th>lemmatized</th>\n",
       "      <th>Sentiment</th>\n",
       "    </tr>\n",
       "  </thead>\n",
       "  <tbody>\n",
       "    <tr>\n",
       "      <th>2052</th>\n",
       "      <td>nice phone</td>\n",
       "      <td>Neutral</td>\n",
       "    </tr>\n",
       "    <tr>\n",
       "      <th>2082</th>\n",
       "      <td>excellent</td>\n",
       "      <td>Neutral</td>\n",
       "    </tr>\n",
       "    <tr>\n",
       "      <th>2689</th>\n",
       "      <td>nice phone</td>\n",
       "      <td>Neutral</td>\n",
       "    </tr>\n",
       "    <tr>\n",
       "      <th>2727</th>\n",
       "      <td>nice phone</td>\n",
       "      <td>Neutral</td>\n",
       "    </tr>\n",
       "    <tr>\n",
       "      <th>2815</th>\n",
       "      <td>good phone</td>\n",
       "      <td>Neutral</td>\n",
       "    </tr>\n",
       "    <tr>\n",
       "      <th>...</th>\n",
       "      <td>...</td>\n",
       "      <td>...</td>\n",
       "    </tr>\n",
       "    <tr>\n",
       "      <th>4759</th>\n",
       "      <td>NaN</td>\n",
       "      <td>Neutral</td>\n",
       "    </tr>\n",
       "    <tr>\n",
       "      <th>4768</th>\n",
       "      <td>bad experience</td>\n",
       "      <td>Negative</td>\n",
       "    </tr>\n",
       "    <tr>\n",
       "      <th>4775</th>\n",
       "      <td>heating issue</td>\n",
       "      <td>Neutral</td>\n",
       "    </tr>\n",
       "    <tr>\n",
       "      <th>4804</th>\n",
       "      <td>love</td>\n",
       "      <td>Neutral</td>\n",
       "    </tr>\n",
       "    <tr>\n",
       "      <th>4805</th>\n",
       "      <td>awesome phone</td>\n",
       "      <td>Positive</td>\n",
       "    </tr>\n",
       "  </tbody>\n",
       "</table>\n",
       "<p>125 rows × 2 columns</p>\n",
       "</div>"
      ],
      "text/plain": [
       "          lemmatized Sentiment\n",
       "2052      nice phone   Neutral\n",
       "2082       excellent   Neutral\n",
       "2689      nice phone   Neutral\n",
       "2727      nice phone   Neutral\n",
       "2815      good phone   Neutral\n",
       "...              ...       ...\n",
       "4759             NaN   Neutral\n",
       "4768  bad experience  Negative\n",
       "4775   heating issue   Neutral\n",
       "4804            love   Neutral\n",
       "4805   awesome phone  Positive\n",
       "\n",
       "[125 rows x 2 columns]"
      ]
     },
     "execution_count": 118,
     "metadata": {},
     "output_type": "execute_result"
    }
   ],
   "source": [
    "reviews[reviews.duplicated()]"
   ]
  },
  {
   "cell_type": "code",
   "execution_count": 119,
   "metadata": {},
   "outputs": [
    {
     "data": {
      "text/plain": [
       "lemmatized    11\n",
       "Sentiment      0\n",
       "dtype: int64"
      ]
     },
     "execution_count": 119,
     "metadata": {},
     "output_type": "execute_result"
    }
   ],
   "source": [
    "reviews.isnull().sum()"
   ]
  },
  {
   "cell_type": "markdown",
   "metadata": {},
   "source": [
    "Let's drop the None values so new dataset will be with 4802 rows"
   ]
  },
  {
   "cell_type": "code",
   "execution_count": 120,
   "metadata": {},
   "outputs": [],
   "source": [
    "reviews = reviews.dropna().reset_index()"
   ]
  },
  {
   "cell_type": "code",
   "execution_count": 121,
   "metadata": {},
   "outputs": [],
   "source": [
    "reviews.drop('index', axis= 1, inplace= True)"
   ]
  },
  {
   "cell_type": "code",
   "execution_count": 122,
   "metadata": {},
   "outputs": [
    {
     "data": {
      "text/html": [
       "<div>\n",
       "<style scoped>\n",
       "    .dataframe tbody tr th:only-of-type {\n",
       "        vertical-align: middle;\n",
       "    }\n",
       "\n",
       "    .dataframe tbody tr th {\n",
       "        vertical-align: top;\n",
       "    }\n",
       "\n",
       "    .dataframe thead th {\n",
       "        text-align: right;\n",
       "    }\n",
       "</style>\n",
       "<table border=\"1\" class=\"dataframe\">\n",
       "  <thead>\n",
       "    <tr style=\"text-align: right;\">\n",
       "      <th></th>\n",
       "      <th>lemmatized</th>\n",
       "      <th>Sentiment</th>\n",
       "    </tr>\n",
       "  </thead>\n",
       "  <tbody>\n",
       "    <tr>\n",
       "      <th>4797</th>\n",
       "      <td>excellent mobile good camera quality battery p...</td>\n",
       "      <td>Positive</td>\n",
       "    </tr>\n",
       "    <tr>\n",
       "      <th>4798</th>\n",
       "      <td>need battery optimization future update overal...</td>\n",
       "      <td>Neutral</td>\n",
       "    </tr>\n",
       "    <tr>\n",
       "      <th>4799</th>\n",
       "      <td>good battery backup</td>\n",
       "      <td>Neutral</td>\n",
       "    </tr>\n",
       "    <tr>\n",
       "      <th>4800</th>\n",
       "      <td>speaker mic quantity good</td>\n",
       "      <td>Neutral</td>\n",
       "    </tr>\n",
       "    <tr>\n",
       "      <th>4801</th>\n",
       "      <td>heating issue charge overall phone good</td>\n",
       "      <td>Neutral</td>\n",
       "    </tr>\n",
       "  </tbody>\n",
       "</table>\n",
       "</div>"
      ],
      "text/plain": [
       "                                             lemmatized Sentiment\n",
       "4797  excellent mobile good camera quality battery p...  Positive\n",
       "4798  need battery optimization future update overal...   Neutral\n",
       "4799                                good battery backup   Neutral\n",
       "4800                          speaker mic quantity good   Neutral\n",
       "4801            heating issue charge overall phone good   Neutral"
      ]
     },
     "execution_count": 122,
     "metadata": {},
     "output_type": "execute_result"
    }
   ],
   "source": [
    "reviews.tail()"
   ]
  },
  {
   "cell_type": "code",
   "execution_count": 123,
   "metadata": {},
   "outputs": [
    {
     "data": {
      "text/plain": [
       "Positive    2024\n",
       "Neutral     1963\n",
       "Negative     815\n",
       "Name: Sentiment, dtype: int64"
      ]
     },
     "execution_count": 123,
     "metadata": {},
     "output_type": "execute_result"
    }
   ],
   "source": [
    "reviews['Sentiment'].value_counts()"
   ]
  },
  {
   "cell_type": "code",
   "execution_count": 124,
   "metadata": {},
   "outputs": [],
   "source": [
    "reviews_1 = reviews.copy()"
   ]
  },
  {
   "cell_type": "markdown",
   "metadata": {},
   "source": [
    "### For balanced dataset"
   ]
  },
  {
   "cell_type": "code",
   "execution_count": 125,
   "metadata": {},
   "outputs": [
    {
     "data": {
      "text/html": [
       "<div>\n",
       "<style scoped>\n",
       "    .dataframe tbody tr th:only-of-type {\n",
       "        vertical-align: middle;\n",
       "    }\n",
       "\n",
       "    .dataframe tbody tr th {\n",
       "        vertical-align: top;\n",
       "    }\n",
       "\n",
       "    .dataframe thead th {\n",
       "        text-align: right;\n",
       "    }\n",
       "</style>\n",
       "<table border=\"1\" class=\"dataframe\">\n",
       "  <thead>\n",
       "    <tr style=\"text-align: right;\">\n",
       "      <th></th>\n",
       "      <th>lemmatized</th>\n",
       "      <th>Sentiment</th>\n",
       "    </tr>\n",
       "  </thead>\n",
       "  <tbody>\n",
       "    <tr>\n",
       "      <th>5608</th>\n",
       "      <td>camera bad</td>\n",
       "      <td>Negative</td>\n",
       "    </tr>\n",
       "    <tr>\n",
       "      <th>5609</th>\n",
       "      <td>camera stop work month fast charging isn t wor...</td>\n",
       "      <td>Negative</td>\n",
       "    </tr>\n",
       "    <tr>\n",
       "      <th>5610</th>\n",
       "      <td>set clone app whatsapp doneclone whatsapp pr k...</td>\n",
       "      <td>Negative</td>\n",
       "    </tr>\n",
       "    <tr>\n",
       "      <th>5611</th>\n",
       "      <td>phone lag 22 storage</td>\n",
       "      <td>Negative</td>\n",
       "    </tr>\n",
       "    <tr>\n",
       "      <th>5612</th>\n",
       "      <td>bhai koi bhi plus nord 2 ko mt lena bahut jyad...</td>\n",
       "      <td>Negative</td>\n",
       "    </tr>\n",
       "  </tbody>\n",
       "</table>\n",
       "</div>"
      ],
      "text/plain": [
       "                                             lemmatized Sentiment\n",
       "5608                                         camera bad  Negative\n",
       "5609  camera stop work month fast charging isn t wor...  Negative\n",
       "5610  set clone app whatsapp doneclone whatsapp pr k...  Negative\n",
       "5611                               phone lag 22 storage  Negative\n",
       "5612  bhai koi bhi plus nord 2 ko mt lena bahut jyad...  Negative"
      ]
     },
     "execution_count": 125,
     "metadata": {},
     "output_type": "execute_result"
    }
   ],
   "source": [
    "reviews_oversampled.tail()"
   ]
  },
  {
   "cell_type": "code",
   "execution_count": 126,
   "metadata": {},
   "outputs": [
    {
     "data": {
      "text/html": [
       "<div>\n",
       "<style scoped>\n",
       "    .dataframe tbody tr th:only-of-type {\n",
       "        vertical-align: middle;\n",
       "    }\n",
       "\n",
       "    .dataframe tbody tr th {\n",
       "        vertical-align: top;\n",
       "    }\n",
       "\n",
       "    .dataframe thead th {\n",
       "        text-align: right;\n",
       "    }\n",
       "</style>\n",
       "<table border=\"1\" class=\"dataframe\">\n",
       "  <thead>\n",
       "    <tr style=\"text-align: right;\">\n",
       "      <th></th>\n",
       "      <th>lemmatized</th>\n",
       "      <th>Sentiment</th>\n",
       "    </tr>\n",
       "  </thead>\n",
       "  <tbody>\n",
       "    <tr>\n",
       "      <th>count</th>\n",
       "      <td>5602</td>\n",
       "      <td>5613</td>\n",
       "    </tr>\n",
       "    <tr>\n",
       "      <th>unique</th>\n",
       "      <td>4687</td>\n",
       "      <td>3</td>\n",
       "    </tr>\n",
       "    <tr>\n",
       "      <th>top</th>\n",
       "      <td>good product</td>\n",
       "      <td>Positive</td>\n",
       "    </tr>\n",
       "    <tr>\n",
       "      <th>freq</th>\n",
       "      <td>12</td>\n",
       "      <td>2024</td>\n",
       "    </tr>\n",
       "  </tbody>\n",
       "</table>\n",
       "</div>"
      ],
      "text/plain": [
       "          lemmatized Sentiment\n",
       "count           5602      5613\n",
       "unique          4687         3\n",
       "top     good product  Positive\n",
       "freq              12      2024"
      ]
     },
     "execution_count": 126,
     "metadata": {},
     "output_type": "execute_result"
    }
   ],
   "source": [
    "reviews_oversampled.describe()"
   ]
  },
  {
   "cell_type": "code",
   "execution_count": 127,
   "metadata": {},
   "outputs": [
    {
     "data": {
      "text/plain": [
       "lemmatized    11\n",
       "Sentiment      0\n",
       "dtype: int64"
      ]
     },
     "execution_count": 127,
     "metadata": {},
     "output_type": "execute_result"
    }
   ],
   "source": [
    "reviews_oversampled.isnull().sum()"
   ]
  },
  {
   "cell_type": "code",
   "execution_count": 128,
   "metadata": {},
   "outputs": [],
   "source": [
    "reviews_oversampled.dropna(inplace= True)\n",
    "reviews_oversampled.reset_index(inplace = True)\n",
    "reviews_oversampled.drop('index', axis = 1, inplace = True)"
   ]
  },
  {
   "cell_type": "code",
   "execution_count": 129,
   "metadata": {},
   "outputs": [
    {
     "data": {
      "text/plain": [
       "lemmatized    0\n",
       "Sentiment     0\n",
       "dtype: int64"
      ]
     },
     "execution_count": 129,
     "metadata": {},
     "output_type": "execute_result"
    }
   ],
   "source": [
    "reviews_oversampled.isnull().sum()"
   ]
  },
  {
   "cell_type": "code",
   "execution_count": 130,
   "metadata": {},
   "outputs": [
    {
     "data": {
      "text/html": [
       "<div>\n",
       "<style scoped>\n",
       "    .dataframe tbody tr th:only-of-type {\n",
       "        vertical-align: middle;\n",
       "    }\n",
       "\n",
       "    .dataframe tbody tr th {\n",
       "        vertical-align: top;\n",
       "    }\n",
       "\n",
       "    .dataframe thead th {\n",
       "        text-align: right;\n",
       "    }\n",
       "</style>\n",
       "<table border=\"1\" class=\"dataframe\">\n",
       "  <thead>\n",
       "    <tr style=\"text-align: right;\">\n",
       "      <th></th>\n",
       "      <th>lemmatized</th>\n",
       "      <th>Sentiment</th>\n",
       "    </tr>\n",
       "  </thead>\n",
       "  <tbody>\n",
       "    <tr>\n",
       "      <th>5597</th>\n",
       "      <td>camera bad</td>\n",
       "      <td>Negative</td>\n",
       "    </tr>\n",
       "    <tr>\n",
       "      <th>5598</th>\n",
       "      <td>camera stop work month fast charging isn t wor...</td>\n",
       "      <td>Negative</td>\n",
       "    </tr>\n",
       "    <tr>\n",
       "      <th>5599</th>\n",
       "      <td>set clone app whatsapp doneclone whatsapp pr k...</td>\n",
       "      <td>Negative</td>\n",
       "    </tr>\n",
       "    <tr>\n",
       "      <th>5600</th>\n",
       "      <td>phone lag 22 storage</td>\n",
       "      <td>Negative</td>\n",
       "    </tr>\n",
       "    <tr>\n",
       "      <th>5601</th>\n",
       "      <td>bhai koi bhi plus nord 2 ko mt lena bahut jyad...</td>\n",
       "      <td>Negative</td>\n",
       "    </tr>\n",
       "  </tbody>\n",
       "</table>\n",
       "</div>"
      ],
      "text/plain": [
       "                                             lemmatized Sentiment\n",
       "5597                                         camera bad  Negative\n",
       "5598  camera stop work month fast charging isn t wor...  Negative\n",
       "5599  set clone app whatsapp doneclone whatsapp pr k...  Negative\n",
       "5600                               phone lag 22 storage  Negative\n",
       "5601  bhai koi bhi plus nord 2 ko mt lena bahut jyad...  Negative"
      ]
     },
     "execution_count": 130,
     "metadata": {},
     "output_type": "execute_result"
    }
   ],
   "source": [
    "reviews_oversampled.tail()"
   ]
  },
  {
   "cell_type": "code",
   "execution_count": 131,
   "metadata": {},
   "outputs": [
    {
     "data": {
      "text/plain": [
       "<AxesSubplot:xlabel='Sentiment', ylabel='count'>"
      ]
     },
     "execution_count": 131,
     "metadata": {},
     "output_type": "execute_result"
    },
    {
     "data": {
      "image/png": "[encoded data removed]",
      "text/plain": [
       "<Figure size 720x576 with 1 Axes>"
      ]
     },
     "metadata": {
      "needs_background": "light"
     },
     "output_type": "display_data"
    }
   ],
   "source": [
    "sns.countplot(x = reviews_oversampled['Sentiment'])"
   ]
  },
  {
   "cell_type": "code",
   "execution_count": 132,
   "metadata": {},
   "outputs": [
    {
     "data": {
      "text/plain": [
       "915"
      ]
     },
     "execution_count": 132,
     "metadata": {},
     "output_type": "execute_result"
    }
   ],
   "source": [
    "reviews_oversampled.duplicated().sum()"
   ]
  },
  {
   "cell_type": "code",
   "execution_count": 133,
   "metadata": {},
   "outputs": [
    {
     "data": {
      "text/plain": [
       "<AxesSubplot:xlabel='Sentiment', ylabel='count'>"
      ]
     },
     "execution_count": 133,
     "metadata": {},
     "output_type": "execute_result"
    },
    {
     "data": {
      "image/png": "[encoded data removed]",
      "text/plain": [
       "<Figure size 576x360 with 1 Axes>"
      ]
     },
     "metadata": {
      "needs_background": "light"
     },
     "output_type": "display_data"
    }
   ],
   "source": [
    "plt.figure(figsize= (8,5))\n",
    "sns.countplot(x= reviews_oversampled['Sentiment'][reviews_oversampled.duplicated()])"
   ]
  },
  {
   "cell_type": "code",
   "execution_count": 134,
   "metadata": {},
   "outputs": [],
   "source": [
    "reviews_oversampled_1 = reviews_oversampled.copy()"
   ]
  },
  {
   "cell_type": "markdown",
   "metadata": {},
   "source": [
    "As we can see from EDA there are total 11 Null values and 915 Duplicates (800, 100, 15 in Negative, Positive and neutral class)"
   ]
  },
  {
   "cell_type": "markdown",
   "metadata": {},
   "source": [
    "Now we have two datasets balanced and unbalanced. we will test the models on both and then select best dataset for further analysis"
   ]
  },
  {
   "cell_type": "markdown",
   "metadata": {},
   "source": [
    "## Label encoding"
   ]
  },
  {
   "cell_type": "code",
   "execution_count": 135,
   "metadata": {},
   "outputs": [],
   "source": [
    "def encoding_labels(dataframe, column_name):\n",
    "    unique_labels = list(dataframe[column_name].unique())\n",
    "    unique_labels.sort()\n",
    "    encode_dict = dict(zip(unique_labels, range(len(unique_labels))))\n",
    "    dataframe[column_name] = dataframe[column_name].map(encode_dict)\n",
    "    return encode_dict"
   ]
  },
  {
   "cell_type": "code",
   "execution_count": 136,
   "metadata": {},
   "outputs": [
    {
     "data": {
      "text/plain": [
       "{'Negative': 0, 'Neutral': 1, 'Positive': 2}"
      ]
     },
     "execution_count": 136,
     "metadata": {},
     "output_type": "execute_result"
    }
   ],
   "source": [
    "label_encode_dict = encoding_labels(reviews_1, 'Sentiment')\n",
    "label_encode_dict"
   ]
  },
  {
   "cell_type": "code",
   "execution_count": 137,
   "metadata": {},
   "outputs": [
    {
     "data": {
      "text/plain": [
       "{'Negative': 0, 'Neutral': 1, 'Positive': 2}"
      ]
     },
     "execution_count": 137,
     "metadata": {},
     "output_type": "execute_result"
    }
   ],
   "source": [
    "label_encode_dict = encoding_labels(reviews_oversampled_1, 'Sentiment')\n",
    "label_encode_dict"
   ]
  },
  {
   "cell_type": "code",
   "execution_count": 138,
   "metadata": {},
   "outputs": [
    {
     "data": {
      "text/html": [
       "<div>\n",
       "<style scoped>\n",
       "    .dataframe tbody tr th:only-of-type {\n",
       "        vertical-align: middle;\n",
       "    }\n",
       "\n",
       "    .dataframe tbody tr th {\n",
       "        vertical-align: top;\n",
       "    }\n",
       "\n",
       "    .dataframe thead th {\n",
       "        text-align: right;\n",
       "    }\n",
       "</style>\n",
       "<table border=\"1\" class=\"dataframe\">\n",
       "  <thead>\n",
       "    <tr style=\"text-align: right;\">\n",
       "      <th></th>\n",
       "      <th>lemmatized</th>\n",
       "      <th>Sentiment</th>\n",
       "    </tr>\n",
       "  </thead>\n",
       "  <tbody>\n",
       "    <tr>\n",
       "      <th>4792</th>\n",
       "      <td>chalenge</td>\n",
       "      <td>1</td>\n",
       "    </tr>\n",
       "    <tr>\n",
       "      <th>4793</th>\n",
       "      <td>love</td>\n",
       "      <td>1</td>\n",
       "    </tr>\n",
       "    <tr>\n",
       "      <th>4794</th>\n",
       "      <td>awesome phone</td>\n",
       "      <td>2</td>\n",
       "    </tr>\n",
       "    <tr>\n",
       "      <th>4795</th>\n",
       "      <td>s awesome</td>\n",
       "      <td>2</td>\n",
       "    </tr>\n",
       "    <tr>\n",
       "      <th>4796</th>\n",
       "      <td>phone look great amazing display superfast cha...</td>\n",
       "      <td>2</td>\n",
       "    </tr>\n",
       "    <tr>\n",
       "      <th>4797</th>\n",
       "      <td>excellent mobile good camera quality battery p...</td>\n",
       "      <td>2</td>\n",
       "    </tr>\n",
       "    <tr>\n",
       "      <th>4798</th>\n",
       "      <td>need battery optimization future update overal...</td>\n",
       "      <td>1</td>\n",
       "    </tr>\n",
       "    <tr>\n",
       "      <th>4799</th>\n",
       "      <td>good battery backup</td>\n",
       "      <td>1</td>\n",
       "    </tr>\n",
       "    <tr>\n",
       "      <th>4800</th>\n",
       "      <td>speaker mic quantity good</td>\n",
       "      <td>1</td>\n",
       "    </tr>\n",
       "    <tr>\n",
       "      <th>4801</th>\n",
       "      <td>heating issue charge overall phone good</td>\n",
       "      <td>1</td>\n",
       "    </tr>\n",
       "  </tbody>\n",
       "</table>\n",
       "</div>"
      ],
      "text/plain": [
       "                                             lemmatized  Sentiment\n",
       "4792                                           chalenge          1\n",
       "4793                                               love          1\n",
       "4794                                      awesome phone          2\n",
       "4795                                          s awesome          2\n",
       "4796  phone look great amazing display superfast cha...          2\n",
       "4797  excellent mobile good camera quality battery p...          2\n",
       "4798  need battery optimization future update overal...          1\n",
       "4799                                good battery backup          1\n",
       "4800                          speaker mic quantity good          1\n",
       "4801            heating issue charge overall phone good          1"
      ]
     },
     "execution_count": 138,
     "metadata": {},
     "output_type": "execute_result"
    }
   ],
   "source": [
    "reviews_1.tail(10)"
   ]
  },
  {
   "cell_type": "code",
   "execution_count": 139,
   "metadata": {},
   "outputs": [
    {
     "data": {
      "text/html": [
       "<div>\n",
       "<style scoped>\n",
       "    .dataframe tbody tr th:only-of-type {\n",
       "        vertical-align: middle;\n",
       "    }\n",
       "\n",
       "    .dataframe tbody tr th {\n",
       "        vertical-align: top;\n",
       "    }\n",
       "\n",
       "    .dataframe thead th {\n",
       "        text-align: right;\n",
       "    }\n",
       "</style>\n",
       "<table border=\"1\" class=\"dataframe\">\n",
       "  <thead>\n",
       "    <tr style=\"text-align: right;\">\n",
       "      <th></th>\n",
       "      <th>lemmatized</th>\n",
       "      <th>Sentiment</th>\n",
       "    </tr>\n",
       "  </thead>\n",
       "  <tbody>\n",
       "    <tr>\n",
       "      <th>500</th>\n",
       "      <td>phone good switch pixel 2 experience clean ove...</td>\n",
       "      <td>2</td>\n",
       "    </tr>\n",
       "    <tr>\n",
       "      <th>501</th>\n",
       "      <td>write review 48 hour usage plus device extensi...</td>\n",
       "      <td>2</td>\n",
       "    </tr>\n",
       "    <tr>\n",
       "      <th>502</th>\n",
       "      <td>bad product disappointed dial receive mobile b...</td>\n",
       "      <td>0</td>\n",
       "    </tr>\n",
       "    <tr>\n",
       "      <th>503</th>\n",
       "      <td>s near perfect phone use like 90 people use da...</td>\n",
       "      <td>1</td>\n",
       "    </tr>\n",
       "    <tr>\n",
       "      <th>504</th>\n",
       "      <td>camera vivo v 21 se good hai charger bahut hi ...</td>\n",
       "      <td>1</td>\n",
       "    </tr>\n",
       "    <tr>\n",
       "      <th>505</th>\n",
       "      <td>oneplus mobile confused decision buy finally d...</td>\n",
       "      <td>2</td>\n",
       "    </tr>\n",
       "    <tr>\n",
       "      <th>506</th>\n",
       "      <td>device allrounder tick box like 1 design good ...</td>\n",
       "      <td>2</td>\n",
       "    </tr>\n",
       "    <tr>\n",
       "      <th>507</th>\n",
       "      <td>record feature inform party big negative play ...</td>\n",
       "      <td>1</td>\n",
       "    </tr>\n",
       "    <tr>\n",
       "      <th>508</th>\n",
       "      <td>bad product segmentplz guy don t buy s persona...</td>\n",
       "      <td>0</td>\n",
       "    </tr>\n",
       "    <tr>\n",
       "      <th>509</th>\n",
       "      <td>heating issue mobile reach 47 c play bgmi heat...</td>\n",
       "      <td>0</td>\n",
       "    </tr>\n",
       "    <tr>\n",
       "      <th>510</th>\n",
       "      <td>good phone lot noise camera night mode good ma...</td>\n",
       "      <td>2</td>\n",
       "    </tr>\n",
       "    <tr>\n",
       "      <th>511</th>\n",
       "      <td>impression great worth upgrade 30 k suggest do...</td>\n",
       "      <td>2</td>\n",
       "    </tr>\n",
       "    <tr>\n",
       "      <th>512</th>\n",
       "      <td>want phone lag future update phone phone come ...</td>\n",
       "      <td>2</td>\n",
       "    </tr>\n",
       "    <tr>\n",
       "      <th>513</th>\n",
       "      <td>let know look buy phone gaming phone default r...</td>\n",
       "      <td>2</td>\n",
       "    </tr>\n",
       "    <tr>\n",
       "      <th>514</th>\n",
       "      <td>overall decent value money phone post experien...</td>\n",
       "      <td>1</td>\n",
       "    </tr>\n",
       "    <tr>\n",
       "      <th>515</th>\n",
       "      <td>pro 1 camera good 2 heptic feedback good 3 hea...</td>\n",
       "      <td>2</td>\n",
       "    </tr>\n",
       "    <tr>\n",
       "      <th>516</th>\n",
       "      <td>good phone budget experience day use design gr...</td>\n",
       "      <td>2</td>\n",
       "    </tr>\n",
       "    <tr>\n",
       "      <th>517</th>\n",
       "      <td>bring phone exchange oneplus 6 feel oneplus 6 ...</td>\n",
       "      <td>1</td>\n",
       "    </tr>\n",
       "    <tr>\n",
       "      <th>518</th>\n",
       "      <td>phone perfect sense plus finally arrive sub fl...</td>\n",
       "      <td>2</td>\n",
       "    </tr>\n",
       "    <tr>\n",
       "      <th>519</th>\n",
       "      <td>plus 6 2019 enjoy oneplus 6 great intuitive ox...</td>\n",
       "      <td>2</td>\n",
       "    </tr>\n",
       "  </tbody>\n",
       "</table>\n",
       "</div>"
      ],
      "text/plain": [
       "                                            lemmatized  Sentiment\n",
       "500  phone good switch pixel 2 experience clean ove...          2\n",
       "501  write review 48 hour usage plus device extensi...          2\n",
       "502  bad product disappointed dial receive mobile b...          0\n",
       "503  s near perfect phone use like 90 people use da...          1\n",
       "504  camera vivo v 21 se good hai charger bahut hi ...          1\n",
       "505  oneplus mobile confused decision buy finally d...          2\n",
       "506  device allrounder tick box like 1 design good ...          2\n",
       "507  record feature inform party big negative play ...          1\n",
       "508  bad product segmentplz guy don t buy s persona...          0\n",
       "509  heating issue mobile reach 47 c play bgmi heat...          0\n",
       "510  good phone lot noise camera night mode good ma...          2\n",
       "511  impression great worth upgrade 30 k suggest do...          2\n",
       "512  want phone lag future update phone phone come ...          2\n",
       "513  let know look buy phone gaming phone default r...          2\n",
       "514  overall decent value money phone post experien...          1\n",
       "515  pro 1 camera good 2 heptic feedback good 3 hea...          2\n",
       "516  good phone budget experience day use design gr...          2\n",
       "517  bring phone exchange oneplus 6 feel oneplus 6 ...          1\n",
       "518  phone perfect sense plus finally arrive sub fl...          2\n",
       "519  plus 6 2019 enjoy oneplus 6 great intuitive ox...          2"
      ]
     },
     "execution_count": 139,
     "metadata": {},
     "output_type": "execute_result"
    }
   ],
   "source": [
    "reviews_oversampled_1.iloc[500:520,:]"
   ]
  },
  {
   "cell_type": "markdown",
   "metadata": {},
   "source": [
    "# Train-Test-Val Split"
   ]
  },
  {
   "cell_type": "markdown",
   "metadata": {},
   "source": [
    "## Train_test-val Split for unbalanced dataset"
   ]
  },
  {
   "cell_type": "code",
   "execution_count": 140,
   "metadata": {},
   "outputs": [],
   "source": [
    "x_train, x_test, y_train, y_test = train_test_split(reviews_1['lemmatized'], reviews_1['Sentiment'], test_size= 0.2, random_state= 15)\n",
    "x_train, x_val, y_train, y_val = train_test_split(x_train, y_train, test_size= 0.25, random_state=15)"
   ]
  },
  {
   "cell_type": "code",
   "execution_count": 141,
   "metadata": {},
   "outputs": [
    {
     "data": {
      "text/plain": [
       "((2880,), (961,), (961,))"
      ]
     },
     "execution_count": 141,
     "metadata": {},
     "output_type": "execute_result"
    }
   ],
   "source": [
    "x_train.shape, x_val.shape, x_test.shape"
   ]
  },
  {
   "cell_type": "code",
   "execution_count": 142,
   "metadata": {},
   "outputs": [
    {
     "data": {
      "text/plain": [
       "(2    1240\n",
       " 1    1154\n",
       " 0     486\n",
       " Name: Sentiment, dtype: int64,\n",
       " 1    404\n",
       " 2    399\n",
       " 0    158\n",
       " Name: Sentiment, dtype: int64,\n",
       " 1    405\n",
       " 2    385\n",
       " 0    171\n",
       " Name: Sentiment, dtype: int64)"
      ]
     },
     "execution_count": 142,
     "metadata": {},
     "output_type": "execute_result"
    }
   ],
   "source": [
    "y_train.value_counts(), y_test.value_counts(), y_val.value_counts()"
   ]
  },
  {
   "cell_type": "markdown",
   "metadata": {},
   "source": [
    "## Train-Test-Val split for balanced dataset"
   ]
  },
  {
   "cell_type": "code",
   "execution_count": 143,
   "metadata": {},
   "outputs": [],
   "source": [
    "x_train_over, x_test_over, y_train_over, y_test_over = train_test_split(reviews_oversampled_1['lemmatized'], \n",
    "        reviews_oversampled_1['Sentiment'], test_size = 0.2, random_state= 15 )\n",
    "x_train_over, x_val_over, y_train_over, y_val_over = train_test_split(x_train_over, y_train_over, test_size=0.25, random_state= 15)"
   ]
  },
  {
   "cell_type": "code",
   "execution_count": 144,
   "metadata": {},
   "outputs": [
    {
     "data": {
      "text/plain": [
       "((3360,), (1121,), (1121,))"
      ]
     },
     "execution_count": 144,
     "metadata": {},
     "output_type": "execute_result"
    }
   ],
   "source": [
    "x_train_over.shape, x_test_over.shape, x_val_over.shape"
   ]
  },
  {
   "cell_type": "code",
   "execution_count": 145,
   "metadata": {},
   "outputs": [
    {
     "data": {
      "text/plain": [
       "(2    1222\n",
       " 1    1188\n",
       " 0     950\n",
       " Name: Sentiment, dtype: int64,\n",
       " 2    417\n",
       " 1    388\n",
       " 0    316\n",
       " Name: Sentiment, dtype: int64,\n",
       " 1    387\n",
       " 2    385\n",
       " 0    349\n",
       " Name: Sentiment, dtype: int64)"
      ]
     },
     "execution_count": 145,
     "metadata": {},
     "output_type": "execute_result"
    }
   ],
   "source": [
    "y_train_over.value_counts(), y_test_over.value_counts(), y_val_over.value_counts()"
   ]
  },
  {
   "cell_type": "markdown",
   "metadata": {},
   "source": [
    "# User defined Functions"
   ]
  },
  {
   "cell_type": "code",
   "execution_count": 146,
   "metadata": {},
   "outputs": [],
   "source": [
    "def heat_map_confusion_matrix(y_true, y_pred, annot = True,x_label = None, y_label = None\n",
    "                    , tickes = 'auto', title = None, label_size = 16):\n",
    "     '''\n",
    "     y_true: The True values\n",
    "     y_pred: The predicted values given by model\n",
    "     annot: Bool, for showing Annotations\n",
    "     x_label, y_label: str, x-axis labels and y_axis labels i.e (Predicted values and True values)\n",
    "     tickes: List of x and y axis tickes\n",
    "     title: str, The title of heatmap\n",
    "     '''\n",
    "     \n",
    "     # if tickes is None:\n",
    "     #      tickes = y_true.unique()\n",
    "     ax=sns.heatmap(confusion_matrix(y_true, y_pred), annot= annot, cmap= sns.dark_palette('purple'),\n",
    "          fmt = 'd', xticklabels= tickes, yticklabels= tickes)\n",
    "     plt.title(title, fontsize = 20)\n",
    "     plt.xlabel(x_label, fontsize = label_size)\n",
    "     plt.ylabel(y_label, fontsize = label_size)\n",
    "    "
   ]
  },
  {
   "cell_type": "code",
   "execution_count": 147,
   "metadata": {},
   "outputs": [],
   "source": [
    "def f1_score_fun(x_true, y_true, model,dataset_type, average = 'macro', ):\n",
    "    y_pred = model.predict(x_true)\n",
    "    score = f1_score(y_true, y_pred, average= average)\n",
    "    print(f'F1 score for {dataset_type} is {score}')"
   ]
  },
  {
   "cell_type": "markdown",
   "metadata": {},
   "source": [
    "# Word vector or Word embedding"
   ]
  },
  {
   "cell_type": "markdown",
   "metadata": {},
   "source": [
    "As we know that, to train the Machine learning model, we need numbers, so that model can learn. \n",
    "But the case of text data, the data is in format of string. so we need to convert them into Numbers.\n",
    "\n",
    "There are various methods that are used for conversion of text data into numerical form, which are given below:\n",
    "1. OneHot encoding\n",
    "2. Co-occurance matrix\n",
    "3. Word count (Countvectorizer)\n",
    "4. TF-IDF (Term frequency - Inverse Document frequency)\n",
    "5. Word2vec\n",
    "6. GloVe"
   ]
  },
  {
   "cell_type": "markdown",
   "metadata": {},
   "source": [
    "## Experiment"
   ]
  },
  {
   "cell_type": "code",
   "execution_count": 148,
   "metadata": {},
   "outputs": [],
   "source": [
    "# reviews_array = reviews_1.lemmatized.values\n",
    "# tokenizer = tf.keras.preprocessing.text.Tokenizer(num_words= 5000)\n",
    "# tokenizer.fit_on_texts(reviews_array)\n",
    "# encoded_docs = tokenizer.texts_to_sequences(reviews_array)\n",
    "# comb_list = []\n",
    "# for list_ in encoded_docs:\n",
    "#     for num in list_:\n",
    "#         comb_list.append(num)\n",
    "# a=list(set(comb_list))\n",
    "# a.sort"
   ]
  },
  {
   "cell_type": "code",
   "execution_count": 149,
   "metadata": {},
   "outputs": [],
   "source": [
    "# a=tokenizer.get_config()['word_counts']"
   ]
  },
  {
   "cell_type": "code",
   "execution_count": 150,
   "metadata": {},
   "outputs": [],
   "source": [
    "# import json\n",
    "# dict_count = json.loads(a)"
   ]
  },
  {
   "cell_type": "code",
   "execution_count": 151,
   "metadata": {},
   "outputs": [],
   "source": [
    "# x=list(dict_count.values())"
   ]
  },
  {
   "cell_type": "code",
   "execution_count": 152,
   "metadata": {},
   "outputs": [],
   "source": [
    "# x.sort()"
   ]
  },
  {
   "cell_type": "code",
   "execution_count": 153,
   "metadata": {},
   "outputs": [],
   "source": [
    "# x[7256], dict_count['phone']"
   ]
  },
  {
   "cell_type": "code",
   "execution_count": null,
   "metadata": {},
   "outputs": [],
   "source": []
  },
  {
   "cell_type": "code",
   "execution_count": 154,
   "metadata": {},
   "outputs": [],
   "source": [
    "# def encoding_text_to_numbers(dataframe,colm_name, dict):\n",
    "#     encode_list = []\n",
    "#     list_of_words = list(dataframe[colm_name])\n",
    "#     for string in list_of_words:\n",
    "#         pass"
   ]
  },
  {
   "cell_type": "markdown",
   "metadata": {},
   "source": [
    "## CountVectorizer"
   ]
  },
  {
   "cell_type": "code",
   "execution_count": 155,
   "metadata": {},
   "outputs": [],
   "source": [
    "from sklearn.feature_extraction.text import CountVectorizer, TfidfVectorizer\n",
    "\n",
    "count_vectorizer = CountVectorizer()\n",
    "x_train_count_transform = count_vectorizer.fit_transform(x_train)"
   ]
  },
  {
   "cell_type": "code",
   "execution_count": 156,
   "metadata": {},
   "outputs": [],
   "source": [
    "x_val_count_transform = count_vectorizer.transform(x_val)"
   ]
  },
  {
   "cell_type": "code",
   "execution_count": 157,
   "metadata": {},
   "outputs": [
    {
     "data": {
      "text/plain": [
       "((2880, 5499), (2880,), (961, 5499))"
      ]
     },
     "execution_count": 157,
     "metadata": {},
     "output_type": "execute_result"
    }
   ],
   "source": [
    "# Hence there are total 5499 words\n",
    "x_train_count_transform.shape, y_train.shape, x_val_count_transform.shape"
   ]
  },
  {
   "cell_type": "markdown",
   "metadata": {},
   "source": [
    "### Logistic model for experiment"
   ]
  },
  {
   "cell_type": "code",
   "execution_count": 158,
   "metadata": {},
   "outputs": [],
   "source": [
    "from sklearn.linear_model import LogisticRegression\n",
    "scores = cross_val_score(LogisticRegression(max_iter= 500), x_train_count_transform, y_train, cv = 5)"
   ]
  },
  {
   "cell_type": "code",
   "execution_count": 159,
   "metadata": {},
   "outputs": [
    {
     "name": "stdout",
     "output_type": "stream",
     "text": [
      "[0.8125     0.85069444 0.83506944 0.84722222 0.81076389]\n",
      "Mean cross-validation-score is: 0.83125\n"
     ]
    }
   ],
   "source": [
    "print(scores)\n",
    "print(f'Mean cross-validation-score is: {np.mean(scores)}')"
   ]
  },
  {
   "cell_type": "code",
   "execution_count": 160,
   "metadata": {},
   "outputs": [],
   "source": [
    "logt_model = LogisticRegression(max_iter= 500, )\n",
    "logt_model = logt_model.fit(x_train_count_transform, y_train)"
   ]
  },
  {
   "cell_type": "code",
   "execution_count": 161,
   "metadata": {},
   "outputs": [
    {
     "data": {
      "text/plain": [
       "0.9892361111111111"
      ]
     },
     "execution_count": 161,
     "metadata": {},
     "output_type": "execute_result"
    }
   ],
   "source": [
    "logt_model.score(x_train_count_transform, y_train)"
   ]
  },
  {
   "cell_type": "code",
   "execution_count": 162,
   "metadata": {},
   "outputs": [
    {
     "data": {
      "text/plain": [
       "0.8407908428720083"
      ]
     },
     "execution_count": 162,
     "metadata": {},
     "output_type": "execute_result"
    }
   ],
   "source": [
    "logt_model.score(x_val_count_transform, y_val)"
   ]
  },
  {
   "cell_type": "code",
   "execution_count": 163,
   "metadata": {},
   "outputs": [
    {
     "data": {
      "image/png": "[encoded data removed]",
      "text/plain": [
       "<Figure size 720x576 with 2 Axes>"
      ]
     },
     "metadata": {
      "needs_background": "light"
     },
     "output_type": "display_data"
    }
   ],
   "source": [
    "heat_map_confusion_matrix(y_val, logt_model.predict(x_val_count_transform), \n",
    "        x_label = 'Predicted', tickes= list(label_encode_dict.keys()))"
   ]
  },
  {
   "cell_type": "code",
   "execution_count": 164,
   "metadata": {},
   "outputs": [
    {
     "name": "stdout",
     "output_type": "stream",
     "text": [
      "              precision    recall  f1-score   support\n",
      "\n",
      "           0       0.80      0.67      0.73       171\n",
      "           1       0.79      0.88      0.83       405\n",
      "           2       0.93      0.87      0.90       385\n",
      "\n",
      "    accuracy                           0.84       961\n",
      "   macro avg       0.84      0.81      0.82       961\n",
      "weighted avg       0.84      0.84      0.84       961\n",
      "\n"
     ]
    }
   ],
   "source": [
    "print(classification_report(y_val, logt_model.predict(x_val_count_transform)))"
   ]
  },
  {
   "cell_type": "code",
   "execution_count": 165,
   "metadata": {},
   "outputs": [
    {
     "data": {
      "text/plain": [
       "array([5.75689571e-01, 5.00506612e-04, 3.32633705e-03, 5.64596139e-02,\n",
       "       1.89607974e-01, 7.80345863e-02, 1.82848548e-02, 6.98196874e-01,\n",
       "       1.18640831e-01, 3.56559713e-03, 1.41323430e-02, 9.00846182e-01,\n",
       "       6.71194988e-02, 6.86936842e-05, 3.02296089e-02, 1.46793506e-01,\n",
       "       1.70785197e-01, 8.79745118e-01, 2.58957489e-02, 8.58632305e-01,\n",
       "       6.48947866e-03, 2.69588125e-11, 1.62981790e-01, 9.82919189e-03,\n",
       "       9.48807552e-01, 8.99563797e-06, 8.38271671e-01, 2.28643930e-01,\n",
       "       7.70263137e-01, 7.40019583e-01, 4.61177868e-02, 9.87061370e-01,\n",
       "       7.03751106e-01, 5.09491318e-07, 9.23421714e-01, 7.51132610e-01,\n",
       "       6.86028229e-01, 1.21267821e-01, 8.18336301e-02, 3.50882661e-02,\n",
       "       8.15380672e-01, 3.65279753e-01, 8.59570879e-01, 1.39887779e-01,\n",
       "       2.77983058e-01, 7.90628127e-01, 8.08944284e-01, 2.41211191e-01,\n",
       "       9.58125520e-01, 1.52102353e-01, 9.71928206e-01, 4.76829014e-01,\n",
       "       9.69516441e-01, 2.17135516e-01, 7.70777937e-01, 2.40385791e-03,\n",
       "       9.28403455e-01, 4.52049008e-01, 6.32568988e-01, 1.31200655e-02,\n",
       "       2.31886578e-01, 8.28042410e-01, 3.57856265e-03, 2.26168942e-02,\n",
       "       8.90169790e-01, 6.74195915e-03, 9.82750916e-05, 4.77385739e-01,\n",
       "       4.84543903e-02, 3.69067290e-01, 2.47284807e-06, 1.35654070e-03,\n",
       "       4.74818749e-02, 8.83443282e-01, 1.01948021e-05, 6.20949736e-01,\n",
       "       7.59648634e-11, 7.49133721e-01, 1.10378064e-01, 3.80326109e-02,\n",
       "       7.14535926e-01, 7.55858230e-01, 8.14539953e-01, 2.23523916e-07,\n",
       "       6.11473608e-01, 5.12043527e-02, 1.63281182e-04, 2.50232891e-01,\n",
       "       5.89416750e-01, 2.09951105e-03, 1.09268294e-01, 7.97868777e-03,\n",
       "       9.58510201e-01, 5.57928227e-01, 3.12442525e-02, 6.80341166e-02,\n",
       "       7.42330574e-02, 1.07442764e-01, 2.24131471e-01, 7.74277237e-03,\n",
       "       1.46819966e-02, 9.32969633e-01, 8.13395097e-01, 2.39501077e-03,\n",
       "       5.89499574e-03, 7.43153260e-01, 7.81567432e-01, 3.39816346e-02,\n",
       "       7.51602739e-01, 6.55842056e-01, 8.56270928e-01, 2.68858592e-01,\n",
       "       9.06751423e-01, 8.57936093e-01, 9.52172189e-01, 8.95051399e-01,\n",
       "       9.54979595e-01, 3.41971268e-03, 8.01149810e-01, 4.81172097e-16,\n",
       "       1.75438810e-01, 8.78249748e-01, 8.19037779e-01, 2.20312321e-05,\n",
       "       1.57747414e-01, 8.28042410e-01, 8.25621084e-01, 7.74288235e-01,\n",
       "       1.04067557e-02, 9.18478334e-01, 3.63658009e-09, 9.38867069e-01,\n",
       "       9.07450171e-01, 7.51602739e-01, 9.63542962e-01, 2.77724538e-05,\n",
       "       3.12374524e-03, 8.92565311e-01, 1.61395146e-01, 2.93573379e-05,\n",
       "       7.30352214e-01, 8.63269459e-01, 4.73078221e-04, 4.66896156e-01,\n",
       "       3.16994998e-05, 7.76580893e-01, 8.98108067e-01, 5.93367318e-04,\n",
       "       1.60410450e-01, 6.50030867e-01, 6.54187957e-01, 8.12714164e-01,\n",
       "       1.53285805e-02, 8.01149810e-01, 9.52799224e-01, 9.62143510e-01,\n",
       "       2.44669943e-01, 1.50905584e-01, 9.54072292e-01, 1.09288423e-01,\n",
       "       3.36764867e-01, 5.11661117e-01, 9.70580168e-01, 3.02656658e-01,\n",
       "       8.68509920e-01, 3.80807312e-03, 6.09993278e-05, 2.05890130e-01,\n",
       "       2.65306136e-01, 2.42371221e-01, 8.63719174e-01, 2.34690645e-04,\n",
       "       6.99485573e-03, 8.60094753e-01, 6.95360553e-01, 8.40892714e-01,\n",
       "       8.79849020e-01, 1.01963475e-01, 2.35200963e-04, 1.89977539e-01,\n",
       "       7.43505875e-01, 1.58000143e-01, 6.44111052e-01, 2.67885988e-03,\n",
       "       5.19289978e-01, 2.72589117e-01, 1.16261177e-03, 1.42550476e-02,\n",
       "       7.89051802e-04, 9.31536466e-01, 1.98473210e-03, 8.38261440e-01,\n",
       "       3.66325395e-01, 1.00069625e-08, 2.07890882e-12, 7.86768286e-01,\n",
       "       9.47886885e-01, 9.00327851e-01, 8.66332926e-05, 9.63611917e-01,\n",
       "       9.50729464e-01, 8.34643412e-01, 9.69058068e-01, 5.74159811e-01,\n",
       "       4.43006970e-01, 4.30823821e-01, 3.87838170e-01, 5.94405487e-01,\n",
       "       8.47842814e-02, 3.34282159e-04, 2.59744807e-01, 9.44151662e-01,\n",
       "       2.17921904e-02, 6.45215874e-02, 9.63699321e-01, 3.25132577e-02,\n",
       "       7.51602739e-01, 6.74505767e-01, 3.19236790e-01, 8.29573862e-01,\n",
       "       7.23402932e-04, 5.12547290e-01, 3.73718939e-05, 9.84808337e-01,\n",
       "       3.53572191e-01, 9.18845352e-01, 1.00504471e-02, 2.50810536e-01,\n",
       "       3.28382436e-03, 9.63846941e-01, 8.06737951e-01, 8.32041234e-01,\n",
       "       1.06508600e-01, 3.18005916e-02, 3.02888389e-01, 1.01328554e-01,\n",
       "       8.74684761e-01, 4.78424080e-01, 2.12656865e-04, 1.75226727e-02,\n",
       "       9.56851288e-01, 7.56572563e-01, 3.47315636e-01, 4.49985820e-02,\n",
       "       4.89980965e-01, 2.82068389e-03, 7.37018984e-01, 4.74530021e-05,\n",
       "       7.59933611e-03, 4.20255148e-01, 9.92284354e-01, 1.37003311e-01,\n",
       "       6.62381642e-01, 9.50946304e-01, 3.37956537e-01, 9.50303476e-01,\n",
       "       7.87403877e-04, 6.40521372e-01, 8.79176505e-01, 9.83447616e-01,\n",
       "       3.44977013e-01, 7.39436462e-01, 3.28106558e-02, 7.82289998e-01,\n",
       "       8.83156847e-01, 3.29617388e-01, 9.64699252e-01, 7.74128387e-02,\n",
       "       2.93795501e-01, 7.22004514e-01, 1.01256634e-01, 8.00053944e-01,\n",
       "       7.78697522e-01, 5.52563955e-05, 9.56878656e-01, 9.44432925e-01,\n",
       "       9.88854087e-01, 2.82612749e-02, 8.35868824e-01, 3.08113920e-01,\n",
       "       9.00729826e-01, 1.58459841e-02, 2.46981689e-02, 9.19676917e-01,\n",
       "       1.60441066e-01, 1.12278383e-02, 8.91126221e-01, 3.37551179e-01,\n",
       "       6.40247821e-02, 1.02820667e-01, 8.07263190e-01, 1.03900314e-03,\n",
       "       7.36620125e-01, 2.86122657e-01, 7.85714346e-01, 8.49551405e-01,\n",
       "       3.17054870e-08, 9.18302801e-01, 1.07317009e-02, 2.00966622e-04,\n",
       "       8.92082974e-01, 8.71054084e-01, 9.34028015e-01, 3.46616518e-08,\n",
       "       8.52427756e-01, 2.78307631e-01, 1.63894653e-01, 5.67189953e-03,\n",
       "       3.77370442e-01, 9.00849890e-01, 4.89815273e-01, 7.66020521e-01,\n",
       "       2.16333385e-01, 1.76318451e-04, 7.19132992e-01, 8.94107829e-01,\n",
       "       7.97578175e-01, 4.10618547e-02, 6.66365752e-01, 8.16466882e-01,\n",
       "       3.75887142e-01, 8.51578588e-01, 9.69190757e-01, 8.39939859e-01,\n",
       "       9.31323337e-01, 9.04618467e-01, 2.84205576e-01, 7.56303459e-01,\n",
       "       7.76080522e-01, 8.31295794e-01, 7.96318828e-01, 6.82381414e-05,\n",
       "       1.35652124e-02, 2.14423730e-01, 6.67995272e-01, 3.62860480e-02,\n",
       "       1.02031101e-01, 3.55695067e-02, 9.73201358e-01, 9.06228834e-10,\n",
       "       9.52536132e-01, 5.58049969e-02, 7.54704858e-02, 3.10010984e-02,\n",
       "       3.58016868e-04, 1.40781303e-01, 2.84072915e-05, 1.98015410e-01,\n",
       "       4.60845204e-06, 7.87374235e-01, 9.61166111e-01, 7.51602739e-01,\n",
       "       8.70163698e-01, 7.13091537e-03, 9.79300301e-01, 9.06938123e-01,\n",
       "       1.12618373e-02, 8.80082185e-02, 6.30586313e-07, 9.72738185e-01,\n",
       "       9.30139660e-01, 1.63117690e-02, 7.74827620e-01, 4.79553197e-05,\n",
       "       1.28609497e-01, 8.54704659e-01, 4.41991696e-02, 8.08311812e-01,\n",
       "       4.11571371e-01, 4.22053399e-01, 2.38558510e-01, 7.04671946e-04,\n",
       "       7.71120777e-01, 8.89914264e-01, 9.57276362e-01, 1.40852524e-11,\n",
       "       1.26982220e-01, 1.01843736e-01, 7.83940146e-01, 6.84459455e-01,\n",
       "       1.26500380e-02, 2.19882332e-08, 8.55579351e-01, 1.69317914e-02,\n",
       "       8.37858320e-02, 6.62086639e-01, 5.02090643e-01, 7.84608510e-01,\n",
       "       8.94471704e-01, 3.47135982e-04, 6.50778048e-01, 3.35158686e-01,\n",
       "       9.21661998e-07, 3.93046651e-03, 6.32622196e-01, 1.95373737e-01,\n",
       "       7.60446644e-01, 1.71918134e-04, 2.18972884e-03, 1.47438556e-01,\n",
       "       7.65976521e-01, 1.72096619e-03, 1.89327239e-01, 7.57575106e-01,\n",
       "       8.19037779e-01, 9.51450421e-01, 7.65944393e-01, 4.45234024e-01,\n",
       "       9.94134982e-05, 8.40072586e-01, 1.66156967e-01, 2.50001962e-12,\n",
       "       3.84371829e-02, 7.58449622e-02, 3.10145828e-06, 9.43360816e-01,\n",
       "       7.57455839e-01, 8.09127964e-01, 9.79699649e-01, 8.10333248e-01,\n",
       "       7.92559881e-03, 1.06513935e-02, 2.40779126e-01, 7.48668110e-05,\n",
       "       3.88655312e-05, 6.77267188e-02, 2.20730214e-01, 3.66572069e-01,\n",
       "       3.72343967e-01, 9.13518126e-01, 1.64660168e-02, 9.41650970e-01,\n",
       "       6.90392999e-01, 4.28969045e-01, 8.28042410e-01, 7.75338820e-01,\n",
       "       1.30054247e-07, 5.27196106e-03, 1.48676782e-04, 1.14361054e-01,\n",
       "       2.78580710e-01, 3.23586439e-01, 1.24420360e-02, 9.22000562e-01,\n",
       "       6.93354244e-01, 7.62490306e-01, 7.51602739e-01, 5.22971919e-01,\n",
       "       7.81073870e-01, 4.26341723e-02, 8.29704457e-01, 2.19515014e-03,\n",
       "       3.64160484e-01, 2.34730928e-01, 4.65984973e-01, 4.07884838e-03,\n",
       "       6.13847109e-05, 6.57985644e-01, 5.20884011e-03, 2.07321743e-04,\n",
       "       9.11520291e-01, 2.61915311e-01, 9.60269528e-01, 8.95156538e-01,\n",
       "       7.81567432e-01, 3.30307976e-01, 8.87434782e-01, 5.28282256e-06,\n",
       "       7.98704890e-02, 9.53343863e-05, 5.68520450e-01, 4.11873971e-02,\n",
       "       8.17871994e-01, 5.75645939e-04, 8.42856465e-01, 1.40468549e-03,\n",
       "       8.62285459e-01, 5.60441553e-01, 5.00526061e-02, 2.86769924e-01,\n",
       "       1.30371624e-05, 8.37091764e-01, 8.92299500e-01, 7.27310479e-01,\n",
       "       8.58635435e-01, 1.91465145e-01, 8.61286532e-01, 9.19495693e-01,\n",
       "       8.52236306e-01, 1.18178686e-02, 5.35400722e-01, 9.57266587e-01,\n",
       "       5.25381390e-09, 5.96483412e-01, 3.30296776e-01, 9.42960809e-01,\n",
       "       8.96080479e-06, 1.64756354e-05, 8.68566001e-01, 5.81969977e-01,\n",
       "       1.45698799e-04, 9.38700598e-01, 3.67546717e-01, 1.80970542e-02,\n",
       "       1.62109558e-05, 1.21399040e-05, 8.98406350e-08, 1.26039911e-01,\n",
       "       6.40710199e-01, 1.50935014e-01, 2.45211058e-01, 8.86622153e-01,\n",
       "       2.33636834e-05, 7.02692211e-10, 1.72104985e-02, 2.85515045e-07,\n",
       "       5.39876929e-02, 9.17289250e-01, 1.26583011e-01, 2.69417570e-03,\n",
       "       8.17616967e-01, 4.26712645e-08, 5.62514490e-02, 5.68788352e-01,\n",
       "       9.50907574e-01, 8.78584098e-01, 1.69118593e-01, 8.43282774e-01,\n",
       "       7.34961444e-01, 8.26140062e-01, 7.42103364e-01, 9.23512244e-01,\n",
       "       1.49601310e-01, 7.53658173e-01, 6.11822366e-01, 1.83056562e-04,\n",
       "       9.64906161e-01, 8.46538592e-01, 8.94669642e-01, 6.09679714e-01,\n",
       "       7.61248800e-09, 3.94969974e-01, 5.17063244e-01, 3.74312384e-01,\n",
       "       3.85482115e-01, 9.56219458e-01, 8.08955909e-01, 2.13045136e-05,\n",
       "       2.06760711e-03, 5.16731886e-01, 1.32047956e-02, 8.44053166e-01,\n",
       "       7.71172220e-01, 9.53869454e-01, 5.43912251e-01, 4.33183773e-01,\n",
       "       3.11899181e-01, 4.02303830e-04, 3.76902998e-06, 7.55269385e-01,\n",
       "       8.63867651e-01, 9.44079629e-01, 1.12474799e-01, 1.35233206e-01,\n",
       "       7.88341783e-01, 3.55749330e-01, 9.45379429e-01, 8.23019420e-04,\n",
       "       2.85471171e-01, 2.00321969e-01, 8.25703374e-01, 9.70883903e-01,\n",
       "       1.67125036e-01, 2.53530810e-01, 6.01298777e-04, 8.78142648e-01,\n",
       "       3.53430967e-01, 7.47957082e-01, 9.30371449e-01, 7.62490306e-01,\n",
       "       1.85013351e-01, 9.49136141e-03, 6.92144220e-01, 1.63973406e-02,\n",
       "       9.22716950e-01, 5.17477542e-01, 8.59616883e-01, 1.63142489e-04,\n",
       "       1.41703980e-01, 7.14278874e-24, 8.40754257e-01, 9.24446778e-01,\n",
       "       6.43396695e-01, 9.77701792e-01, 8.37013796e-01, 4.24608880e-05,\n",
       "       1.74670049e-06, 3.76491162e-05, 9.71389146e-01, 3.30497060e-01,\n",
       "       6.70689011e-01, 3.98476459e-01, 5.69335862e-01, 2.20964372e-04,\n",
       "       9.41798792e-01, 7.78455302e-01, 3.40390874e-01, 2.76636246e-01,\n",
       "       8.54883822e-02, 3.16733205e-02, 2.78499873e-12, 8.16302256e-01,\n",
       "       6.32348563e-01, 9.52516873e-01, 2.93985019e-01, 1.92859316e-02,\n",
       "       5.15596379e-01, 2.84936458e-08, 1.89977539e-01, 9.29171307e-01,\n",
       "       9.83371984e-01, 7.67608070e-01, 8.92267980e-01, 2.50651383e-01,\n",
       "       3.05917573e-03, 8.30377774e-03, 1.09566047e-03, 7.84685167e-01,\n",
       "       8.43626760e-04, 9.93875581e-03, 2.28143054e-02, 9.49960903e-01,\n",
       "       7.51602739e-01, 7.81222791e-01, 8.97817446e-01, 1.12149244e-02,\n",
       "       8.76695208e-01, 2.38519679e-07, 7.36729631e-01, 8.56645746e-01,\n",
       "       6.99145219e-01, 8.40766237e-01, 8.95280756e-01, 5.50076176e-04,\n",
       "       9.19857579e-07, 8.56780710e-01, 9.05674022e-01, 3.98476459e-01,\n",
       "       5.70274051e-03, 4.07584360e-04, 8.75142632e-01, 8.49298973e-01,\n",
       "       6.90679651e-01, 1.48460626e-01, 8.01231102e-01, 4.36874754e-01,\n",
       "       2.05684234e-07, 6.92091338e-05, 3.50778898e-02, 9.41491775e-01,\n",
       "       9.11630093e-01, 8.40094425e-01, 7.64978065e-01, 3.06967677e-01,\n",
       "       1.93778670e-02, 2.74195307e-02, 4.44991409e-01, 1.74160026e-01,\n",
       "       2.39190536e-01, 5.44384817e-01, 8.85114053e-01, 1.53353359e-02,\n",
       "       8.56007933e-01, 9.31335315e-04, 1.86958705e-01, 4.59989395e-02,\n",
       "       4.81309188e-01, 8.12714164e-01, 9.67915251e-01, 1.92128129e-01,\n",
       "       2.53392038e-01, 3.85805299e-01, 8.65204196e-01, 1.92128129e-01,\n",
       "       9.98068595e-01, 1.02542494e-01, 4.53182992e-02, 3.53952307e-04,\n",
       "       3.24503459e-03, 7.42764109e-01, 1.12213808e-11, 5.78509070e-03,\n",
       "       8.12387225e-01, 8.35529797e-02, 8.01149810e-01, 7.21364899e-01,\n",
       "       7.84178253e-01, 6.92631567e-01, 8.08866287e-01, 8.42542262e-01,\n",
       "       8.59122550e-01, 1.27581872e-01, 1.63904247e-02, 9.29731842e-01,\n",
       "       2.64112268e-07, 9.07331134e-01, 8.64723893e-01, 9.58823434e-01,\n",
       "       6.81490116e-01, 5.32906349e-02, 1.37180900e-03, 3.99680091e-01,\n",
       "       7.62518996e-01, 1.51533939e-03, 1.46518119e-02, 8.64767908e-01,\n",
       "       6.06325888e-01, 8.28042410e-01, 2.90808824e-01, 3.56365209e-02,\n",
       "       8.65584454e-02, 2.24864005e-01, 3.56487654e-01, 1.19614442e-01,\n",
       "       2.98538491e-01, 2.61611256e-02, 8.43638781e-05, 7.56045155e-01,\n",
       "       8.70847792e-01, 8.87505477e-01, 8.22002350e-01, 6.81921017e-10,\n",
       "       8.43826478e-01, 7.62490306e-01, 4.91056927e-03, 8.57358006e-01,\n",
       "       1.07356672e-06, 8.78044598e-01, 5.61710606e-01, 8.76207876e-01,\n",
       "       8.92762864e-04, 9.10363667e-01, 2.20277948e-01, 4.58690652e-02,\n",
       "       1.25907042e-08, 8.97817446e-01, 5.97822608e-02, 7.31629883e-01,\n",
       "       1.46797783e-04, 1.52077407e-02, 8.58899053e-06, 1.85148725e-01,\n",
       "       7.85375221e-01, 8.24907597e-01, 6.26097160e-01, 2.29958205e-03,\n",
       "       6.73523071e-02, 4.81345967e-03, 6.26056868e-04, 2.48018318e-19,\n",
       "       8.47658440e-01, 7.65632758e-01, 1.10693925e-03, 8.66586997e-01,\n",
       "       8.17407688e-01, 4.73799044e-01, 8.84490617e-01, 5.62994147e-01,\n",
       "       6.40283281e-01, 9.32955981e-01, 7.54631609e-01, 6.96538539e-01,\n",
       "       5.24707400e-08, 9.06511061e-01, 5.05978527e-05, 2.81892500e-04,\n",
       "       6.31811693e-06, 1.68913693e-04, 6.46436127e-01, 7.80291187e-01,\n",
       "       7.87231503e-01, 4.00778879e-01, 9.81891515e-01, 8.93908366e-05,\n",
       "       7.52107789e-02, 1.07043458e-06, 5.01215959e-02, 4.12640409e-01,\n",
       "       5.00905493e-01, 2.05808461e-01, 4.26734861e-01, 9.77901240e-01,\n",
       "       7.05483038e-01, 7.21240733e-02, 2.96757076e-03, 9.79179398e-01,\n",
       "       1.28221164e-01, 3.46475262e-02, 5.22680752e-01, 4.31037032e-03,\n",
       "       8.66737008e-01, 2.25075304e-01, 1.52373130e-01, 6.34114253e-01,\n",
       "       9.87254325e-04, 5.57733786e-01, 8.82344943e-01, 1.16064232e-02,\n",
       "       2.85959808e-02, 3.03603787e-01, 6.16480680e-01, 6.13472637e-01,\n",
       "       9.10002837e-01, 8.84521008e-01, 6.92983162e-01, 8.66582165e-01,\n",
       "       9.48704878e-01, 9.78940044e-01, 8.69765044e-01, 4.80898667e-10,\n",
       "       8.67423314e-01, 4.81045512e-22, 1.55079099e-03, 4.60337368e-03,\n",
       "       7.18123649e-01, 6.76692439e-01, 8.05370541e-01, 8.29809015e-06,\n",
       "       5.51232907e-02, 2.89912179e-02, 3.57382182e-15, 9.04879270e-01,\n",
       "       2.04064034e-13, 7.07272575e-01, 3.15979675e-02, 7.87697018e-01,\n",
       "       2.16028223e-05, 5.07223602e-01, 6.55142967e-01, 6.07657363e-01,\n",
       "       1.78807938e-05, 1.73480204e-02, 9.23790993e-01, 9.90778046e-01,\n",
       "       3.74629285e-01, 1.61451014e-01, 3.19252756e-04, 5.99176512e-01,\n",
       "       1.86229705e-01, 4.39290859e-01, 1.02517930e-02, 8.86955672e-01,\n",
       "       9.37548303e-01, 4.09771313e-04, 6.04441434e-02, 3.34811071e-01,\n",
       "       5.53038404e-05, 3.82341213e-01, 1.26777458e-02, 6.79711471e-01,\n",
       "       2.31926736e-01, 4.62297220e-10, 1.63651065e-03, 2.22399324e-01,\n",
       "       2.68421360e-02, 2.77340564e-01, 7.85874615e-01, 2.11554013e-02,\n",
       "       8.14515019e-01, 8.83017703e-05, 9.33046112e-01, 7.58006976e-01,\n",
       "       5.41083830e-01, 9.96666991e-03, 5.73435445e-01, 5.56001804e-01,\n",
       "       9.64712069e-01, 2.46279177e-02, 2.29946513e-02, 1.98473341e-01,\n",
       "       8.62887700e-01, 2.33902160e-01, 8.65092743e-01, 9.19423910e-01,\n",
       "       2.11511544e-01, 8.86436213e-01, 1.01889791e-02, 7.52586601e-05,\n",
       "       8.12714164e-01, 9.51010546e-01, 6.03367025e-02, 9.17466752e-01,\n",
       "       6.91630443e-01, 8.22911029e-01, 2.54470376e-01, 1.58065878e-02,\n",
       "       7.59313255e-01, 5.19236170e-02, 1.42881686e-02, 2.62994594e-01,\n",
       "       7.45247635e-01, 2.22212108e-01, 7.46344950e-01, 5.27879003e-03,\n",
       "       1.06155881e-03, 9.61340389e-01, 1.14441784e-06, 6.89657763e-01,\n",
       "       9.64167074e-01, 8.56127341e-01, 2.68575346e-02, 3.95716578e-05,\n",
       "       5.48536354e-01, 8.41057905e-01, 1.12034068e-04, 8.90441117e-07,\n",
       "       3.74246609e-01, 9.05629758e-01, 2.27917967e-01, 1.76817931e-03,\n",
       "       9.73888367e-01, 3.86853066e-10, 5.44372123e-01, 1.41535866e-03,\n",
       "       9.03232564e-01, 8.12714164e-01, 2.30140316e-04, 7.88311950e-01,\n",
       "       6.29573037e-03, 7.81567432e-01, 2.93054135e-01, 6.06911361e-07,\n",
       "       5.05229049e-03, 3.92135240e-02, 5.74122669e-02, 2.04964408e-02,\n",
       "       4.28251285e-01, 5.73538385e-01, 9.58535450e-01, 1.65278218e-01,\n",
       "       7.42409199e-01, 9.40205537e-01, 9.07267770e-01, 5.51338706e-01,\n",
       "       3.72313258e-01, 6.27105847e-02, 9.79523157e-01, 8.01161857e-01,\n",
       "       1.49601412e-01, 7.46344950e-01, 1.37697778e-02, 9.30350335e-01,\n",
       "       3.88735040e-01, 2.20730214e-01, 6.54231188e-01, 8.28789459e-06,\n",
       "       8.85006909e-01, 8.77918992e-01, 7.32813462e-01, 8.40990374e-01,\n",
       "       6.57252424e-01])"
      ]
     },
     "execution_count": 165,
     "metadata": {},
     "output_type": "execute_result"
    }
   ],
   "source": [
    "y_pred_prob = logt_model.predict_proba(x_val_count_transform) \n",
    "y_pred_prob[:,1]"
   ]
  },
  {
   "cell_type": "code",
   "execution_count": 166,
   "metadata": {},
   "outputs": [
    {
     "data": {
      "text/plain": [
       "array([5.75689571e-01, 5.00506612e-04, 3.32633705e-03, 5.64596139e-02,\n",
       "       1.89607974e-01, 7.80345863e-02, 1.82848548e-02, 6.98196874e-01,\n",
       "       1.18640831e-01, 3.56559713e-03, 1.41323430e-02, 9.00846182e-01,\n",
       "       6.71194988e-02, 6.86936842e-05, 3.02296089e-02, 1.46793506e-01,\n",
       "       1.70785197e-01, 8.79745118e-01, 2.58957489e-02, 8.58632305e-01,\n",
       "       6.48947866e-03, 2.69588125e-11, 1.62981790e-01, 9.82919189e-03,\n",
       "       9.48807552e-01, 8.99563797e-06, 8.38271671e-01, 2.28643930e-01,\n",
       "       7.70263137e-01, 7.40019583e-01, 4.61177868e-02, 9.87061370e-01,\n",
       "       7.03751106e-01, 5.09491318e-07, 9.23421714e-01, 7.51132610e-01,\n",
       "       6.86028229e-01, 1.21267821e-01, 8.18336301e-02, 3.50882661e-02,\n",
       "       8.15380672e-01, 3.65279753e-01, 8.59570879e-01, 1.39887779e-01,\n",
       "       2.77983058e-01, 7.90628127e-01, 8.08944284e-01, 2.41211191e-01,\n",
       "       9.58125520e-01, 1.52102353e-01, 9.71928206e-01, 4.76829014e-01,\n",
       "       9.69516441e-01, 2.17135516e-01, 7.70777937e-01, 2.40385791e-03,\n",
       "       9.28403455e-01, 4.52049008e-01, 6.32568988e-01, 1.31200655e-02,\n",
       "       2.31886578e-01, 8.28042410e-01, 3.57856265e-03, 2.26168942e-02,\n",
       "       8.90169790e-01, 6.74195915e-03, 9.82750916e-05, 4.77385739e-01,\n",
       "       4.84543903e-02, 3.69067290e-01, 2.47284807e-06, 1.35654070e-03,\n",
       "       4.74818749e-02, 8.83443282e-01, 1.01948021e-05, 6.20949736e-01,\n",
       "       7.59648634e-11, 7.49133721e-01, 1.10378064e-01, 3.80326109e-02,\n",
       "       7.14535926e-01, 7.55858230e-01, 8.14539953e-01, 2.23523916e-07,\n",
       "       6.11473608e-01, 5.12043527e-02, 1.63281182e-04, 2.50232891e-01,\n",
       "       5.89416750e-01, 2.09951105e-03, 1.09268294e-01, 7.97868777e-03,\n",
       "       9.58510201e-01, 5.57928227e-01, 3.12442525e-02, 6.80341166e-02,\n",
       "       7.42330574e-02, 1.07442764e-01, 2.24131471e-01, 7.74277237e-03,\n",
       "       1.46819966e-02, 9.32969633e-01, 8.13395097e-01, 2.39501077e-03,\n",
       "       5.89499574e-03, 7.43153260e-01, 7.81567432e-01, 3.39816346e-02,\n",
       "       7.51602739e-01, 6.55842056e-01, 8.56270928e-01, 2.68858592e-01,\n",
       "       9.06751423e-01, 8.57936093e-01, 9.52172189e-01, 8.95051399e-01,\n",
       "       9.54979595e-01, 3.41971268e-03, 8.01149810e-01, 4.81172097e-16,\n",
       "       1.75438810e-01, 8.78249748e-01, 8.19037779e-01, 2.20312321e-05,\n",
       "       1.57747414e-01, 8.28042410e-01, 8.25621084e-01, 7.74288235e-01,\n",
       "       1.04067557e-02, 9.18478334e-01, 3.63658009e-09, 9.38867069e-01,\n",
       "       9.07450171e-01, 7.51602739e-01, 9.63542962e-01, 2.77724538e-05,\n",
       "       3.12374524e-03, 8.92565311e-01, 1.61395146e-01, 2.93573379e-05,\n",
       "       7.30352214e-01, 8.63269459e-01, 4.73078221e-04, 4.66896156e-01,\n",
       "       3.16994998e-05, 7.76580893e-01, 8.98108067e-01, 5.93367318e-04,\n",
       "       1.60410450e-01, 6.50030867e-01, 6.54187957e-01, 8.12714164e-01,\n",
       "       1.53285805e-02, 8.01149810e-01, 9.52799224e-01, 9.62143510e-01,\n",
       "       2.44669943e-01, 1.50905584e-01, 9.54072292e-01, 1.09288423e-01,\n",
       "       3.36764867e-01, 5.11661117e-01, 9.70580168e-01, 3.02656658e-01,\n",
       "       8.68509920e-01, 3.80807312e-03, 6.09993278e-05, 2.05890130e-01,\n",
       "       2.65306136e-01, 2.42371221e-01, 8.63719174e-01, 2.34690645e-04,\n",
       "       6.99485573e-03, 8.60094753e-01, 6.95360553e-01, 8.40892714e-01,\n",
       "       8.79849020e-01, 1.01963475e-01, 2.35200963e-04, 1.89977539e-01,\n",
       "       7.43505875e-01, 1.58000143e-01, 6.44111052e-01, 2.67885988e-03,\n",
       "       5.19289978e-01, 2.72589117e-01, 1.16261177e-03, 1.42550476e-02,\n",
       "       7.89051802e-04, 9.31536466e-01, 1.98473210e-03, 8.38261440e-01,\n",
       "       3.66325395e-01, 1.00069625e-08, 2.07890882e-12, 7.86768286e-01,\n",
       "       9.47886885e-01, 9.00327851e-01, 8.66332926e-05, 9.63611917e-01,\n",
       "       9.50729464e-01, 8.34643412e-01, 9.69058068e-01, 5.74159811e-01,\n",
       "       4.43006970e-01, 4.30823821e-01, 3.87838170e-01, 5.94405487e-01,\n",
       "       8.47842814e-02, 3.34282159e-04, 2.59744807e-01, 9.44151662e-01,\n",
       "       2.17921904e-02, 6.45215874e-02, 9.63699321e-01, 3.25132577e-02,\n",
       "       7.51602739e-01, 6.74505767e-01, 3.19236790e-01, 8.29573862e-01,\n",
       "       7.23402932e-04, 5.12547290e-01, 3.73718939e-05, 9.84808337e-01,\n",
       "       3.53572191e-01, 9.18845352e-01, 1.00504471e-02, 2.50810536e-01,\n",
       "       3.28382436e-03, 9.63846941e-01, 8.06737951e-01, 8.32041234e-01,\n",
       "       1.06508600e-01, 3.18005916e-02, 3.02888389e-01, 1.01328554e-01,\n",
       "       8.74684761e-01, 4.78424080e-01, 2.12656865e-04, 1.75226727e-02,\n",
       "       9.56851288e-01, 7.56572563e-01, 3.47315636e-01, 4.49985820e-02,\n",
       "       4.89980965e-01, 2.82068389e-03, 7.37018984e-01, 4.74530021e-05,\n",
       "       7.59933611e-03, 4.20255148e-01, 9.92284354e-01, 1.37003311e-01,\n",
       "       6.62381642e-01, 9.50946304e-01, 3.37956537e-01, 9.50303476e-01,\n",
       "       7.87403877e-04, 6.40521372e-01, 8.79176505e-01, 9.83447616e-01,\n",
       "       3.44977013e-01, 7.39436462e-01, 3.28106558e-02, 7.82289998e-01,\n",
       "       8.83156847e-01, 3.29617388e-01, 9.64699252e-01, 7.74128387e-02,\n",
       "       2.93795501e-01, 7.22004514e-01, 1.01256634e-01, 8.00053944e-01,\n",
       "       7.78697522e-01, 5.52563955e-05, 9.56878656e-01, 9.44432925e-01,\n",
       "       9.88854087e-01, 2.82612749e-02, 8.35868824e-01, 3.08113920e-01,\n",
       "       9.00729826e-01, 1.58459841e-02, 2.46981689e-02, 9.19676917e-01,\n",
       "       1.60441066e-01, 1.12278383e-02, 8.91126221e-01, 3.37551179e-01,\n",
       "       6.40247821e-02, 1.02820667e-01, 8.07263190e-01, 1.03900314e-03,\n",
       "       7.36620125e-01, 2.86122657e-01, 7.85714346e-01, 8.49551405e-01,\n",
       "       3.17054870e-08, 9.18302801e-01, 1.07317009e-02, 2.00966622e-04,\n",
       "       8.92082974e-01, 8.71054084e-01, 9.34028015e-01, 3.46616518e-08,\n",
       "       8.52427756e-01, 2.78307631e-01, 1.63894653e-01, 5.67189953e-03,\n",
       "       3.77370442e-01, 9.00849890e-01, 4.89815273e-01, 7.66020521e-01,\n",
       "       2.16333385e-01, 1.76318451e-04, 7.19132992e-01, 8.94107829e-01,\n",
       "       7.97578175e-01, 4.10618547e-02, 6.66365752e-01, 8.16466882e-01,\n",
       "       3.75887142e-01, 8.51578588e-01, 9.69190757e-01, 8.39939859e-01,\n",
       "       9.31323337e-01, 9.04618467e-01, 2.84205576e-01, 7.56303459e-01,\n",
       "       7.76080522e-01, 8.31295794e-01, 7.96318828e-01, 6.82381414e-05,\n",
       "       1.35652124e-02, 2.14423730e-01, 6.67995272e-01, 3.62860480e-02,\n",
       "       1.02031101e-01, 3.55695067e-02, 9.73201358e-01, 9.06228834e-10,\n",
       "       9.52536132e-01, 5.58049969e-02, 7.54704858e-02, 3.10010984e-02,\n",
       "       3.58016868e-04, 1.40781303e-01, 2.84072915e-05, 1.98015410e-01,\n",
       "       4.60845204e-06, 7.87374235e-01, 9.61166111e-01, 7.51602739e-01,\n",
       "       8.70163698e-01, 7.13091537e-03, 9.79300301e-01, 9.06938123e-01,\n",
       "       1.12618373e-02, 8.80082185e-02, 6.30586313e-07, 9.72738185e-01,\n",
       "       9.30139660e-01, 1.63117690e-02, 7.74827620e-01, 4.79553197e-05,\n",
       "       1.28609497e-01, 8.54704659e-01, 4.41991696e-02, 8.08311812e-01,\n",
       "       4.11571371e-01, 4.22053399e-01, 2.38558510e-01, 7.04671946e-04,\n",
       "       7.71120777e-01, 8.89914264e-01, 9.57276362e-01, 1.40852524e-11,\n",
       "       1.26982220e-01, 1.01843736e-01, 7.83940146e-01, 6.84459455e-01,\n",
       "       1.26500380e-02, 2.19882332e-08, 8.55579351e-01, 1.69317914e-02,\n",
       "       8.37858320e-02, 6.62086639e-01, 5.02090643e-01, 7.84608510e-01,\n",
       "       8.94471704e-01, 3.47135982e-04, 6.50778048e-01, 3.35158686e-01,\n",
       "       9.21661998e-07, 3.93046651e-03, 6.32622196e-01, 1.95373737e-01,\n",
       "       7.60446644e-01, 1.71918134e-04, 2.18972884e-03, 1.47438556e-01,\n",
       "       7.65976521e-01, 1.72096619e-03, 1.89327239e-01, 7.57575106e-01,\n",
       "       8.19037779e-01, 9.51450421e-01, 7.65944393e-01, 4.45234024e-01,\n",
       "       9.94134982e-05, 8.40072586e-01, 1.66156967e-01, 2.50001962e-12,\n",
       "       3.84371829e-02, 7.58449622e-02, 3.10145828e-06, 9.43360816e-01,\n",
       "       7.57455839e-01, 8.09127964e-01, 9.79699649e-01, 8.10333248e-01,\n",
       "       7.92559881e-03, 1.06513935e-02, 2.40779126e-01, 7.48668110e-05,\n",
       "       3.88655312e-05, 6.77267188e-02, 2.20730214e-01, 3.66572069e-01,\n",
       "       3.72343967e-01, 9.13518126e-01, 1.64660168e-02, 9.41650970e-01,\n",
       "       6.90392999e-01, 4.28969045e-01, 8.28042410e-01, 7.75338820e-01,\n",
       "       1.30054247e-07, 5.27196106e-03, 1.48676782e-04, 1.14361054e-01,\n",
       "       2.78580710e-01, 3.23586439e-01, 1.24420360e-02, 9.22000562e-01,\n",
       "       6.93354244e-01, 7.62490306e-01, 7.51602739e-01, 5.22971919e-01,\n",
       "       7.81073870e-01, 4.26341723e-02, 8.29704457e-01, 2.19515014e-03,\n",
       "       3.64160484e-01, 2.34730928e-01, 4.65984973e-01, 4.07884838e-03,\n",
       "       6.13847109e-05, 6.57985644e-01, 5.20884011e-03, 2.07321743e-04,\n",
       "       9.11520291e-01, 2.61915311e-01, 9.60269528e-01, 8.95156538e-01,\n",
       "       7.81567432e-01, 3.30307976e-01, 8.87434782e-01, 5.28282256e-06,\n",
       "       7.98704890e-02, 9.53343863e-05, 5.68520450e-01, 4.11873971e-02,\n",
       "       8.17871994e-01, 5.75645939e-04, 8.42856465e-01, 1.40468549e-03,\n",
       "       8.62285459e-01, 5.60441553e-01, 5.00526061e-02, 2.86769924e-01,\n",
       "       1.30371624e-05, 8.37091764e-01, 8.92299500e-01, 7.27310479e-01,\n",
       "       8.58635435e-01, 1.91465145e-01, 8.61286532e-01, 9.19495693e-01,\n",
       "       8.52236306e-01, 1.18178686e-02, 5.35400722e-01, 9.57266587e-01,\n",
       "       5.25381390e-09, 5.96483412e-01, 3.30296776e-01, 9.42960809e-01,\n",
       "       8.96080479e-06, 1.64756354e-05, 8.68566001e-01, 5.81969977e-01,\n",
       "       1.45698799e-04, 9.38700598e-01, 3.67546717e-01, 1.80970542e-02,\n",
       "       1.62109558e-05, 1.21399040e-05, 8.98406350e-08, 1.26039911e-01,\n",
       "       6.40710199e-01, 1.50935014e-01, 2.45211058e-01, 8.86622153e-01,\n",
       "       2.33636834e-05, 7.02692211e-10, 1.72104985e-02, 2.85515045e-07,\n",
       "       5.39876929e-02, 9.17289250e-01, 1.26583011e-01, 2.69417570e-03,\n",
       "       8.17616967e-01, 4.26712645e-08, 5.62514490e-02, 5.68788352e-01,\n",
       "       9.50907574e-01, 8.78584098e-01, 1.69118593e-01, 8.43282774e-01,\n",
       "       7.34961444e-01, 8.26140062e-01, 7.42103364e-01, 9.23512244e-01,\n",
       "       1.49601310e-01, 7.53658173e-01, 6.11822366e-01, 1.83056562e-04,\n",
       "       9.64906161e-01, 8.46538592e-01, 8.94669642e-01, 6.09679714e-01,\n",
       "       7.61248800e-09, 3.94969974e-01, 5.17063244e-01, 3.74312384e-01,\n",
       "       3.85482115e-01, 9.56219458e-01, 8.08955909e-01, 2.13045136e-05,\n",
       "       2.06760711e-03, 5.16731886e-01, 1.32047956e-02, 8.44053166e-01,\n",
       "       7.71172220e-01, 9.53869454e-01, 5.43912251e-01, 4.33183773e-01,\n",
       "       3.11899181e-01, 4.02303830e-04, 3.76902998e-06, 7.55269385e-01,\n",
       "       8.63867651e-01, 9.44079629e-01, 1.12474799e-01, 1.35233206e-01,\n",
       "       7.88341783e-01, 3.55749330e-01, 9.45379429e-01, 8.23019420e-04,\n",
       "       2.85471171e-01, 2.00321969e-01, 8.25703374e-01, 9.70883903e-01,\n",
       "       1.67125036e-01, 2.53530810e-01, 6.01298777e-04, 8.78142648e-01,\n",
       "       3.53430967e-01, 7.47957082e-01, 9.30371449e-01, 7.62490306e-01,\n",
       "       1.85013351e-01, 9.49136141e-03, 6.92144220e-01, 1.63973406e-02,\n",
       "       9.22716950e-01, 5.17477542e-01, 8.59616883e-01, 1.63142489e-04,\n",
       "       1.41703980e-01, 7.14278874e-24, 8.40754257e-01, 9.24446778e-01,\n",
       "       6.43396695e-01, 9.77701792e-01, 8.37013796e-01, 4.24608880e-05,\n",
       "       1.74670049e-06, 3.76491162e-05, 9.71389146e-01, 3.30497060e-01,\n",
       "       6.70689011e-01, 3.98476459e-01, 5.69335862e-01, 2.20964372e-04,\n",
       "       9.41798792e-01, 7.78455302e-01, 3.40390874e-01, 2.76636246e-01,\n",
       "       8.54883822e-02, 3.16733205e-02, 2.78499873e-12, 8.16302256e-01,\n",
       "       6.32348563e-01, 9.52516873e-01, 2.93985019e-01, 1.92859316e-02,\n",
       "       5.15596379e-01, 2.84936458e-08, 1.89977539e-01, 9.29171307e-01,\n",
       "       9.83371984e-01, 7.67608070e-01, 8.92267980e-01, 2.50651383e-01,\n",
       "       3.05917573e-03, 8.30377774e-03, 1.09566047e-03, 7.84685167e-01,\n",
       "       8.43626760e-04, 9.93875581e-03, 2.28143054e-02, 9.49960903e-01,\n",
       "       7.51602739e-01, 7.81222791e-01, 8.97817446e-01, 1.12149244e-02,\n",
       "       8.76695208e-01, 2.38519679e-07, 7.36729631e-01, 8.56645746e-01,\n",
       "       6.99145219e-01, 8.40766237e-01, 8.95280756e-01, 5.50076176e-04,\n",
       "       9.19857579e-07, 8.56780710e-01, 9.05674022e-01, 3.98476459e-01,\n",
       "       5.70274051e-03, 4.07584360e-04, 8.75142632e-01, 8.49298973e-01,\n",
       "       6.90679651e-01, 1.48460626e-01, 8.01231102e-01, 4.36874754e-01,\n",
       "       2.05684234e-07, 6.92091338e-05, 3.50778898e-02, 9.41491775e-01,\n",
       "       9.11630093e-01, 8.40094425e-01, 7.64978065e-01, 3.06967677e-01,\n",
       "       1.93778670e-02, 2.74195307e-02, 4.44991409e-01, 1.74160026e-01,\n",
       "       2.39190536e-01, 5.44384817e-01, 8.85114053e-01, 1.53353359e-02,\n",
       "       8.56007933e-01, 9.31335315e-04, 1.86958705e-01, 4.59989395e-02,\n",
       "       4.81309188e-01, 8.12714164e-01, 9.67915251e-01, 1.92128129e-01,\n",
       "       2.53392038e-01, 3.85805299e-01, 8.65204196e-01, 1.92128129e-01,\n",
       "       9.98068595e-01, 1.02542494e-01, 4.53182992e-02, 3.53952307e-04,\n",
       "       3.24503459e-03, 7.42764109e-01, 1.12213808e-11, 5.78509070e-03,\n",
       "       8.12387225e-01, 8.35529797e-02, 8.01149810e-01, 7.21364899e-01,\n",
       "       7.84178253e-01, 6.92631567e-01, 8.08866287e-01, 8.42542262e-01,\n",
       "       8.59122550e-01, 1.27581872e-01, 1.63904247e-02, 9.29731842e-01,\n",
       "       2.64112268e-07, 9.07331134e-01, 8.64723893e-01, 9.58823434e-01,\n",
       "       6.81490116e-01, 5.32906349e-02, 1.37180900e-03, 3.99680091e-01,\n",
       "       7.62518996e-01, 1.51533939e-03, 1.46518119e-02, 8.64767908e-01,\n",
       "       6.06325888e-01, 8.28042410e-01, 2.90808824e-01, 3.56365209e-02,\n",
       "       8.65584454e-02, 2.24864005e-01, 3.56487654e-01, 1.19614442e-01,\n",
       "       2.98538491e-01, 2.61611256e-02, 8.43638781e-05, 7.56045155e-01,\n",
       "       8.70847792e-01, 8.87505477e-01, 8.22002350e-01, 6.81921017e-10,\n",
       "       8.43826478e-01, 7.62490306e-01, 4.91056927e-03, 8.57358006e-01,\n",
       "       1.07356672e-06, 8.78044598e-01, 5.61710606e-01, 8.76207876e-01,\n",
       "       8.92762864e-04, 9.10363667e-01, 2.20277948e-01, 4.58690652e-02,\n",
       "       1.25907042e-08, 8.97817446e-01, 5.97822608e-02, 7.31629883e-01,\n",
       "       1.46797783e-04, 1.52077407e-02, 8.58899053e-06, 1.85148725e-01,\n",
       "       7.85375221e-01, 8.24907597e-01, 6.26097160e-01, 2.29958205e-03,\n",
       "       6.73523071e-02, 4.81345967e-03, 6.26056868e-04, 2.48018318e-19,\n",
       "       8.47658440e-01, 7.65632758e-01, 1.10693925e-03, 8.66586997e-01,\n",
       "       8.17407688e-01, 4.73799044e-01, 8.84490617e-01, 5.62994147e-01,\n",
       "       6.40283281e-01, 9.32955981e-01, 7.54631609e-01, 6.96538539e-01,\n",
       "       5.24707400e-08, 9.06511061e-01, 5.05978527e-05, 2.81892500e-04,\n",
       "       6.31811693e-06, 1.68913693e-04, 6.46436127e-01, 7.80291187e-01,\n",
       "       7.87231503e-01, 4.00778879e-01, 9.81891515e-01, 8.93908366e-05,\n",
       "       7.52107789e-02, 1.07043458e-06, 5.01215959e-02, 4.12640409e-01,\n",
       "       5.00905493e-01, 2.05808461e-01, 4.26734861e-01, 9.77901240e-01,\n",
       "       7.05483038e-01, 7.21240733e-02, 2.96757076e-03, 9.79179398e-01,\n",
       "       1.28221164e-01, 3.46475262e-02, 5.22680752e-01, 4.31037032e-03,\n",
       "       8.66737008e-01, 2.25075304e-01, 1.52373130e-01, 6.34114253e-01,\n",
       "       9.87254325e-04, 5.57733786e-01, 8.82344943e-01, 1.16064232e-02,\n",
       "       2.85959808e-02, 3.03603787e-01, 6.16480680e-01, 6.13472637e-01,\n",
       "       9.10002837e-01, 8.84521008e-01, 6.92983162e-01, 8.66582165e-01,\n",
       "       9.48704878e-01, 9.78940044e-01, 8.69765044e-01, 4.80898667e-10,\n",
       "       8.67423314e-01, 4.81045512e-22, 1.55079099e-03, 4.60337368e-03,\n",
       "       7.18123649e-01, 6.76692439e-01, 8.05370541e-01, 8.29809015e-06,\n",
       "       5.51232907e-02, 2.89912179e-02, 3.57382182e-15, 9.04879270e-01,\n",
       "       2.04064034e-13, 7.07272575e-01, 3.15979675e-02, 7.87697018e-01,\n",
       "       2.16028223e-05, 5.07223602e-01, 6.55142967e-01, 6.07657363e-01,\n",
       "       1.78807938e-05, 1.73480204e-02, 9.23790993e-01, 9.90778046e-01,\n",
       "       3.74629285e-01, 1.61451014e-01, 3.19252756e-04, 5.99176512e-01,\n",
       "       1.86229705e-01, 4.39290859e-01, 1.02517930e-02, 8.86955672e-01,\n",
       "       9.37548303e-01, 4.09771313e-04, 6.04441434e-02, 3.34811071e-01,\n",
       "       5.53038404e-05, 3.82341213e-01, 1.26777458e-02, 6.79711471e-01,\n",
       "       2.31926736e-01, 4.62297220e-10, 1.63651065e-03, 2.22399324e-01,\n",
       "       2.68421360e-02, 2.77340564e-01, 7.85874615e-01, 2.11554013e-02,\n",
       "       8.14515019e-01, 8.83017703e-05, 9.33046112e-01, 7.58006976e-01,\n",
       "       5.41083830e-01, 9.96666991e-03, 5.73435445e-01, 5.56001804e-01,\n",
       "       9.64712069e-01, 2.46279177e-02, 2.29946513e-02, 1.98473341e-01,\n",
       "       8.62887700e-01, 2.33902160e-01, 8.65092743e-01, 9.19423910e-01,\n",
       "       2.11511544e-01, 8.86436213e-01, 1.01889791e-02, 7.52586601e-05,\n",
       "       8.12714164e-01, 9.51010546e-01, 6.03367025e-02, 9.17466752e-01,\n",
       "       6.91630443e-01, 8.22911029e-01, 2.54470376e-01, 1.58065878e-02,\n",
       "       7.59313255e-01, 5.19236170e-02, 1.42881686e-02, 2.62994594e-01,\n",
       "       7.45247635e-01, 2.22212108e-01, 7.46344950e-01, 5.27879003e-03,\n",
       "       1.06155881e-03, 9.61340389e-01, 1.14441784e-06, 6.89657763e-01,\n",
       "       9.64167074e-01, 8.56127341e-01, 2.68575346e-02, 3.95716578e-05,\n",
       "       5.48536354e-01, 8.41057905e-01, 1.12034068e-04, 8.90441117e-07,\n",
       "       3.74246609e-01, 9.05629758e-01, 2.27917967e-01, 1.76817931e-03,\n",
       "       9.73888367e-01, 3.86853066e-10, 5.44372123e-01, 1.41535866e-03,\n",
       "       9.03232564e-01, 8.12714164e-01, 2.30140316e-04, 7.88311950e-01,\n",
       "       6.29573037e-03, 7.81567432e-01, 2.93054135e-01, 6.06911361e-07,\n",
       "       5.05229049e-03, 3.92135240e-02, 5.74122669e-02, 2.04964408e-02,\n",
       "       4.28251285e-01, 5.73538385e-01, 9.58535450e-01, 1.65278218e-01,\n",
       "       7.42409199e-01, 9.40205537e-01, 9.07267770e-01, 5.51338706e-01,\n",
       "       3.72313258e-01, 6.27105847e-02, 9.79523157e-01, 8.01161857e-01,\n",
       "       1.49601412e-01, 7.46344950e-01, 1.37697778e-02, 9.30350335e-01,\n",
       "       3.88735040e-01, 2.20730214e-01, 6.54231188e-01, 8.28789459e-06,\n",
       "       8.85006909e-01, 8.77918992e-01, 7.32813462e-01, 8.40990374e-01,\n",
       "       6.57252424e-01])"
      ]
     },
     "execution_count": 166,
     "metadata": {},
     "output_type": "execute_result"
    }
   ],
   "source": [
    "y_pred_prob[:,1]"
   ]
  },
  {
   "cell_type": "code",
   "execution_count": 167,
   "metadata": {},
   "outputs": [
    {
     "data": {
      "text/plain": [
       "(961, 3)"
      ]
     },
     "execution_count": 167,
     "metadata": {},
     "output_type": "execute_result"
    }
   ],
   "source": [
    "y_pred_prob.shape"
   ]
  },
  {
   "cell_type": "code",
   "execution_count": 168,
   "metadata": {},
   "outputs": [
    {
     "data": {
      "text/plain": [
       "(949,)"
      ]
     },
     "execution_count": 168,
     "metadata": {},
     "output_type": "execute_result"
    }
   ],
   "source": [
    "y_pred_prob[y_pred_prob>0.5].shape"
   ]
  },
  {
   "cell_type": "code",
   "execution_count": 169,
   "metadata": {},
   "outputs": [],
   "source": [
    "# print(classification_report(y_val, y_pred))"
   ]
  },
  {
   "cell_type": "markdown",
   "metadata": {},
   "source": [
    "## Word2Vec"
   ]
  },
  {
   "cell_type": "code",
   "execution_count": 170,
   "metadata": {},
   "outputs": [],
   "source": [
    "file = open('list_of_list_tokens.pkl', 'rb')\n",
    "list_of_list_reviews = pickle.load(file)"
   ]
  },
  {
   "cell_type": "code",
   "execution_count": 171,
   "metadata": {},
   "outputs": [],
   "source": [
    "from gensim.models import Word2Vec"
   ]
  },
  {
   "cell_type": "code",
   "execution_count": 172,
   "metadata": {},
   "outputs": [],
   "source": [
    "word2vec = Word2Vec(sentences= list_of_list_reviews)"
   ]
  },
  {
   "cell_type": "code",
   "execution_count": null,
   "metadata": {},
   "outputs": [],
   "source": []
  },
  {
   "cell_type": "markdown",
   "metadata": {},
   "source": [
    "## TF-IDF Vectorizer"
   ]
  },
  {
   "cell_type": "code",
   "execution_count": 173,
   "metadata": {},
   "outputs": [],
   "source": [
    "tf_idf_vectorizer = TfidfVectorizer()\n",
    "x_train_tfidf = tf_idf_vectorizer.fit_transform(x_train)"
   ]
  },
  {
   "cell_type": "code",
   "execution_count": 174,
   "metadata": {},
   "outputs": [],
   "source": [
    "x_val_tfidf = tf_idf_vectorizer.transform(x_val)"
   ]
  },
  {
   "cell_type": "code",
   "execution_count": 175,
   "metadata": {},
   "outputs": [],
   "source": [
    "logit_model_tfidf = LogisticRegression(max_iter= 400)\n",
    "logit_model_tfidf = logit_model_tfidf.fit(x_train_tfidf, y_train)"
   ]
  },
  {
   "cell_type": "code",
   "execution_count": 176,
   "metadata": {},
   "outputs": [
    {
     "data": {
      "text/plain": [
       "0.884375"
      ]
     },
     "execution_count": 176,
     "metadata": {},
     "output_type": "execute_result"
    }
   ],
   "source": [
    "logit_model_tfidf.score(x_train_tfidf, y_train)"
   ]
  },
  {
   "cell_type": "code",
   "execution_count": 177,
   "metadata": {},
   "outputs": [
    {
     "data": {
      "text/plain": [
       "0.7273673257023934"
      ]
     },
     "execution_count": 177,
     "metadata": {},
     "output_type": "execute_result"
    }
   ],
   "source": [
    "logit_model_tfidf.score(x_val_tfidf, y_val)"
   ]
  },
  {
   "cell_type": "markdown",
   "metadata": {},
   "source": [
    "# Model Building"
   ]
  },
  {
   "cell_type": "code",
   "execution_count": 178,
   "metadata": {},
   "outputs": [],
   "source": [
    "from sklearn.linear_model import LogisticRegression\n",
    "from sklearn.naive_bayes import BernoulliNB, MultinomialNB, GaussianNB\n",
    "from sklearn.linear_model import SGDClassifier\n",
    "from sklearn.pipeline import Pipeline, make_pipeline\n",
    "from sklearn.feature_extraction.text import CountVectorizer, TfidfVectorizer\n",
    "from sklearn.model_selection import GridSearchCV, cross_val_score\n",
    "from sklearn.metrics import precision_recall_curve, roc_auc_score, roc_curve, f1_score\n",
    "\n",
    "import joblib\n",
    "import pickle"
   ]
  },
  {
   "cell_type": "markdown",
   "metadata": {},
   "source": [
    "## Logistic Model Countvectorizer"
   ]
  },
  {
   "cell_type": "markdown",
   "metadata": {},
   "source": [
    "### one-gram model"
   ]
  },
  {
   "cell_type": "markdown",
   "metadata": {},
   "source": [
    "#### Logistic Model 1"
   ]
  },
  {
   "cell_type": "markdown",
   "metadata": {},
   "source": [
    "##### On Unbalanced_dataset"
   ]
  },
  {
   "cell_type": "code",
   "execution_count": 179,
   "metadata": {},
   "outputs": [
    {
     "data": {
      "text/plain": [
       "Pipeline(steps=[('countvectorizer', CountVectorizer()),\n",
       "                ('logistic', LogisticRegression(max_iter=200))])"
      ]
     },
     "execution_count": 179,
     "metadata": {},
     "output_type": "execute_result"
    }
   ],
   "source": [
    "logit_pipeline = Pipeline([('countvectorizer', CountVectorizer()), ('logistic', LogisticRegression(max_iter= 200))])\n",
    "logit_pipeline.fit(x_train, y_train)"
   ]
  },
  {
   "cell_type": "code",
   "execution_count": 180,
   "metadata": {},
   "outputs": [
    {
     "name": "stdout",
     "output_type": "stream",
     "text": [
      "The training score is 0.9892361111111111\n",
      "The testing score is 0.8407908428720083\n"
     ]
    }
   ],
   "source": [
    "print(f'The training score is {logit_pipeline.score(x_train, y_train)}')\n",
    "print(f'The testing score is {logit_pipeline.score(x_val, y_val)}')"
   ]
  },
  {
   "cell_type": "code",
   "execution_count": 181,
   "metadata": {},
   "outputs": [
    {
     "data": {
      "text/plain": [
       "array([0, 0, 1, ..., 1, 2, 0], dtype=int64)"
      ]
     },
     "execution_count": 181,
     "metadata": {},
     "output_type": "execute_result"
    }
   ],
   "source": [
    "logit_pipeline.predict(x_train)"
   ]
  },
  {
   "cell_type": "code",
   "execution_count": 182,
   "metadata": {},
   "outputs": [
    {
     "name": "stdout",
     "output_type": "stream",
     "text": [
      "              precision    recall  f1-score   support\n",
      "\n",
      "           0       1.00      0.96      0.98       486\n",
      "           1       0.98      1.00      0.99      1154\n",
      "           2       1.00      0.99      1.00      1240\n",
      "\n",
      "    accuracy                           0.99      2880\n",
      "   macro avg       0.99      0.98      0.99      2880\n",
      "weighted avg       0.99      0.99      0.99      2880\n",
      "\n"
     ]
    }
   ],
   "source": [
    "print(classification_report(y_train, logit_pipeline.predict(x_train)))"
   ]
  },
  {
   "cell_type": "code",
   "execution_count": 183,
   "metadata": {},
   "outputs": [
    {
     "name": "stdout",
     "output_type": "stream",
     "text": [
      "              precision    recall  f1-score   support\n",
      "\n",
      "           0       0.80      0.67      0.73       171\n",
      "           1       0.79      0.88      0.83       405\n",
      "           2       0.93      0.87      0.90       385\n",
      "\n",
      "    accuracy                           0.84       961\n",
      "   macro avg       0.84      0.81      0.82       961\n",
      "weighted avg       0.84      0.84      0.84       961\n",
      "\n"
     ]
    }
   ],
   "source": [
    "print(classification_report(y_val, logit_pipeline.predict(x_val) ))"
   ]
  },
  {
   "cell_type": "markdown",
   "metadata": {},
   "source": [
    "So we can see that model is overfitting, so let's try grid search"
   ]
  },
  {
   "cell_type": "markdown",
   "metadata": {},
   "source": [
    "##### On Balanced dataset"
   ]
  },
  {
   "cell_type": "code",
   "execution_count": 184,
   "metadata": {},
   "outputs": [
    {
     "name": "stdout",
     "output_type": "stream",
     "text": [
      "F1 score for Training is 0.9908519696591463\n",
      "F1 score for Validation is 0.8731144283205472\n"
     ]
    }
   ],
   "source": [
    "logit_pipeline_balanced = make_pipeline(CountVectorizer(), LogisticRegression(max_iter= 200))\n",
    "logit_pipeline_balanced.fit(x_train_over, y_train_over)\n",
    "f1_score_fun(x_train_over, y_train_over, logit_pipeline_balanced, 'Training')\n",
    "f1_score_fun(x_val_over, y_val_over, logit_pipeline_balanced, 'Validation')"
   ]
  },
  {
   "cell_type": "code",
   "execution_count": 185,
   "metadata": {},
   "outputs": [
    {
     "name": "stdout",
     "output_type": "stream",
     "text": [
      "              precision    recall  f1-score   support\n",
      "\n",
      "           0       1.00      0.99      0.99       950\n",
      "           1       0.98      1.00      0.99      1188\n",
      "           2       1.00      0.99      0.99      1222\n",
      "\n",
      "    accuracy                           0.99      3360\n",
      "   macro avg       0.99      0.99      0.99      3360\n",
      "weighted avg       0.99      0.99      0.99      3360\n",
      "\n"
     ]
    }
   ],
   "source": [
    "print(classification_report(y_train_over, logit_pipeline_balanced.predict(x_train_over)))"
   ]
  },
  {
   "cell_type": "code",
   "execution_count": 186,
   "metadata": {},
   "outputs": [
    {
     "name": "stdout",
     "output_type": "stream",
     "text": [
      "              precision    recall  f1-score   support\n",
      "\n",
      "           0       0.89      0.89      0.89       349\n",
      "           1       0.80      0.85      0.82       387\n",
      "           2       0.94      0.87      0.90       385\n",
      "\n",
      "    accuracy                           0.87      1121\n",
      "   macro avg       0.88      0.87      0.87      1121\n",
      "weighted avg       0.87      0.87      0.87      1121\n",
      "\n"
     ]
    }
   ],
   "source": [
    "print(classification_report(y_val_over, logit_pipeline_balanced.predict(x_val_over) ))"
   ]
  },
  {
   "cell_type": "markdown",
   "metadata": {},
   "source": [
    "#### Grid search"
   ]
  },
  {
   "cell_type": "code",
   "execution_count": 189,
   "metadata": {},
   "outputs": [
    {
     "data": {
      "text/plain": [
       "dict_keys(['C', 'class_weight', 'dual', 'fit_intercept', 'intercept_scaling', 'l1_ratio', 'max_iter', 'multi_class', 'n_jobs', 'penalty', 'random_state', 'solver', 'tol', 'verbose', 'warm_start'])"
      ]
     },
     "execution_count": 189,
     "metadata": {},
     "output_type": "execute_result"
    }
   ],
   "source": [
    "LogisticRegression().get_params().keys()"
   ]
  },
  {
   "cell_type": "code",
   "execution_count": 197,
   "metadata": {},
   "outputs": [],
   "source": [
    "param_grid = {'logistic__C': [0.01,0.1,1,10,100], 'logistic__max_iter':[500,800,1000], \n",
    "                'logistic__tol': [1e-2,1e-3,1e-4,1e-5, 1e-6]}  # please not that there is double underscore (__)"
   ]
  },
  {
   "cell_type": "markdown",
   "metadata": {},
   "source": [
    "##### On Unbalanced dataset"
   ]
  },
  {
   "cell_type": "code",
   "execution_count": 201,
   "metadata": {},
   "outputs": [
    {
     "data": {
      "text/plain": [
       "GridSearchCV(estimator=Pipeline(steps=[('countvectorizer', CountVectorizer()),\n",
       "                                       ('logistic', LogisticRegression())]),\n",
       "             param_grid={'logistic__C': [0.01, 0.1, 1, 10, 100],\n",
       "                         'logistic__max_iter': [500, 800, 1000],\n",
       "                         'logistic__tol': [0.01, 0.001, 0.0001, 1e-05, 1e-06]})"
      ]
     },
     "execution_count": 201,
     "metadata": {},
     "output_type": "execute_result"
    }
   ],
   "source": [
    "logit_pipeline_gridsearch = Pipeline([('countvectorizer', CountVectorizer()), ('logistic', LogisticRegression())])\n",
    "grid = GridSearchCV(logit_pipeline_gridsearch, param_grid = param_grid)\n",
    "grid.fit(x_train, y_train)"
   ]
  },
  {
   "cell_type": "code",
   "execution_count": 202,
   "metadata": {},
   "outputs": [
    {
     "data": {
      "text/plain": [
       "({'logistic__C': 100, 'logistic__max_iter': 500, 'logistic__tol': 0.01},\n",
       " 0.8447916666666666)"
      ]
     },
     "execution_count": 202,
     "metadata": {},
     "output_type": "execute_result"
    }
   ],
   "source": [
    "grid.best_params_, grid.best_score_"
   ]
  },
  {
   "cell_type": "code",
   "execution_count": 193,
   "metadata": {},
   "outputs": [
    {
     "data": {
      "text/plain": [
       "Pipeline(steps=[('countvectorizer', CountVectorizer()),\n",
       "                ('logistic',\n",
       "                 LogisticRegression(C=100, max_iter=500, tol=0.001))])"
      ]
     },
     "execution_count": 193,
     "metadata": {},
     "output_type": "execute_result"
    }
   ],
   "source": [
    "logit_pipeline_best_param = Pipeline(steps= [('countvectorizer', CountVectorizer()),\n",
    " ('logistic', LogisticRegression(C = 100, max_iter= 500, tol= 0.001))])\n",
    "logit_pipeline_best_param.fit(x_train, y_train)"
   ]
  },
  {
   "cell_type": "code",
   "execution_count": 194,
   "metadata": {},
   "outputs": [
    {
     "name": "stdout",
     "output_type": "stream",
     "text": [
      "The training score is 1.0\n",
      "The testing score is 0.850156087408949\n"
     ]
    }
   ],
   "source": [
    "print(f'The training score is {logit_pipeline_best_param.score(x_train, y_train)}')\n",
    "print(f'The testing score is {logit_pipeline_best_param.score(x_val, y_val)}')"
   ]
  },
  {
   "cell_type": "code",
   "execution_count": 265,
   "metadata": {},
   "outputs": [
    {
     "name": "stdout",
     "output_type": "stream",
     "text": [
      "              precision    recall  f1-score   support\n",
      "\n",
      "           0       1.00      1.00      1.00       486\n",
      "           1       1.00      1.00      1.00      1154\n",
      "           2       1.00      1.00      1.00      1240\n",
      "\n",
      "    accuracy                           1.00      2880\n",
      "   macro avg       1.00      1.00      1.00      2880\n",
      "weighted avg       1.00      1.00      1.00      2880\n",
      "\n"
     ]
    }
   ],
   "source": [
    "print(classification_report(y_train, logit_pipeline_best_param.predict(x_train)))"
   ]
  },
  {
   "cell_type": "code",
   "execution_count": 264,
   "metadata": {},
   "outputs": [
    {
     "name": "stdout",
     "output_type": "stream",
     "text": [
      "              precision    recall  f1-score   support\n",
      "\n",
      "           0       0.79      0.74      0.77       171\n",
      "           1       0.82      0.86      0.84       405\n",
      "           2       0.91      0.89      0.90       385\n",
      "\n",
      "    accuracy                           0.85       961\n",
      "   macro avg       0.84      0.83      0.83       961\n",
      "weighted avg       0.85      0.85      0.85       961\n",
      "\n"
     ]
    }
   ],
   "source": [
    "print(classification_report(y_val, logit_pipeline_best_param.predict(x_val)))"
   ]
  },
  {
   "cell_type": "markdown",
   "metadata": {},
   "source": [
    "As we can see the unbalanced dataset, tends to bais more toward Positive review "
   ]
  },
  {
   "cell_type": "markdown",
   "metadata": {},
   "source": [
    "##### On Balanced Dataset"
   ]
  },
  {
   "cell_type": "code",
   "execution_count": 200,
   "metadata": {},
   "outputs": [
    {
     "data": {
      "text/plain": [
       "GridSearchCV(estimator=Pipeline(steps=[('countvectorizer', CountVectorizer()),\n",
       "                                       ('logistic', LogisticRegression())]),\n",
       "             param_grid={'logistic__C': [0.01, 0.1, 1, 10, 100],\n",
       "                         'logistic__max_iter': [500, 800, 1000],\n",
       "                         'logistic__tol': [0.01, 0.001, 0.0001, 1e-05, 1e-06]})"
      ]
     },
     "execution_count": 200,
     "metadata": {},
     "output_type": "execute_result"
    }
   ],
   "source": [
    "logit_pipeline_gridsearch_balanced = Pipeline([('countvectorizer', CountVectorizer()), ('logistic', LogisticRegression())])\n",
    "grid_balanced = GridSearchCV(logit_pipeline_gridsearch_balanced, param_grid = param_grid)\n",
    "grid_balanced.fit(x_train, y_train)"
   ]
  },
  {
   "cell_type": "code",
   "execution_count": 203,
   "metadata": {},
   "outputs": [
    {
     "data": {
      "text/plain": [
       "({'logistic__C': 100, 'logistic__max_iter': 500, 'logistic__tol': 0.01},\n",
       " 0.8447916666666666)"
      ]
     },
     "execution_count": 203,
     "metadata": {},
     "output_type": "execute_result"
    }
   ],
   "source": [
    "grid_balanced.best_params_, grid_balanced.best_score_"
   ]
  },
  {
   "cell_type": "code",
   "execution_count": 234,
   "metadata": {},
   "outputs": [
    {
     "data": {
      "text/html": [
       "<div>\n",
       "<style scoped>\n",
       "    .dataframe tbody tr th:only-of-type {\n",
       "        vertical-align: middle;\n",
       "    }\n",
       "\n",
       "    .dataframe tbody tr th {\n",
       "        vertical-align: top;\n",
       "    }\n",
       "\n",
       "    .dataframe thead th {\n",
       "        text-align: right;\n",
       "    }\n",
       "</style>\n",
       "<table border=\"1\" class=\"dataframe\">\n",
       "  <thead>\n",
       "    <tr style=\"text-align: right;\">\n",
       "      <th></th>\n",
       "      <th>param_logistic__C</th>\n",
       "      <th>param_logistic__max_iter</th>\n",
       "      <th>mean_test_score</th>\n",
       "      <th>param_logistic__tol</th>\n",
       "    </tr>\n",
       "  </thead>\n",
       "  <tbody>\n",
       "    <tr>\n",
       "      <th>70</th>\n",
       "      <td>100</td>\n",
       "      <td>1000</td>\n",
       "      <td>0.844792</td>\n",
       "      <td>0.01</td>\n",
       "    </tr>\n",
       "    <tr>\n",
       "      <th>71</th>\n",
       "      <td>100</td>\n",
       "      <td>1000</td>\n",
       "      <td>0.844792</td>\n",
       "      <td>0.001</td>\n",
       "    </tr>\n",
       "    <tr>\n",
       "      <th>72</th>\n",
       "      <td>100</td>\n",
       "      <td>1000</td>\n",
       "      <td>0.844792</td>\n",
       "      <td>0.0001</td>\n",
       "    </tr>\n",
       "    <tr>\n",
       "      <th>73</th>\n",
       "      <td>100</td>\n",
       "      <td>1000</td>\n",
       "      <td>0.844792</td>\n",
       "      <td>0.00001</td>\n",
       "    </tr>\n",
       "    <tr>\n",
       "      <th>74</th>\n",
       "      <td>100</td>\n",
       "      <td>1000</td>\n",
       "      <td>0.844792</td>\n",
       "      <td>0.000001</td>\n",
       "    </tr>\n",
       "  </tbody>\n",
       "</table>\n",
       "</div>"
      ],
      "text/plain": [
       "   param_logistic__C param_logistic__max_iter  mean_test_score  \\\n",
       "70               100                     1000         0.844792   \n",
       "71               100                     1000         0.844792   \n",
       "72               100                     1000         0.844792   \n",
       "73               100                     1000         0.844792   \n",
       "74               100                     1000         0.844792   \n",
       "\n",
       "   param_logistic__tol  \n",
       "70                0.01  \n",
       "71               0.001  \n",
       "72              0.0001  \n",
       "73             0.00001  \n",
       "74            0.000001  "
      ]
     },
     "execution_count": 234,
     "metadata": {},
     "output_type": "execute_result"
    }
   ],
   "source": [
    "grid_balanced_scores = pd.DataFrame(grid_balanced.cv_results_)\n",
    "grid_balanced_scores = grid_balanced_scores[['param_logistic__C', 'param_logistic__max_iter', 'mean_test_score', 'param_logistic__tol']]\n",
    "grid_balanced_scores.tail()"
   ]
  },
  {
   "cell_type": "code",
   "execution_count": 241,
   "metadata": {},
   "outputs": [
    {
     "data": {
      "text/plain": [
       "<seaborn.axisgrid.PairGrid at 0x2267f9baee0>"
      ]
     },
     "execution_count": 241,
     "metadata": {},
     "output_type": "execute_result"
    },
    {
     "data": {
      "image/png": "[encoded data removed]",
      "text/plain": [
       "<Figure size 720x720 with 20 Axes>"
      ]
     },
     "metadata": {
      "needs_background": "light"
     },
     "output_type": "display_data"
    }
   ],
   "source": [
    "sns.pairplot(grid_balanced_scores)"
   ]
  },
  {
   "cell_type": "code",
   "execution_count": 259,
   "metadata": {},
   "outputs": [
    {
     "data": {
      "text/plain": [
       "Pipeline(steps=[('countvectorizer', CountVectorizer()),\n",
       "                ('logisticregression',\n",
       "                 LogisticRegression(C=100, max_iter=500, tol=0.01))])"
      ]
     },
     "execution_count": 259,
     "metadata": {},
     "output_type": "execute_result"
    }
   ],
   "source": [
    "logit_pipeline_best_param_balanced = make_pipeline(CountVectorizer(), LogisticRegression(C = 100, max_iter= 500, tol= 0.01))\n",
    "logit_pipeline_best_param_balanced.fit(x_train_over, y_train_over)"
   ]
  },
  {
   "cell_type": "code",
   "execution_count": 338,
   "metadata": {},
   "outputs": [
    {
     "data": {
      "text/plain": [
       "array([2], dtype=int64)"
      ]
     },
     "execution_count": 338,
     "metadata": {},
     "output_type": "execute_result"
    }
   ],
   "source": [
    "logit_pipeline_best_param_balanced.predict(['phone overall great os lot bug like 1 day cloner app instal whatsapp suddenly gets remove late update show app instal cloner applicable expect oneplus software sort target premium range user'])"
   ]
  },
  {
   "cell_type": "code",
   "execution_count": 261,
   "metadata": {},
   "outputs": [
    {
     "name": "stdout",
     "output_type": "stream",
     "text": [
      "F1 score for Training is 1.0\n",
      "F1 score for Validation is 0.8830552833251484\n"
     ]
    }
   ],
   "source": [
    "f1_score_fun(x_train_over, y_train_over, logit_pipeline_best_param_balanced, 'Training')\n",
    "f1_score_fun(x_val_over, y_val_over, logit_pipeline_best_param_balanced, 'Validation')"
   ]
  },
  {
   "cell_type": "code",
   "execution_count": 263,
   "metadata": {},
   "outputs": [
    {
     "name": "stdout",
     "output_type": "stream",
     "text": [
      "              precision    recall  f1-score   support\n",
      "\n",
      "           0       1.00      1.00      1.00       950\n",
      "           1       1.00      1.00      1.00      1188\n",
      "           2       1.00      1.00      1.00      1222\n",
      "\n",
      "    accuracy                           1.00      3360\n",
      "   macro avg       1.00      1.00      1.00      3360\n",
      "weighted avg       1.00      1.00      1.00      3360\n",
      "\n"
     ]
    }
   ],
   "source": [
    "print(classification_report(y_train_over, logit_pipeline_best_param_balanced.predict(x_train_over)))"
   ]
  },
  {
   "cell_type": "code",
   "execution_count": 262,
   "metadata": {},
   "outputs": [
    {
     "name": "stdout",
     "output_type": "stream",
     "text": [
      "              precision    recall  f1-score   support\n",
      "\n",
      "           0       0.89      0.90      0.89       349\n",
      "           1       0.83      0.84      0.84       387\n",
      "           2       0.93      0.91      0.92       385\n",
      "\n",
      "    accuracy                           0.88      1121\n",
      "   macro avg       0.88      0.88      0.88      1121\n",
      "weighted avg       0.88      0.88      0.88      1121\n",
      "\n"
     ]
    }
   ],
   "source": [
    "print(classification_report(y_val_over, logit_pipeline_best_param_balanced.predict(x_val_over)))"
   ]
  },
  {
   "cell_type": "markdown",
   "metadata": {},
   "source": [
    "#### Logistic Model 2"
   ]
  },
  {
   "cell_type": "markdown",
   "metadata": {},
   "source": [
    "##### On Unbalanced"
   ]
  },
  {
   "cell_type": "code",
   "execution_count": 59,
   "metadata": {},
   "outputs": [
    {
     "name": "stdout",
     "output_type": "stream",
     "text": [
      "The training score is 0.9892361111111111\n",
      "The testing score is 0.8407908428720083\n"
     ]
    }
   ],
   "source": [
    "logit_pipeline_2 = make_pipeline(CountVectorizer(),LogisticRegression(C = 1, max_iter= 500))\n",
    "logit_pipeline_2.fit(x_train, y_train)\n",
    "print(f'The training score is {logit_pipeline_2.score(x_train, y_train)}')\n",
    "print(f'The testing score is {logit_pipeline_2.score(x_val, y_val)}')"
   ]
  },
  {
   "cell_type": "code",
   "execution_count": 60,
   "metadata": {},
   "outputs": [
    {
     "name": "stdout",
     "output_type": "stream",
     "text": [
      "F1 score for Traning is 0.9873233937277867\n",
      "F1 score for Validation is 0.8199577425367002\n"
     ]
    }
   ],
   "source": [
    "f1_score_fun(x_train, y_train, logit_pipeline_2, 'Traning')\n",
    "f1_score_fun(x_val, y_val, logit_pipeline_2, 'Validation')"
   ]
  },
  {
   "cell_type": "code",
   "execution_count": 61,
   "metadata": {},
   "outputs": [
    {
     "data": {
      "image/png": "[encoded data removed]",
      "text/plain": [
       "<Figure size 720x576 with 2 Axes>"
      ]
     },
     "metadata": {
      "needs_background": "light"
     },
     "output_type": "display_data"
    }
   ],
   "source": [
    "heat_map_confusion_matrix(y_val, logit_pipeline_2.predict(x_val), \n",
    "    tickes= list(label_encode_dict.keys()), x_label= 'Predicted values', y_label = 'True values', )"
   ]
  },
  {
   "cell_type": "code",
   "execution_count": 62,
   "metadata": {},
   "outputs": [
    {
     "name": "stdout",
     "output_type": "stream",
     "text": [
      "              precision    recall  f1-score   support\n",
      "\n",
      "           0       0.80      0.67      0.73       171\n",
      "           1       0.79      0.88      0.83       405\n",
      "           2       0.93      0.87      0.90       385\n",
      "\n",
      "    accuracy                           0.84       961\n",
      "   macro avg       0.84      0.81      0.82       961\n",
      "weighted avg       0.84      0.84      0.84       961\n",
      "\n"
     ]
    }
   ],
   "source": [
    "print(classification_report(y_val, logit_pipeline_2.predict(x_val)))"
   ]
  },
  {
   "cell_type": "code",
   "execution_count": 63,
   "metadata": {},
   "outputs": [],
   "source": [
    "precision, recall, threshold = precision_recall_curve(y_val, logit_pipeline_2.predict_proba(x_val)[:,0], pos_label= 0)"
   ]
  },
  {
   "cell_type": "code",
   "execution_count": 64,
   "metadata": {},
   "outputs": [],
   "source": [
    "close_zero = np.argmin(np.abs(threshold))"
   ]
  },
  {
   "cell_type": "code",
   "execution_count": 65,
   "metadata": {},
   "outputs": [
    {
     "data": {
      "text/plain": [
       "Text(0.5, 0, 'Precision')"
      ]
     },
     "execution_count": 65,
     "metadata": {},
     "output_type": "execute_result"
    },
    {
     "data": {
      "image/png": "[encoded data removed]",
      "text/plain": [
       "<Figure size 720x576 with 1 Axes>"
      ]
     },
     "metadata": {
      "needs_background": "light"
     },
     "output_type": "display_data"
    }
   ],
   "source": [
    "plt.plot(precision[close_zero], recall[close_zero], 'o', markersize = 10, label = 'threshold zero')\n",
    "plt.plot(precision, recall, label = 'Precision-Recall curve')\n",
    "plt.xlabel('Precision')"
   ]
  },
  {
   "cell_type": "markdown",
   "metadata": {},
   "source": [
    "##### On Balanced dataset"
   ]
  },
  {
   "cell_type": "markdown",
   "metadata": {},
   "source": [
    "From Grid Search, we have the best parameter but using those gives us 100% on training and highest on validation\n",
    "so we choose to use more strong regularization C = 0.5"
   ]
  },
  {
   "cell_type": "code",
   "execution_count": 270,
   "metadata": {},
   "outputs": [
    {
     "data": {
      "text/plain": [
       "Pipeline(steps=[('countvectorizer', CountVectorizer()),\n",
       "                ('logisticregression',\n",
       "                 LogisticRegression(C=0.5, max_iter=500, tol=0.001))])"
      ]
     },
     "execution_count": 270,
     "metadata": {},
     "output_type": "execute_result"
    }
   ],
   "source": [
    "logit_pipeline_2_balanced = make_pipeline(CountVectorizer(), LogisticRegression(C = 0.5, max_iter= 500, tol = 0.001 ))\n",
    "logit_pipeline_2_balanced.fit(x_train_over, y_train_over)"
   ]
  },
  {
   "cell_type": "code",
   "execution_count": 271,
   "metadata": {},
   "outputs": [
    {
     "name": "stdout",
     "output_type": "stream",
     "text": [
      "F1 score for Training is 0.9773953945003807\n",
      "F1 score for Validation is 0.8555746408099437\n"
     ]
    }
   ],
   "source": [
    "f1_score_fun(x_train_over, y_train_over, logit_pipeline_2_balanced, 'Training')\n",
    "f1_score_fun(x_val_over, y_val_over, logit_pipeline_2_balanced, 'Validation' )"
   ]
  },
  {
   "cell_type": "code",
   "execution_count": 276,
   "metadata": {},
   "outputs": [
    {
     "data": {
      "image/png": "[encoded data removed]",
      "text/plain": [
       "<Figure size 720x576 with 2 Axes>"
      ]
     },
     "metadata": {
      "needs_background": "light"
     },
     "output_type": "display_data"
    }
   ],
   "source": [
    "heat_map_confusion_matrix(y_val_over, logit_pipeline_2_balanced.predict(x_val_over), tickes= label_encode_dict.keys()\n",
    "    , x_label= 'Predicted Values', y_label = 'Correct values')"
   ]
  },
  {
   "cell_type": "code",
   "execution_count": 277,
   "metadata": {},
   "outputs": [
    {
     "name": "stdout",
     "output_type": "stream",
     "text": [
      "              precision    recall  f1-score   support\n",
      "\n",
      "           0       0.88      0.86      0.87       349\n",
      "           1       0.77      0.84      0.80       387\n",
      "           2       0.93      0.86      0.89       385\n",
      "\n",
      "    accuracy                           0.85      1121\n",
      "   macro avg       0.86      0.85      0.86      1121\n",
      "weighted avg       0.86      0.85      0.86      1121\n",
      "\n"
     ]
    }
   ],
   "source": [
    "print(classification_report(y_val_over, logit_pipeline_2_balanced.predict(x_val_over)))"
   ]
  },
  {
   "cell_type": "markdown",
   "metadata": {},
   "source": [
    "As we can see, this scores are uniform, there is no big difference in between classes. \n",
    "\n",
    "So we going to finalize this logistic model on balance dataset"
   ]
  },
  {
   "cell_type": "markdown",
   "metadata": {},
   "source": [
    "### Grid Search on N-gram and Logistic parameters"
   ]
  },
  {
   "cell_type": "code",
   "execution_count": 280,
   "metadata": {},
   "outputs": [],
   "source": [
    "logit_pipeline_n_gram_unbalanced = make_pipeline(CountVectorizer(), LogisticRegression())"
   ]
  },
  {
   "cell_type": "code",
   "execution_count": 290,
   "metadata": {},
   "outputs": [],
   "source": [
    "params = {'logisticregression__C': [0.01,0.1,1,10,100], 'logisticregression__max_iter':[500], \n",
    "        'logisticregression__tol': [1e-2,1e-3,1e-4], 'countvectorizer__ngram_range': [(2,2),(3,3)]}"
   ]
  },
  {
   "cell_type": "code",
   "execution_count": 291,
   "metadata": {},
   "outputs": [
    {
     "data": {
      "text/plain": [
       "GridSearchCV(estimator=Pipeline(steps=[('countvectorizer', CountVectorizer()),\n",
       "                                       ('logisticregression',\n",
       "                                        LogisticRegression())]),\n",
       "             param_grid={'countvectorizer__ngram_range': [(2, 2), (3, 3)],\n",
       "                         'logisticregression__C': [0.01, 0.1, 1, 10, 100],\n",
       "                         'logisticregression__max_iter': [500],\n",
       "                         'logisticregression__tol': [0.01, 0.001, 0.0001]})"
      ]
     },
     "execution_count": 291,
     "metadata": {},
     "output_type": "execute_result"
    }
   ],
   "source": [
    "grid_n_gram = GridSearchCV(logit_pipeline_n_gram_unbalanced, param_grid= params)\n",
    "grid_n_gram.fit(x_train, y_train)"
   ]
  },
  {
   "cell_type": "code",
   "execution_count": 313,
   "metadata": {},
   "outputs": [
    {
     "data": {
      "text/plain": [
       "({'countvectorizer__ngram_range': (2, 2),\n",
       "  'logisticregression__C': 1,\n",
       "  'logisticregression__max_iter': 500,\n",
       "  'logisticregression__tol': 0.01},\n",
       " 0.6579861111111112)"
      ]
     },
     "execution_count": 313,
     "metadata": {},
     "output_type": "execute_result"
    }
   ],
   "source": [
    "grid_n_gram.best_params_, grid_n_gram.best_score_"
   ]
  },
  {
   "cell_type": "markdown",
   "metadata": {},
   "source": [
    "### Bi-gram model and tri-gram model"
   ]
  },
  {
   "cell_type": "markdown",
   "metadata": {},
   "source": [
    "#### Logistic model 1"
   ]
  },
  {
   "cell_type": "markdown",
   "metadata": {},
   "source": [
    "As we learn from previous models, that the unbalance dataset is getting baised toward positive class, \n",
    "\n",
    "so now we are training our next models only on balanced dataset"
   ]
  },
  {
   "cell_type": "code",
   "execution_count": 295,
   "metadata": {},
   "outputs": [
    {
     "name": "stdout",
     "output_type": "stream",
     "text": [
      "F1 score for Training is 0.9919538808299929\n",
      "F1 score for Validation is 0.7438099440417013\n"
     ]
    }
   ],
   "source": [
    "logit_pipeline_bigram = make_pipeline(CountVectorizer(ngram_range= (2,2)), LogisticRegression(max_iter= 500))\n",
    "logit_pipeline_bigram.fit(x_train_over, y_train_over)\n",
    "f1_score_fun(x_train_over, y_train_over, logit_pipeline_bigram, 'Training')\n",
    "f1_score_fun(x_val_over, y_val_over, logit_pipeline_bigram, 'Validation')"
   ]
  },
  {
   "cell_type": "markdown",
   "metadata": {},
   "source": [
    "The F1 score for validation is pretity bad, so lets move to GridSearch"
   ]
  },
  {
   "cell_type": "markdown",
   "metadata": {},
   "source": [
    "#### Grid Search"
   ]
  },
  {
   "cell_type": "code",
   "execution_count": 300,
   "metadata": {},
   "outputs": [],
   "source": [
    "logit_pipeline_bigram_gridsearch = make_pipeline(CountVectorizer(), LogisticRegression(max_iter=500 ))"
   ]
  },
  {
   "cell_type": "code",
   "execution_count": 301,
   "metadata": {},
   "outputs": [
    {
     "data": {
      "text/plain": [
       "GridSearchCV(estimator=Pipeline(steps=[('countvectorizer', CountVectorizer()),\n",
       "                                       ('logisticregression',\n",
       "                                        LogisticRegression(max_iter=500))]),\n",
       "             param_grid={'countvectorizer__ngram_range': [(1, 2), (2, 2)],\n",
       "                         'logisticregression__C': [0.01, 0.1, 10, 100],\n",
       "                         'logisticregression__tol': [0.001, 0.0001]})"
      ]
     },
     "execution_count": 301,
     "metadata": {},
     "output_type": "execute_result"
    }
   ],
   "source": [
    "params = {'logisticregression__C': [0.01,0.1,10,100], 'logisticregression__tol': [1e-3,1e-4], \n",
    "    'countvectorizer__ngram_range': [(1,2),(2,2)]}\n",
    "grid_bigram_logit = GridSearchCV(logit_pipeline_bigram_gridsearch, params)\n",
    "grid_bigram_logit.fit(x_train_over, y_train_over)"
   ]
  },
  {
   "cell_type": "code",
   "execution_count": 302,
   "metadata": {},
   "outputs": [
    {
     "data": {
      "text/plain": [
       "({'countvectorizer__ngram_range': (1, 2),\n",
       "  'logisticregression__C': 10,\n",
       "  'logisticregression__tol': 0.001},\n",
       " 0.8452380952380952)"
      ]
     },
     "execution_count": 302,
     "metadata": {},
     "output_type": "execute_result"
    }
   ],
   "source": [
    "grid_bigram_logit.best_params_, grid_bigram_logit.best_score_"
   ]
  },
  {
   "cell_type": "code",
   "execution_count": 303,
   "metadata": {},
   "outputs": [
    {
     "name": "stdout",
     "output_type": "stream",
     "text": [
      "F1 score for Training is 1.0\n",
      "F1 score for Validation is 0.8662111713968484\n"
     ]
    }
   ],
   "source": [
    "logit_pipeline_bigram_best_param = make_pipeline(CountVectorizer(ngram_range= (1,2)), LogisticRegression(C = 10, tol = 0.001, max_iter= 500))\n",
    "logit_pipeline_bigram_best_param.fit(x_train_over, y_train_over)\n",
    "f1_score_fun(x_train_over, y_train_over, logit_pipeline_bigram_best_param, 'Training')\n",
    "f1_score_fun(x_val_over, y_val_over, logit_pipeline_bigram_best_param, 'Validation')"
   ]
  },
  {
   "cell_type": "code",
   "execution_count": 305,
   "metadata": {},
   "outputs": [
    {
     "data": {
      "image/png": "[encoded data removed]",
      "text/plain": [
       "<Figure size 720x576 with 2 Axes>"
      ]
     },
     "metadata": {
      "needs_background": "light"
     },
     "output_type": "display_data"
    }
   ],
   "source": [
    "heat_map_confusion_matrix(y_val_over, logit_pipeline_bigram_best_param.predict(x_val_over), tickes= label_encode_dict.keys()\n",
    "    ,x_label= 'Predicted', y_label= 'Correct')"
   ]
  },
  {
   "cell_type": "code",
   "execution_count": 306,
   "metadata": {},
   "outputs": [
    {
     "name": "stdout",
     "output_type": "stream",
     "text": [
      "              precision    recall  f1-score   support\n",
      "\n",
      "           0       0.89      0.89      0.89       349\n",
      "           1       0.79      0.84      0.81       387\n",
      "           2       0.93      0.87      0.90       385\n",
      "\n",
      "    accuracy                           0.86      1121\n",
      "   macro avg       0.87      0.87      0.87      1121\n",
      "weighted avg       0.87      0.86      0.87      1121\n",
      "\n"
     ]
    }
   ],
   "source": [
    "print(classification_report(y_val_over, logit_pipeline_bigram_best_param.predict(x_val_over)))"
   ]
  },
  {
   "cell_type": "markdown",
   "metadata": {},
   "source": [
    "#### Logistic model 2"
   ]
  },
  {
   "cell_type": "code",
   "execution_count": 310,
   "metadata": {},
   "outputs": [
    {
     "name": "stdout",
     "output_type": "stream",
     "text": [
      "F1 score for Training is 0.97133759153109\n",
      "F1 score for Validation is 0.8374799240131132\n"
     ]
    }
   ],
   "source": [
    "logit_pipeline_bigram_2 = make_pipeline(CountVectorizer(ngram_range= (1,2)), LogisticRegression(C = 0.1, tol = 0.001, max_iter= 500))\n",
    "logit_pipeline_bigram_2.fit(x_train_over, y_train_over)\n",
    "f1_score_fun(x_train_over, y_train_over, logit_pipeline_bigram_2, 'Training')\n",
    "f1_score_fun(x_val_over, y_val_over, logit_pipeline_bigram_2, 'Validation')"
   ]
  },
  {
   "cell_type": "code",
   "execution_count": 311,
   "metadata": {},
   "outputs": [
    {
     "data": {
      "image/png": "[encoded data removed]",
      "text/plain": [
       "<Figure size 720x576 with 2 Axes>"
      ]
     },
     "metadata": {
      "needs_background": "light"
     },
     "output_type": "display_data"
    }
   ],
   "source": [
    "heat_map_confusion_matrix(y_val_over, logit_pipeline_bigram_2.predict(x_val_over), tickes= label_encode_dict.keys()\n",
    "    ,x_label= 'Predicted', y_label= 'Correct')"
   ]
  },
  {
   "cell_type": "code",
   "execution_count": 312,
   "metadata": {},
   "outputs": [
    {
     "name": "stdout",
     "output_type": "stream",
     "text": [
      "              precision    recall  f1-score   support\n",
      "\n",
      "           0       0.88      0.82      0.85       349\n",
      "           1       0.73      0.84      0.79       387\n",
      "           2       0.92      0.84      0.88       385\n",
      "\n",
      "    accuracy                           0.83      1121\n",
      "   macro avg       0.85      0.83      0.84      1121\n",
      "weighted avg       0.84      0.83      0.84      1121\n",
      "\n"
     ]
    }
   ],
   "source": [
    "print(classification_report(y_val_over, logit_pipeline_bigram_2.predict(x_val_over)))"
   ]
  },
  {
   "cell_type": "markdown",
   "metadata": {},
   "source": [
    "### Tri-gram model"
   ]
  },
  {
   "cell_type": "markdown",
   "metadata": {},
   "source": [
    "#### Logistic model 1"
   ]
  },
  {
   "cell_type": "code",
   "execution_count": 314,
   "metadata": {},
   "outputs": [
    {
     "name": "stdout",
     "output_type": "stream",
     "text": [
      "F1 score for Training is 0.977149625977528\n",
      "F1 score for Validation is 0.6128195904200108\n"
     ]
    }
   ],
   "source": [
    "logit_pipeline_trigram = make_pipeline(CountVectorizer(ngram_range= (3,3)), LogisticRegression(max_iter=500))\n",
    "logit_pipeline_trigram.fit(x_train_over, y_train_over)\n",
    "f1_score_fun(x_train_over, y_train_over, logit_pipeline_trigram, 'Training')\n",
    "f1_score_fun(x_val_over, y_val_over, logit_pipeline_trigram, 'Validation')"
   ]
  },
  {
   "cell_type": "markdown",
   "metadata": {},
   "source": [
    "Very bad validation score, so are not going for trigram model, so now lets check on testing dataset"
   ]
  },
  {
   "cell_type": "markdown",
   "metadata": {},
   "source": [
    "### Final test"
   ]
  },
  {
   "cell_type": "code",
   "execution_count": 315,
   "metadata": {},
   "outputs": [
    {
     "name": "stdout",
     "output_type": "stream",
     "text": [
      "F1 score for Testing of onegram model 1 is 0.8626437525918309\n",
      "F1 score for Testing of onegram model 2 is 0.8548779947789247\n",
      "F1 score for Testing of one+bi-gram model2 is 0.8235090074152249\n"
     ]
    }
   ],
   "source": [
    "f1_score_fun(x_test_over, y_test_over, logit_pipeline_balanced, 'Testing of onegram model 1')\n",
    "f1_score_fun(x_test_over, y_test_over, logit_pipeline_2_balanced, 'Testing of onegram model 2')\n",
    "f1_score_fun(x_test_over, y_test_over, logit_pipeline_bigram_2, 'Testing of one+bi-gram model2')\n",
    "# f1_score_fun(x_test_over, y_test_over, logit_pipeline_bigram_2, 'Testing of bi-gram model2')"
   ]
  },
  {
   "cell_type": "markdown",
   "metadata": {},
   "source": [
    "Also as we know the onegram model1 is getting 99% accuracy on training, so it is somewhat overfitting on training, so we are going forward with **onegram model 2**"
   ]
  },
  {
   "cell_type": "code",
   "execution_count": 318,
   "metadata": {},
   "outputs": [
    {
     "data": {
      "text/plain": [
       "['Model_files/logistic_model.joblib']"
      ]
     },
     "execution_count": 318,
     "metadata": {},
     "output_type": "execute_result"
    }
   ],
   "source": [
    "joblib.dump(logit_pipeline_2_balanced, 'Model_files/logistic_model.joblib')"
   ]
  },
  {
   "cell_type": "code",
   "execution_count": 339,
   "metadata": {},
   "outputs": [
    {
     "data": {
      "text/plain": [
       "['Model_files/logistic_bigram.joblib']"
      ]
     },
     "execution_count": 339,
     "metadata": {},
     "output_type": "execute_result"
    }
   ],
   "source": [
    "joblib.dump(logit_pipeline_bigram_2, 'Model_files/logistic_bigram.joblib')"
   ]
  },
  {
   "cell_type": "markdown",
   "metadata": {},
   "source": [
    "## Logistic Model TF-IDF"
   ]
  },
  {
   "cell_type": "markdown",
   "metadata": {},
   "source": [
    "#### Logistic model 1"
   ]
  },
  {
   "cell_type": "code",
   "execution_count": null,
   "metadata": {},
   "outputs": [],
   "source": []
  },
  {
   "cell_type": "code",
   "execution_count": 321,
   "metadata": {},
   "outputs": [
    {
     "data": {
      "text/plain": [
       "Pipeline(steps=[('tfidfvectorizer', TfidfVectorizer()),\n",
       "                ('logisticregression', LogisticRegression(max_iter=500))])"
      ]
     },
     "execution_count": 321,
     "metadata": {},
     "output_type": "execute_result"
    }
   ],
   "source": [
    "logit_pipeline_tfidf = make_pipeline(TfidfVectorizer(), LogisticRegression(max_iter= 500))\n",
    "logit_pipeline_tfidf.fit(x_train_over, y_train_over)"
   ]
  },
  {
   "cell_type": "code",
   "execution_count": 322,
   "metadata": {},
   "outputs": [
    {
     "name": "stdout",
     "output_type": "stream",
     "text": [
      "F1 score for Training is 0.9134740010637096\n",
      "F1 score for Validation is 0.7856353954670814\n"
     ]
    }
   ],
   "source": [
    "f1_score_fun(x_train_over, y_train_over, logit_pipeline_tfidf, 'Training')\n",
    "f1_score_fun(x_val_over, y_val_over, logit_pipeline_tfidf, 'Validation' )"
   ]
  },
  {
   "cell_type": "code",
   "execution_count": 323,
   "metadata": {},
   "outputs": [
    {
     "data": {
      "image/png": "[encoded data removed]",
      "text/plain": [
       "<Figure size 720x576 with 2 Axes>"
      ]
     },
     "metadata": {
      "needs_background": "light"
     },
     "output_type": "display_data"
    }
   ],
   "source": [
    "heat_map_confusion_matrix(y_val_over, logit_pipeline_tfidf.predict(x_val_over), tickes= label_encode_dict.keys()\n",
    "    , x_label= 'Predicted Values', y_label = 'Correct values')"
   ]
  },
  {
   "cell_type": "code",
   "execution_count": 324,
   "metadata": {},
   "outputs": [
    {
     "name": "stdout",
     "output_type": "stream",
     "text": [
      "              precision    recall  f1-score   support\n",
      "\n",
      "           0       0.87      0.84      0.85       349\n",
      "           1       0.69      0.71      0.70       387\n",
      "           2       0.80      0.80      0.80       385\n",
      "\n",
      "    accuracy                           0.78      1121\n",
      "   macro avg       0.79      0.78      0.79      1121\n",
      "weighted avg       0.78      0.78      0.78      1121\n",
      "\n"
     ]
    }
   ],
   "source": [
    "print(classification_report(y_val_over, logit_pipeline_tfidf.predict(x_val_over)))"
   ]
  },
  {
   "cell_type": "markdown",
   "metadata": {},
   "source": [
    "### Grid Search"
   ]
  },
  {
   "cell_type": "code",
   "execution_count": 326,
   "metadata": {},
   "outputs": [
    {
     "data": {
      "text/plain": [
       "({'analyzer': 'word',\n",
       "  'binary': False,\n",
       "  'decode_error': 'strict',\n",
       "  'dtype': numpy.float64,\n",
       "  'encoding': 'utf-8',\n",
       "  'input': 'content',\n",
       "  'lowercase': True,\n",
       "  'max_df': 1.0,\n",
       "  'max_features': None,\n",
       "  'min_df': 1,\n",
       "  'ngram_range': (1, 1),\n",
       "  'norm': 'l2',\n",
       "  'preprocessor': None,\n",
       "  'smooth_idf': True,\n",
       "  'stop_words': None,\n",
       "  'strip_accents': None,\n",
       "  'sublinear_tf': False,\n",
       "  'token_pattern': '(?u)\\\\b\\\\w\\\\w+\\\\b',\n",
       "  'tokenizer': None,\n",
       "  'use_idf': True,\n",
       "  'vocabulary': None},\n",
       " {'C': 1.0,\n",
       "  'class_weight': None,\n",
       "  'dual': False,\n",
       "  'fit_intercept': True,\n",
       "  'intercept_scaling': 1,\n",
       "  'l1_ratio': None,\n",
       "  'max_iter': 100,\n",
       "  'multi_class': 'auto',\n",
       "  'n_jobs': None,\n",
       "  'penalty': 'l2',\n",
       "  'random_state': None,\n",
       "  'solver': 'lbfgs',\n",
       "  'tol': 0.0001,\n",
       "  'verbose': 0,\n",
       "  'warm_start': False})"
      ]
     },
     "execution_count": 326,
     "metadata": {},
     "output_type": "execute_result"
    }
   ],
   "source": [
    "TfidfVectorizer().get_params(), LogisticRegression().get_params()"
   ]
  },
  {
   "cell_type": "code",
   "execution_count": 327,
   "metadata": {},
   "outputs": [
    {
     "data": {
      "text/plain": [
       "GridSearchCV(estimator=Pipeline(steps=[('tfidfvectorizer', TfidfVectorizer()),\n",
       "                                       ('logisticregression',\n",
       "                                        LogisticRegression(max_iter=500))]),\n",
       "             param_grid={'logisticregression__C': [100, 10, 0.1, 0.01],\n",
       "                         'tfidfvectorizer__min_df': [1, 5, 10],\n",
       "                         'tfidfvectorizer__ngram_range': [(1, 1), (1, 2),\n",
       "                                                          (2, 2)]})"
      ]
     },
     "execution_count": 327,
     "metadata": {},
     "output_type": "execute_result"
    }
   ],
   "source": [
    "logit_pipeline_grid_tfidf = make_pipeline(TfidfVectorizer(), LogisticRegression(max_iter= 500))\n",
    "param = {'tfidfvectorizer__ngram_range': [(1,1),(1,2),(2,2)], 'tfidfvectorizer__min_df' :[1,5,10],\n",
    "    'logisticregression__C': [100,10,0.1,0.01]}\n",
    "grid_tfidf = GridSearchCV(logit_pipeline_grid_tfidf, param)\n",
    "grid_tfidf.fit(x_train_over, y_train_over)"
   ]
  },
  {
   "cell_type": "code",
   "execution_count": 328,
   "metadata": {},
   "outputs": [
    {
     "data": {
      "text/plain": [
       "(0.8098214285714285,\n",
       " {'logisticregression__C': 10,\n",
       "  'tfidfvectorizer__min_df': 10,\n",
       "  'tfidfvectorizer__ngram_range': (1, 1)})"
      ]
     },
     "execution_count": 328,
     "metadata": {},
     "output_type": "execute_result"
    }
   ],
   "source": [
    "grid_tfidf.best_score_, grid_tfidf.best_params_ "
   ]
  },
  {
   "cell_type": "code",
   "execution_count": 343,
   "metadata": {},
   "outputs": [
    {
     "name": "stdout",
     "output_type": "stream",
     "text": [
      "F1 score for Training is 0.8925145190865024\n",
      "F1 score for Validation is 0.8095487127450598\n"
     ]
    }
   ],
   "source": [
    "logit_pipeline_tfidf2 = make_pipeline(TfidfVectorizer(ngram_range= (1,1), min_df= 10), LogisticRegression(C = 10, max_iter= 500))\n",
    "logit_pipeline_tfidf2.fit(x_train_over, y_train_over)\n",
    "f1_score_fun(x_train, y_train, logit_pipeline_tfidf2, 'Training' )\n",
    "f1_score_fun(x_val_over, y_val_over, logit_pipeline_tfidf2, 'Validation' )"
   ]
  },
  {
   "cell_type": "code",
   "execution_count": 345,
   "metadata": {},
   "outputs": [
    {
     "data": {
      "image/png": "[encoded data removed]",
      "text/plain": [
       "<Figure size 720x576 with 2 Axes>"
      ]
     },
     "metadata": {
      "needs_background": "light"
     },
     "output_type": "display_data"
    }
   ],
   "source": [
    "heat_map_confusion_matrix(y_val_over, logit_pipeline_tfidf2.predict(x_val_over), tickes= label_encode_dict.keys())"
   ]
  },
  {
   "cell_type": "code",
   "execution_count": 346,
   "metadata": {},
   "outputs": [
    {
     "name": "stdout",
     "output_type": "stream",
     "text": [
      "              precision    recall  f1-score   support\n",
      "\n",
      "           0       0.86      0.87      0.86       349\n",
      "           1       0.71      0.78      0.74       387\n",
      "           2       0.87      0.78      0.82       385\n",
      "\n",
      "    accuracy                           0.81      1121\n",
      "   macro avg       0.81      0.81      0.81      1121\n",
      "weighted avg       0.81      0.81      0.81      1121\n",
      "\n"
     ]
    }
   ],
   "source": [
    "print(classification_report(y_val_over, logit_pipeline_tfidf2.predict(x_val_over)))"
   ]
  },
  {
   "cell_type": "code",
   "execution_count": 348,
   "metadata": {},
   "outputs": [
    {
     "name": "stdout",
     "output_type": "stream",
     "text": [
      "F1 score for Testing is 0.821212381793687\n"
     ]
    }
   ],
   "source": [
    "f1_score_fun(x_test_over, y_test_over, logit_pipeline_tfidf2, 'Testing')"
   ]
  },
  {
   "cell_type": "markdown",
   "metadata": {},
   "source": [
    "As we can see the Logistic model using TF-IDF vectorizer is not giving better accuracy that Countvectorizer.\n",
    "\n",
    "So we are going to finalize the previous Logistic model"
   ]
  },
  {
   "cell_type": "code",
   "execution_count": null,
   "metadata": {},
   "outputs": [],
   "source": []
  }
 ],
 "metadata": {
  "interpreter": {
   "hash": "f4e04f42c045def5aa7d79311fcd976240163128e37e7a373751b42951a60e82"
  },
  "kernelspec": {
   "display_name": "Python 3.9.7 64-bit (conda)",
   "language": "python",
   "name": "python3"
  },
  "language_info": {
   "codemirror_mode": {
    "name": "ipython",
    "version": 3
   },
   "file_extension": ".py",
   "mimetype": "text/x-python",
   "name": "python",
   "nbconvert_exporter": "python",
   "pygments_lexer": "ipython3",
   "version": "3.9.7"
  },
  "orig_nbformat": 4
 },
 "nbformat": 4,
 "nbformat_minor": 2
}
